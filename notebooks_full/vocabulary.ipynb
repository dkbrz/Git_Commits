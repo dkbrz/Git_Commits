{
 "cells": [
  {
   "cell_type": "markdown",
   "metadata": {},
   "source": [
    "# Vocabulary"
   ]
  },
  {
   "cell_type": "code",
   "execution_count": 1,
   "metadata": {},
   "outputs": [],
   "source": [
    "import warnings\n",
    "warnings.filterwarnings(\"ignore\")\n",
    "from collections import defaultdict\n",
    "from tqdm.autonotebook import tqdm\n",
    "#import pandas as pd\n",
    "import mysql.connector\n",
    "import codecs\n",
    "codecs.register(lambda name: codecs.lookup('utf8') if name == 'utf8mb4' else None)\n",
    "import conllu\n",
    "from nltk import ngrams"
   ]
  },
  {
   "cell_type": "code",
   "execution_count": 2,
   "metadata": {},
   "outputs": [],
   "source": [
    "import matplotlib.pyplot as plt\n",
    "import pandas as pd\n",
    "import numpy as np"
   ]
  },
  {
   "cell_type": "code",
   "execution_count": 3,
   "metadata": {},
   "outputs": [],
   "source": [
    "mydb = mysql.connector.connect(\n",
    "  host=\"localhost\",\n",
    "  user=\"root\",\n",
    "  passwd='password',\n",
    "  #database=\"small_commits_db\"\n",
    "  database='commits_db',\n",
    "  charset='utf8mb4')\n",
    "\n",
    "mycursor = mydb.cursor()"
   ]
  },
  {
   "cell_type": "markdown",
   "metadata": {},
   "source": [
    "### top languages"
   ]
  },
  {
   "cell_type": "code",
   "execution_count": 4,
   "metadata": {},
   "outputs": [],
   "source": [
    "mycursor.execute('SELECT DISTINCT count(id), language from R GROUP BY language')\n",
    "languages = {}\n",
    "for i in mycursor.fetchall():\n",
    "    if i[0] > 1000 and i[1] is not None:\n",
    "        languages[i[1]] = (i[0], len(languages),)"
   ]
  },
  {
   "cell_type": "code",
   "execution_count": 5,
   "metadata": {},
   "outputs": [
    {
     "name": "stdout",
     "output_type": "stream",
     "text": [
      "JavaScript (17480, 7)\n",
      "Python (8689, 10)\n",
      "Java (8357, 6)\n",
      "Objective-C (3890, 8)\n",
      "PHP (3540, 9)\n",
      "Go (3496, 4)\n",
      "C++ (3449, 2)\n",
      "Ruby (3379, 11)\n",
      "C (3202, 0)\n",
      "Swift (2222, 13)\n",
      "HTML (2150, 5)\n",
      "C# (2019, 1)\n",
      "Shell (1770, 12)\n",
      "CSS (1675, 3)\n",
      "TypeScript (1145, 14)\n"
     ]
    }
   ],
   "source": [
    "for i in sorted(languages, key=languages.get, reverse=True):\n",
    "    print (i, languages[i])"
   ]
  },
  {
   "cell_type": "markdown",
   "metadata": {},
   "source": [
    "### frequency dictinonary"
   ]
  },
  {
   "cell_type": "code",
   "execution_count": 8,
   "metadata": {},
   "outputs": [],
   "source": [
    "def yield_lemma_pos():\n",
    "    mycursor.execute('SELECT conllu, language FROM C LEFT JOIN R ON C.repo_id=R.gh_id')\n",
    "    text = mycursor.fetchone()\n",
    "    #print (text)\n",
    "    while text:\n",
    "        doc = conllu.parse(text[0])\n",
    "        for sent in doc:\n",
    "            yield text[1], [i['lemma']+'_'+i['upostag'] for i in sent.tokens]\n",
    "        text = mycursor.fetchone()"
   ]
  },
  {
   "cell_type": "code",
   "execution_count": 9,
   "metadata": {},
   "outputs": [
    {
     "data": {
      "application/vnd.jupyter.widget-view+json": {
       "model_id": "da1e25146ead4ef7922a741065904c4f",
       "version_major": 2,
       "version_minor": 0
      },
      "text/plain": [
       "HBox(children=(IntProgress(value=1, bar_style='info', max=1), HTML(value='')))"
      ]
     },
     "metadata": {},
     "output_type": "display_data"
    },
    {
     "name": "stdout",
     "output_type": "stream",
     "text": [
      "\n"
     ]
    }
   ],
   "source": [
    "dictionary = defaultdict(lambda: [0]*(len(languages)+1))\n",
    "#commits = CommitIterator2()\n",
    "for item in tqdm(yield_lemma_pos()):\n",
    "    #print (sent)\n",
    "    lang, sent = item\n",
    "    try:\n",
    "        lang = languages[lang][1]\n",
    "    except:\n",
    "        lang = -1\n",
    "    for word in sent:\n",
    "        item = word.replace('_','')\n",
    "        if item.isalnum() and not item.isnumeric():\n",
    "            dictionary[word][lang] += 1"
   ]
  },
  {
   "cell_type": "code",
   "execution_count": 10,
   "metadata": {},
   "outputs": [],
   "source": [
    "with open('frequency_dict.csv', 'w') as f:\n",
    "    header = ['Lemma', 'POS']+[i for i in sorted(languages, key=lambda x: languages[x][1])]+['Other']\n",
    "    f.write('\\t'.join(header)+'\\n')\n",
    "    for key in sorted(dictionary, key=lambda x: sum(dictionary[x]), reverse=True):\n",
    "        word_and_pos = key.split('_')\n",
    "        pos = word_and_pos[-1]\n",
    "        word = '_'.join(word_and_pos[:-1])\n",
    "        row = [word, pos]+[str(i) for i in dictionary[key]]\n",
    "        f.write('\\t'.join(row)+'\\n')"
   ]
  },
  {
   "cell_type": "code",
   "execution_count": 11,
   "metadata": {},
   "outputs": [
    {
     "name": "stdout",
     "output_type": "stream",
     "text": [
      "Lemma\tPOS\tC\tC#\tC++\tCSS\tGo\tHTML\tJava\tJavaScript\tObjective-C\tPHP\tPython\tRuby\tShell\tSwift\tTypeScript\tOther\r\n",
      "the\tDET\t6289521\t913718\t5531907\t106821\t1213874\t458676\t2927720\t2461062\t276228\t1843475\t2821761\t1473350\t325540\t117084\t216396\t5362961\r\n",
      "be\tAUX\t3981615\t542228\t3509888\t53897\t727702\t244351\t2038527\t1536526\t164550\t1149695\t1758537\t875402\t216100\t64745\t133059\t3392836\r\n"
     ]
    }
   ],
   "source": [
    "! head -n 3 frequency_dict.csv"
   ]
  },
  {
   "cell_type": "code",
   "execution_count": 11,
   "metadata": {},
   "outputs": [
    {
     "data": {
      "application/vnd.jupyter.widget-view+json": {
       "model_id": "04258e084b844e0194d8dbf692993ac8",
       "version_major": 2,
       "version_minor": 0
      },
      "text/plain": [
       "HBox(children=(IntProgress(value=1, bar_style='info', max=1), HTML(value='')))"
      ]
     },
     "metadata": {},
     "output_type": "display_data"
    },
    {
     "name": "stdout",
     "output_type": "stream",
     "text": [
      "\n"
     ]
    }
   ],
   "source": [
    "from collections import defaultdict\n",
    "\n",
    "dct = defaultdict(lambda: np.zeros(16))\n",
    "k = 0\n",
    "for line in tqdm(open('frequency_dict.csv')):\n",
    "    if k == 0:\n",
    "        header = line.strip()\n",
    "        k += 1\n",
    "    else:\n",
    "        row = line.strip().split('\\t')\n",
    "        if row[1] != 'PROPN':\n",
    "            row[0] = row[0].lower()\n",
    "        nmbrs = [int(i) for i in row[2:]]\n",
    "        #print(nmbrs)\n",
    "        nmbrs = np.array(nmbrs)\n",
    "        dct[(row[0], row[1])] += nmbrs"
   ]
  },
  {
   "cell_type": "code",
   "execution_count": 13,
   "metadata": {},
   "outputs": [],
   "source": [
    "with open('frequency_dict_proc.csv', 'w') as f:\n",
    "    #header = ['Lemma', 'POS']+[i for i in sorted(languages, key=lambda x: languages[x][1])]+['Other']\n",
    "    f.write(header+'\\tTotal\\n')\n",
    "    for key in sorted(dct, key=lambda x: sum(dct[x]), reverse=True):\n",
    "        if sum(dct[key]) > 100:\n",
    "            word, pos = key\n",
    "            row = [word, pos]+[str(int(i)) for i in dct[key]]+[str(int(sum(dct[key])))]\n",
    "            f.write('\\t'.join(row)+'\\n')"
   ]
  },
  {
   "cell_type": "code",
   "execution_count": null,
   "metadata": {},
   "outputs": [
    {
     "data": {
      "text/plain": [
       "16621670"
      ]
     },
     "execution_count": 14,
     "metadata": {},
     "output_type": "execute_result"
    }
   ],
   "source": [
    "len(dct)"
   ]
  },
  {
   "cell_type": "code",
   "execution_count": 1,
   "metadata": {},
   "outputs": [
    {
     "name": "stderr",
     "output_type": "stream",
     "text": [
      "/home/glznv/.local/lib/python3.5/site-packages/tqdm/autonotebook/__init__.py:14: TqdmExperimentalWarning: Using `tqdm.autonotebook.tqdm` in notebook mode. Use `tqdm.tqdm` instead to force console mode (e.g. in jupyter console)\n",
      "  \" (e.g. in jupyter console)\", TqdmExperimentalWarning)\n"
     ]
    },
    {
     "data": {
      "application/vnd.jupyter.widget-view+json": {
       "model_id": "377f54b2538e411f9d0b66f7bdf82ef4",
       "version_major": 2,
       "version_minor": 0
      },
      "text/plain": [
       "HBox(children=(IntProgress(value=1, bar_style='info', max=1), HTML(value='')))"
      ]
     },
     "metadata": {},
     "output_type": "display_data"
    },
    {
     "name": "stdout",
     "output_type": "stream",
     "text": [
      "\n"
     ]
    }
   ],
   "source": [
    "from collections import defaultdict\n",
    "from tqdm.autonotebook import tqdm\n",
    "import numpy as np\n",
    "\n",
    "dct = defaultdict(lambda: np.zeros(16))\n",
    "k = 0\n",
    "for line in tqdm(open('frequency_dict.csv')):\n",
    "    if k == 0:\n",
    "        header = line.strip()\n",
    "        k += 1\n",
    "    else:\n",
    "        row = line.strip().split('\\t')\n",
    "        if row[1] != 'PROPN':\n",
    "            row[0] = row[0].lower()\n",
    "            nmbrs = [int(i) for i in row[2:]]\n",
    "            #print(nmbrs)\n",
    "            nmbrs = np.array(nmbrs)\n",
    "            dct[row[0]] += nmbrs"
   ]
  },
  {
   "cell_type": "code",
   "execution_count": 2,
   "metadata": {},
   "outputs": [],
   "source": [
    "with open('frequency_dict_no_pos_proc.csv', 'w') as f:\n",
    "    #header = ['Lemma', 'POS']+[i for i in sorted(languages, key=lambda x: languages[x][1])]+['Other']\n",
    "    f.write(header+'\\tTotal\\n')\n",
    "    for key in sorted(dct, key=lambda x: sum(dct[x]), reverse=True):\n",
    "        if sum(dct[key]) > 100:\n",
    "            row = [key]+[str(int(i)) for i in dct[key]]+[str(int(sum(dct[key])))]\n",
    "            f.write('\\t'.join(row)+'\\n')"
   ]
  },
  {
   "cell_type": "code",
   "execution_count": 16,
   "metadata": {},
   "outputs": [
    {
     "ename": "NameError",
     "evalue": "name 'dct' is not defined",
     "output_type": "error",
     "traceback": [
      "\u001b[0;31m---------------------------------------------------------------------------\u001b[0m",
      "\u001b[0;31mNameError\u001b[0m                                 Traceback (most recent call last)",
      "\u001b[0;32m<ipython-input-16-73cce9a97770>\u001b[0m in \u001b[0;36m<module>\u001b[0;34m\u001b[0m\n\u001b[0;32m----> 1\u001b[0;31m \u001b[0mlen\u001b[0m\u001b[0;34m(\u001b[0m\u001b[0mdct\u001b[0m\u001b[0;34m)\u001b[0m\u001b[0;34m\u001b[0m\u001b[0m\n\u001b[0m",
      "\u001b[0;31mNameError\u001b[0m: name 'dct' is not defined"
     ]
    }
   ],
   "source": [
    "len(dct)"
   ]
  },
  {
   "cell_type": "code",
   "execution_count": 4,
   "metadata": {},
   "outputs": [
    {
     "data": {
      "application/vnd.jupyter.widget-view+json": {
       "model_id": "408748e10b94457697a77993cf04ac8a",
       "version_major": 2,
       "version_minor": 0
      },
      "text/plain": [
       "HBox(children=(IntProgress(value=1, bar_style='info', max=1), HTML(value='')))"
      ]
     },
     "metadata": {},
     "output_type": "display_data"
    },
    {
     "name": "stdout",
     "output_type": "stream",
     "text": [
      "\n"
     ]
    },
    {
     "data": {
      "text/plain": [
       "array([1.81315091e+08, 3.16582390e+07, 1.74045202e+08, 4.92017000e+06,\n",
       "       4.20961960e+07, 1.79098700e+07, 1.09853510e+08, 1.03324339e+08,\n",
       "       1.00070100e+07, 7.11362970e+07, 1.02093863e+08, 5.06639010e+07,\n",
       "       1.53222890e+07, 5.61040200e+06, 1.09786910e+07, 1.81107190e+08])"
      ]
     },
     "execution_count": 4,
     "metadata": {},
     "output_type": "execute_result"
    }
   ],
   "source": [
    "from collections import defaultdict\n",
    "from tqdm.autonotebook import tqdm\n",
    "import numpy as np\n",
    "\n",
    "total = np.zeros(16)\n",
    "k = 0\n",
    "for line in tqdm(open('frequency_dict.csv')):\n",
    "    if k == 0:\n",
    "        header = line.strip()\n",
    "        k += 1\n",
    "    else:\n",
    "        row = line.strip().split('\\t')\n",
    "        nmbrs = [int(i) for i in row[2:]]\n",
    "        nmbrs = np.array(nmbrs)\n",
    "        total += nmbrs\n",
    "total"
   ]
  },
  {
   "cell_type": "code",
   "execution_count": 6,
   "metadata": {},
   "outputs": [
    {
     "name": "stdout",
     "output_type": "stream",
     "text": [
      "C \t 181315091\n",
      "C# \t 31658239\n",
      "C++ \t 174045202\n",
      "CSS \t 4920170\n",
      "Go \t 42096196\n",
      "HTML \t 17909870\n",
      "Java \t 109853510\n",
      "JavaScript \t 103324339\n",
      "Objective-C \t 10007010\n",
      "PHP \t 71136297\n",
      "Python \t 102093863\n",
      "Ruby \t 50663901\n",
      "Shell \t 15322289\n",
      "Swift \t 5610402\n",
      "TypeScript \t 10978691\n",
      "Other \t 181107190\n"
     ]
    }
   ],
   "source": [
    "names = header.strip().split('\\t')[2:]\n",
    "for key, value in enumerate(names):\n",
    "    print (value, '\\t', int(total[key]))"
   ]
  },
  {
   "cell_type": "code",
   "execution_count": 10,
   "metadata": {},
   "outputs": [
    {
     "data": {
      "text/plain": [
       "1112042260"
      ]
     },
     "execution_count": 10,
     "metadata": {},
     "output_type": "execute_result"
    }
   ],
   "source": [
    "int(sum(total))"
   ]
  },
  {
   "cell_type": "code",
   "execution_count": 9,
   "metadata": {},
   "outputs": [
    {
     "data": {
      "text/plain": [
       "14.827230133333334"
      ]
     },
     "execution_count": 9,
     "metadata": {},
     "output_type": "execute_result"
    }
   ],
   "source": [
    "sum(total)/75000000"
   ]
  },
  {
   "cell_type": "markdown",
   "metadata": {},
   "source": [
    "### number of words in corpora"
   ]
  },
  {
   "cell_type": "code",
   "execution_count": null,
   "metadata": {},
   "outputs": [],
   "source": [
    "total = 0\n",
    "for item in tqdm(yield_lemma_pos()):\n",
    "    #print (sent)\n",
    "    lang, sent = item\n",
    "    total += len(sent)\n",
    "total"
   ]
  },
  {
   "cell_type": "code",
   "execution_count": null,
   "metadata": {},
   "outputs": [],
   "source": [
    "len(dictionary)"
   ]
  },
  {
   "cell_type": "code",
   "execution_count": 13,
   "metadata": {},
   "outputs": [
    {
     "data": {
      "text/plain": [
       "43.38526239137598"
      ]
     },
     "execution_count": 13,
     "metadata": {},
     "output_type": "execute_result"
    }
   ],
   "source": [
    "37654156/len(dictionary)"
   ]
  },
  {
   "cell_type": "markdown",
   "metadata": {},
   "source": [
    "# top ngrams"
   ]
  },
  {
   "cell_type": "code",
   "execution_count": 16,
   "metadata": {},
   "outputs": [],
   "source": [
    "def yield_lemma_pos():\n",
    "    mycursor.execute('SELECT conllu, language FROM C LEFT JOIN R ON C.repo_id=R.gh_id;')\n",
    "    text = mycursor.fetchone()\n",
    "    #print (text)\n",
    "    while text:\n",
    "        doc = conllu.parse(text[0])\n",
    "        for sent in doc:\n",
    "            snt = []\n",
    "            for i in sent.tokens:\n",
    "                if i['upostag'] != 'PROPN':\n",
    "                    snt.append((i['lemma'].lower()+'_'+i['upostag']))\n",
    "                else:\n",
    "                    snt.append(i['lemma']+'_'+i['upostag'])\n",
    "            yield text[1], snt\n",
    "        text = mycursor.fetchone()"
   ]
  },
  {
   "cell_type": "code",
   "execution_count": 7,
   "metadata": {},
   "outputs": [],
   "source": [
    "take = set(['ADJ','ADV','AUX','NOUN','PART','VERB'])"
   ]
  },
  {
   "cell_type": "code",
   "execution_count": null,
   "metadata": {},
   "outputs": [],
   "source": []
  },
  {
   "cell_type": "code",
   "execution_count": 8,
   "metadata": {},
   "outputs": [],
   "source": [
    "def ngram_list(n=2):\n",
    "    dictionary = defaultdict(lambda: [0]*(len(languages)+1))\n",
    "    for item in tqdm(yield_lemma_pos()):\n",
    "        lang, sent = item\n",
    "        \n",
    "        try:\n",
    "            lang = languages[lang][1]\n",
    "        except:\n",
    "            lang = -1\n",
    "        ng = ngrams(sent, n)\n",
    "        for ngram in ng:\n",
    "            ngpos = set([i.split('_')[-1] for i in ngram])\n",
    "            if len(ngpos & take) == len(ngpos):\n",
    "                dictionary[ngram][lang] += 1\n",
    "    \n",
    "    with open('./results/{}grams.csv'.format(n), 'w') as f:\n",
    "        header = ['Ngram']+[i for i in sorted(languages, key=lambda x: languages[x][1])]+['Other']\n",
    "        f.write('\\t'.join(header)+'\\n')\n",
    "        for key in sorted(dictionary, key=lambda x: sum(dictionary[x]), reverse=True):\n",
    "            if sum(dictionary[key]) >= 5:\n",
    "                word = ' '.join(key)\n",
    "                #pos = word_and_pos[-1]\n",
    "                row = [word]+[str(i) for i in dictionary[key]]\n",
    "                f.write('\\t'.join(row)+'\\n')"
   ]
  },
  {
   "cell_type": "code",
   "execution_count": null,
   "metadata": {},
   "outputs": [],
   "source": []
  },
  {
   "cell_type": "code",
   "execution_count": 17,
   "metadata": {},
   "outputs": [
    {
     "data": {
      "application/vnd.jupyter.widget-view+json": {
       "model_id": "c8bd50dca4fb4d7eb79c4d69a02d95c6",
       "version_major": 2,
       "version_minor": 0
      },
      "text/plain": [
       "HBox(children=(IntProgress(value=1, bar_style='info', max=1), HTML(value='')))"
      ]
     },
     "metadata": {},
     "output_type": "display_data"
    },
    {
     "name": "stdout",
     "output_type": "stream",
     "text": [
      "\n"
     ]
    }
   ],
   "source": [
    "    #ngram_list(n=2)\n",
    "    n = 2\n",
    "    dictionary = defaultdict(lambda: [0]*(len(languages)+1))\n",
    "    for item in tqdm(yield_lemma_pos()):\n",
    "        lang, sent = item\n",
    "        \n",
    "        try:\n",
    "            lang = languages[lang][1]\n",
    "        except:\n",
    "            lang = -1\n",
    "        ng = ngrams(sent, n)\n",
    "        for ngram in ng:\n",
    "            ngpos = set([i.split('_')[-1] for i in ngram])\n",
    "            words = ' '.join(['_'.join(i.split('_')[:-1]) for i in ngram])\n",
    "            if len(ngpos & take) == len(ngpos):\n",
    "                dictionary[words][lang] += 1\n",
    "    \n",
    "    with open('./results/{}grams.csv'.format(n), 'w') as f:\n",
    "        header = ['Ngram']+[i for i in sorted(languages, key=lambda x: languages[x][1])]+['Other']\n",
    "        f.write('\\t'.join(header)+'\\n')\n",
    "        for key in sorted(dictionary, key=lambda x: sum(dictionary[x]), reverse=True):\n",
    "            if sum(dictionary[key]) >= 5:\n",
    "                #word = ' '.join(key)\n",
    "                word = key\n",
    "                #pos = word_and_pos[-1]\n",
    "                row = [word]+[str(i) for i in dictionary[key]]\n",
    "                f.write('\\t'.join(row)+'\\n')"
   ]
  },
  {
   "cell_type": "code",
   "execution_count": 15,
   "metadata": {},
   "outputs": [
    {
     "name": "stdout",
     "output_type": "stream",
     "text": [
      "('request', '#') 11\n",
      "('pull', 'request') 11\n",
      "('merge', 'pull') 11\n",
      "('do', 'not') 8\n",
      "('try', 'to') 5\n",
      "('remote', 'branch') 5\n",
      "('merge', 'remote') 5\n"
     ]
    }
   ],
   "source": [
    "dictionary = defaultdict(int)\n",
    "k = 0\n",
    "with open('/home/glznv/GitHub/Git_Commits/notebooks_full/results/2grams.csv') as f:\n",
    "    for line in f:\n",
    "        if k != 0:\n",
    "            ngram = tuple([i.split('_')[-1] for i in line.split('\\t')[0].split()])\n",
    "            summ = sum(int(i) for i in line.split('\\t')[1:])\n",
    "            dictionary[ngram] += summ\n",
    "        else:\n",
    "            k += 1\n",
    "for key in sorted(dictionary, key=dictionary.get, reverse=True):\n",
    "    print (key, dictionary[key])"
   ]
  },
  {
   "cell_type": "code",
   "execution_count": 24,
   "metadata": {},
   "outputs": [],
   "source": [
    "ok_2 = set([('NOUN', 'NOUN'), ('ADJ', 'NOUN'), ('VERB', 'NOUN'), ('VERB', 'ADP'), ('AUX', 'VERB'), \n",
    "          ('ADV', 'VERB'), ('NOUN', 'VERB'),\n",
    "          ('ADP', 'NOUN'), ('VERB', 'ADJ'),  ('VERB', 'ADV')])"
   ]
  },
  {
   "cell_type": "code",
   "execution_count": 25,
   "metadata": {},
   "outputs": [],
   "source": [
    "k = 0\n",
    "with open('/home/dkbrz/GitHub/Git_Commits/results_small/2grams.csv') as fin, \\\n",
    "    open('./results_small/2grams_filtered.csv', 'w') as fout:\n",
    "    for line in fin:\n",
    "        if k != 0:\n",
    "            ngram = tuple([i.split('_')[-1] for i in line.split('\\t')[0].split()])\n",
    "            if ngram in ok_2:\n",
    "                fout.write(line)\n",
    "        else:\n",
    "            fout.write(line)\n",
    "            k += 1"
   ]
  },
  {
   "cell_type": "code",
   "execution_count": 26,
   "metadata": {},
   "outputs": [
    {
     "data": {
      "application/vnd.jupyter.widget-view+json": {
       "model_id": "57569422a1874fca845c3d841eb13446",
       "version_major": 2,
       "version_minor": 0
      },
      "text/plain": [
       "HBox(children=(IntProgress(value=1, bar_style='info', max=1), HTML(value='')))"
      ]
     },
     "metadata": {},
     "output_type": "display_data"
    },
    {
     "name": "stdout",
     "output_type": "stream",
     "text": [
      "\n"
     ]
    }
   ],
   "source": [
    "ngram_list(n=3)"
   ]
  },
  {
   "cell_type": "code",
   "execution_count": null,
   "metadata": {},
   "outputs": [],
   "source": [
    "dictionary = defaultdict(int)\n",
    "k = 0\n",
    "with open('/home/dkbrz/GitHub/Git_Commits/results_small/3grams.csv') as f:\n",
    "    for line in f:\n",
    "        if k != 0:\n",
    "            ngram = tuple([i.split('_')[-1] for i in line.split('\\t')[0].split()])\n",
    "            summ = sum(int(i) for i in line.split('\\t')[1:])\n",
    "            dictionary[ngram] += summ\n",
    "        else:\n",
    "            k += 1\n",
    "for key in sorted(dictionary, key=dictionary.get, reverse=True):\n",
    "    if 'PUNCT' not in key:\n",
    "        print (key, dictionary[key])"
   ]
  },
  {
   "cell_type": "code",
   "execution_count": 11,
   "metadata": {},
   "outputs": [],
   "source": [
    "ok_3 = set([\n",
    "    ('NOUN', 'NOUN', 'NOUN'), ('VERB', 'DET', 'NOUN'), ('AUX', 'PART', 'VERB'), ('NOUN', 'ADP', 'NOUN'),\n",
    "    ('NOUN', 'PART', 'VERB'), ('VERB', 'PART', 'VERB'), ('VERB', 'ADJ', 'NOUN'), ('VERB', 'NOUN', 'NOUN'),\n",
    "    ('VERB', 'ADP', 'NOUN'), ('ADJ', 'NOUN', 'NOUN'), ('AUX', 'AUX', 'VERB'), ('NOUN', 'AUX', 'VERB'),\n",
    "    ('AUX', 'ADV', 'VERB')\n",
    "])"
   ]
  },
  {
   "cell_type": "code",
   "execution_count": 12,
   "metadata": {},
   "outputs": [],
   "source": [
    "k = 0\n",
    "with open('/home/dkbrz/GitHub/Git_Commits/results_small/3grams.csv') as fin, \\\n",
    "    open('./results_small/3grams_filtered.csv', 'w') as fout:\n",
    "    for line in fin:\n",
    "        if k != 0:\n",
    "            ngram = tuple([i.split('_')[-1] for i in line.split('\\t')[0].split()])\n",
    "            if ngram in ok_3:\n",
    "                fout.write(line)\n",
    "        else:\n",
    "            fout.write(line)\n",
    "            k += 1"
   ]
  },
  {
   "cell_type": "code",
   "execution_count": 7,
   "metadata": {},
   "outputs": [
    {
     "data": {
      "application/vnd.jupyter.widget-view+json": {
       "model_id": "6f0c84763662493cb4bfea0bd05bd986",
       "version_major": 2,
       "version_minor": 0
      },
      "text/plain": [
       "HBox(children=(IntProgress(value=1, bar_style='info', max=1), HTML(value='')))"
      ]
     },
     "metadata": {},
     "output_type": "display_data"
    },
    {
     "name": "stdout",
     "output_type": "stream",
     "text": [
      "\n"
     ]
    }
   ],
   "source": [
    "ngram_list(n=4)"
   ]
  },
  {
   "cell_type": "code",
   "execution_count": null,
   "metadata": {},
   "outputs": [],
   "source": [
    "dictionary = defaultdict(int)\n",
    "k = 0\n",
    "with open('/home/dkbrz/GitHub/Git_Commits/results_small/4grams.csv') as f:\n",
    "    for line in f:\n",
    "        if k != 0:\n",
    "            ngram = tuple([i.split('_')[-1] for i in line.split('\\t')[0].split()])\n",
    "            summ = sum(int(i) for i in line.split('\\t')[1:])\n",
    "            dictionary[ngram] += summ\n",
    "        else:\n",
    "            k += 1\n",
    "for key in sorted(dictionary, key=dictionary.get, reverse=True):\n",
    "    if 'PUNCT' not in key:\n",
    "        print (key, dictionary[key])"
   ]
  },
  {
   "cell_type": "code",
   "execution_count": 17,
   "metadata": {},
   "outputs": [],
   "source": [
    "ok_4 = set([\n",
    "    ('NOUN', 'NOUN', 'NOUN', 'NOUN'), ('VERB', 'DET', 'NOUN', 'ADP'),\n",
    "    ('ADP', 'DET', 'ADJ', 'NOUN'), ('NOUN', 'ADP', 'DET', 'NOUN'), ('VERB', 'NOUN', 'ADP', 'NOUN'),\n",
    "    ('VERB', 'DET', 'ADJ', 'NOUN'), ('ADP', 'DET', 'NOUN', 'NOUN'), ('AUX', 'PART', 'VERB', 'ADP'),\n",
    "    ('NOUN', 'ADP', 'NOUN', 'NOUN'), ('NOUN', 'NOUN', 'ADP', 'NOUN'), ('VERB', 'DET', 'NOUN', 'NOUN'),\n",
    "    ('NOUN', 'ADP', 'ADJ', 'NOUN'), ('ADJ', 'NOUN', 'ADP', 'NOUN'),\n",
    "    ('AUX', 'VERB', 'PART', 'VERB')\n",
    "])"
   ]
  },
  {
   "cell_type": "code",
   "execution_count": 18,
   "metadata": {},
   "outputs": [],
   "source": [
    "k = 0\n",
    "with open('/home/dkbrz/GitHub/Git_Commits/results_small/4grams.csv') as fin, \\\n",
    "    open('./results_small/4grams_filtered.csv', 'w') as fout:\n",
    "    for line in fin:\n",
    "        if k != 0:\n",
    "            ngram = tuple([i.split('_')[-1] for i in line.split('\\t')[0].split()])\n",
    "            if ngram in ok_4:\n",
    "                fout.write(line)\n",
    "        else:\n",
    "            fout.write(line)\n",
    "            k += 1"
   ]
  },
  {
   "cell_type": "markdown",
   "metadata": {},
   "source": [
    "### commit length in sentences"
   ]
  },
  {
   "cell_type": "code",
   "execution_count": 19,
   "metadata": {},
   "outputs": [],
   "source": [
    "mydb = mysql.connector.connect(\n",
    "  host=\"localhost\",\n",
    "  user=\"root\",\n",
    "  passwd='password',\n",
    "  #database=\"small_commits_db\"\n",
    "  database='commits_db',\n",
    "  charset='utf8mb4')\n",
    "\n",
    "mycursor = mydb.cursor()"
   ]
  },
  {
   "cell_type": "code",
   "execution_count": 20,
   "metadata": {},
   "outputs": [],
   "source": [
    "def yield_sentences(out='gensim', mode='lemma', joint=True):\n",
    "    mycursor.execute('SELECT conllu, language FROM C LEFT JOIN R ON C.repo_id=R.gh_id')\n",
    "    text = mycursor.fetchmany(1000)\n",
    "    #print (text)\n",
    "    while text:\n",
    "        #doc = conllu.parse(text[0])\n",
    "        #print (doc)\n",
    "        yield text\n",
    "        text = mycursor.fetchmany(1000)"
   ]
  },
  {
   "cell_type": "code",
   "execution_count": 21,
   "metadata": {},
   "outputs": [],
   "source": [
    "import re"
   ]
  },
  {
   "cell_type": "code",
   "execution_count": 22,
   "metadata": {},
   "outputs": [
    {
     "data": {
      "application/vnd.jupyter.widget-view+json": {
       "model_id": "f2dd762306334243b41c7627269fa4c6",
       "version_major": 2,
       "version_minor": 0
      },
      "text/plain": [
       "HBox(children=(IntProgress(value=1, bar_style='info', max=1), HTML(value='')))"
      ]
     },
     "metadata": {},
     "output_type": "display_data"
    }
   ],
   "source": [
    "dictionary = defaultdict(lambda: [0]*(len(languages)+1))\n",
    "for batch in tqdm(yield_sentences(joint=False)):\n",
    "    for item in batch:\n",
    "        lang, doc = item[1], re.findall('# sent_id =', item[0])#conllu.parse(item[0])\n",
    "        if type(doc) == list:\n",
    "            length = len(doc)\n",
    "        else:\n",
    "            length = 1\n",
    "        try:\n",
    "            lang = languages[lang][1]\n",
    "        except:\n",
    "            lang = -1\n",
    "        dictionary[length][lang] += 1"
   ]
  },
  {
   "cell_type": "code",
   "execution_count": 39,
   "metadata": {},
   "outputs": [
    {
     "data": {
      "text/plain": [
       "979"
      ]
     },
     "execution_count": 39,
     "metadata": {},
     "output_type": "execute_result"
    }
   ],
   "source": [
    "len(dictionary)"
   ]
  },
  {
   "cell_type": "code",
   "execution_count": 25,
   "metadata": {},
   "outputs": [],
   "source": [
    "with open('./results/length_in_sentences.csv', 'w') as f:\n",
    "    header = ['Ngram']+[i for i in sorted(languages, key=lambda x: languages[x][1])]+['Other']\n",
    "    f.write('\\t'.join(header)+'\\n')\n",
    "    for key in sorted(dictionary, key=lambda x: sum(dictionary[x]), reverse=True):\n",
    "        word = str(key)\n",
    "        #pos = word_and_pos[-1]\n",
    "        row = [word]+[str(i) for i in dictionary[key]]\n",
    "        f.write('\\t'.join(row)+'\\n')"
   ]
  },
  {
   "cell_type": "code",
   "execution_count": 56,
   "metadata": {},
   "outputs": [],
   "source": [
    "df = pd.read_csv('./results/length_in_sentences.csv', sep='\\t').sort_values(by='Ngram')\n",
    "df['Total'] = df[['Ruby', 'C', 'Java', 'Other', 'C++', 'Python', 'JavaScript', 'PHP',\n",
    "       'C#', 'Objective-C', 'HTML', 'CSS', 'Shell', 'Go', 'Swift']].sum(axis=1)\n",
    "df = df.reindex_axis(sorted(df.columns, key=lambda x: df[x].sum(), reverse=True), axis=1)"
   ]
  },
  {
   "cell_type": "code",
   "execution_count": 57,
   "metadata": {},
   "outputs": [
    {
     "data": {
      "text/plain": [
       "Total          82342665\n",
       "Other          12758436\n",
       "C++            11211826\n",
       "JavaScript     10680034\n",
       "Java            9182463\n",
       "Python          8853404\n",
       "C               8635709\n",
       "PHP             5857592\n",
       "Ruby            3986113\n",
       "C#              2794723\n",
       "Go              2770668\n",
       "HTML            1703028\n",
       "Shell           1516924\n",
       "TypeScript      1220984\n",
       "Objective-C     1028966\n",
       "Swift            708604\n",
       "CSS              654175\n",
       "Ngram            581155\n",
       "dtype: int64"
      ]
     },
     "execution_count": 57,
     "metadata": {},
     "output_type": "execute_result"
    }
   ],
   "source": [
    "df.sum(axis=0)"
   ]
  },
  {
   "cell_type": "code",
   "execution_count": 58,
   "metadata": {},
   "outputs": [],
   "source": [
    "ng = df['Ngram']"
   ]
  },
  {
   "cell_type": "code",
   "execution_count": 59,
   "metadata": {},
   "outputs": [],
   "source": [
    "del df['Ngram'], #df['TypeScript'],  df['Go'], df['Swift']"
   ]
  },
  {
   "cell_type": "code",
   "execution_count": 60,
   "metadata": {},
   "outputs": [],
   "source": [
    "df = df/df.sum()"
   ]
  },
  {
   "cell_type": "code",
   "execution_count": 61,
   "metadata": {},
   "outputs": [
    {
     "data": {
      "text/html": [
       "<div>\n",
       "<style scoped>\n",
       "    .dataframe tbody tr th:only-of-type {\n",
       "        vertical-align: middle;\n",
       "    }\n",
       "\n",
       "    .dataframe tbody tr th {\n",
       "        vertical-align: top;\n",
       "    }\n",
       "\n",
       "    .dataframe thead th {\n",
       "        text-align: right;\n",
       "    }\n",
       "</style>\n",
       "<table border=\"1\" class=\"dataframe\">\n",
       "  <thead>\n",
       "    <tr style=\"text-align: right;\">\n",
       "      <th></th>\n",
       "      <th>Total</th>\n",
       "      <th>Other</th>\n",
       "      <th>C++</th>\n",
       "      <th>JavaScript</th>\n",
       "      <th>Java</th>\n",
       "      <th>Python</th>\n",
       "      <th>C</th>\n",
       "      <th>PHP</th>\n",
       "      <th>Ruby</th>\n",
       "      <th>C#</th>\n",
       "      <th>Go</th>\n",
       "      <th>HTML</th>\n",
       "      <th>Shell</th>\n",
       "      <th>TypeScript</th>\n",
       "      <th>Objective-C</th>\n",
       "      <th>Swift</th>\n",
       "      <th>CSS</th>\n",
       "    </tr>\n",
       "    <tr>\n",
       "      <th>Ngram</th>\n",
       "      <th></th>\n",
       "      <th></th>\n",
       "      <th></th>\n",
       "      <th></th>\n",
       "      <th></th>\n",
       "      <th></th>\n",
       "      <th></th>\n",
       "      <th></th>\n",
       "      <th></th>\n",
       "      <th></th>\n",
       "      <th></th>\n",
       "      <th></th>\n",
       "      <th></th>\n",
       "      <th></th>\n",
       "      <th></th>\n",
       "      <th></th>\n",
       "      <th></th>\n",
       "    </tr>\n",
       "  </thead>\n",
       "  <tbody>\n",
       "    <tr>\n",
       "      <th>0</th>\n",
       "      <td>0.001527</td>\n",
       "      <td>0.000388</td>\n",
       "      <td>0.002201</td>\n",
       "      <td>0.000304</td>\n",
       "      <td>0.002339</td>\n",
       "      <td>0.000697</td>\n",
       "      <td>0.004346</td>\n",
       "      <td>0.001476</td>\n",
       "      <td>0.000133</td>\n",
       "      <td>0.004102</td>\n",
       "      <td>0.001497</td>\n",
       "      <td>0.000880</td>\n",
       "      <td>0.000684</td>\n",
       "      <td>0.000009</td>\n",
       "      <td>0.000299</td>\n",
       "      <td>0.000010</td>\n",
       "      <td>0.000063</td>\n",
       "    </tr>\n",
       "    <tr>\n",
       "      <th>1</th>\n",
       "      <td>0.575462</td>\n",
       "      <td>0.570272</td>\n",
       "      <td>0.518680</td>\n",
       "      <td>0.689391</td>\n",
       "      <td>0.552677</td>\n",
       "      <td>0.630290</td>\n",
       "      <td>0.399158</td>\n",
       "      <td>0.593817</td>\n",
       "      <td>0.597720</td>\n",
       "      <td>0.640675</td>\n",
       "      <td>0.534669</td>\n",
       "      <td>0.619192</td>\n",
       "      <td>0.615959</td>\n",
       "      <td>0.712195</td>\n",
       "      <td>0.682757</td>\n",
       "      <td>0.738448</td>\n",
       "      <td>0.736127</td>\n",
       "    </tr>\n",
       "    <tr>\n",
       "      <th>2</th>\n",
       "      <td>0.233386</td>\n",
       "      <td>0.215002</td>\n",
       "      <td>0.242050</td>\n",
       "      <td>0.212280</td>\n",
       "      <td>0.248551</td>\n",
       "      <td>0.236608</td>\n",
       "      <td>0.251958</td>\n",
       "      <td>0.233019</td>\n",
       "      <td>0.226201</td>\n",
       "      <td>0.231670</td>\n",
       "      <td>0.267901</td>\n",
       "      <td>0.244521</td>\n",
       "      <td>0.242235</td>\n",
       "      <td>0.199940</td>\n",
       "      <td>0.211015</td>\n",
       "      <td>0.209091</td>\n",
       "      <td>0.206592</td>\n",
       "    </tr>\n",
       "    <tr>\n",
       "      <th>3</th>\n",
       "      <td>0.085953</td>\n",
       "      <td>0.091980</td>\n",
       "      <td>0.111901</td>\n",
       "      <td>0.050095</td>\n",
       "      <td>0.099926</td>\n",
       "      <td>0.066860</td>\n",
       "      <td>0.124676</td>\n",
       "      <td>0.076540</td>\n",
       "      <td>0.087861</td>\n",
       "      <td>0.065164</td>\n",
       "      <td>0.076814</td>\n",
       "      <td>0.061302</td>\n",
       "      <td>0.082548</td>\n",
       "      <td>0.048048</td>\n",
       "      <td>0.057884</td>\n",
       "      <td>0.031225</td>\n",
       "      <td>0.035912</td>\n",
       "    </tr>\n",
       "    <tr>\n",
       "      <th>4</th>\n",
       "      <td>0.037850</td>\n",
       "      <td>0.041467</td>\n",
       "      <td>0.047815</td>\n",
       "      <td>0.019064</td>\n",
       "      <td>0.040839</td>\n",
       "      <td>0.027246</td>\n",
       "      <td>0.072415</td>\n",
       "      <td>0.032526</td>\n",
       "      <td>0.028739</td>\n",
       "      <td>0.025440</td>\n",
       "      <td>0.039581</td>\n",
       "      <td>0.026697</td>\n",
       "      <td>0.028135</td>\n",
       "      <td>0.014729</td>\n",
       "      <td>0.019610</td>\n",
       "      <td>0.008051</td>\n",
       "      <td>0.009877</td>\n",
       "    </tr>\n",
       "  </tbody>\n",
       "</table>\n",
       "</div>"
      ],
      "text/plain": [
       "          Total     Other       C++  JavaScript      Java    Python         C  \\\n",
       "Ngram                                                                           \n",
       "0      0.001527  0.000388  0.002201    0.000304  0.002339  0.000697  0.004346   \n",
       "1      0.575462  0.570272  0.518680    0.689391  0.552677  0.630290  0.399158   \n",
       "2      0.233386  0.215002  0.242050    0.212280  0.248551  0.236608  0.251958   \n",
       "3      0.085953  0.091980  0.111901    0.050095  0.099926  0.066860  0.124676   \n",
       "4      0.037850  0.041467  0.047815    0.019064  0.040839  0.027246  0.072415   \n",
       "\n",
       "            PHP      Ruby        C#        Go      HTML     Shell  TypeScript  \\\n",
       "Ngram                                                                           \n",
       "0      0.001476  0.000133  0.004102  0.001497  0.000880  0.000684    0.000009   \n",
       "1      0.593817  0.597720  0.640675  0.534669  0.619192  0.615959    0.712195   \n",
       "2      0.233019  0.226201  0.231670  0.267901  0.244521  0.242235    0.199940   \n",
       "3      0.076540  0.087861  0.065164  0.076814  0.061302  0.082548    0.048048   \n",
       "4      0.032526  0.028739  0.025440  0.039581  0.026697  0.028135    0.014729   \n",
       "\n",
       "       Objective-C     Swift       CSS  \n",
       "Ngram                                   \n",
       "0         0.000299  0.000010  0.000063  \n",
       "1         0.682757  0.738448  0.736127  \n",
       "2         0.211015  0.209091  0.206592  \n",
       "3         0.057884  0.031225  0.035912  \n",
       "4         0.019610  0.008051  0.009877  "
      ]
     },
     "execution_count": 61,
     "metadata": {},
     "output_type": "execute_result"
    }
   ],
   "source": [
    "df.index = ng\n",
    "df.head()"
   ]
  },
  {
   "cell_type": "code",
   "execution_count": 62,
   "metadata": {},
   "outputs": [
    {
     "data": {
      "text/plain": [
       "Index(['Total', 'Other', 'C++', 'JavaScript', 'Java', 'Python', 'C', 'PHP',\n",
       "       'Ruby', 'C#', 'Go', 'HTML', 'Shell', 'TypeScript', 'Objective-C',\n",
       "       'Swift', 'CSS'],\n",
       "      dtype='object')"
      ]
     },
     "execution_count": 62,
     "metadata": {},
     "output_type": "execute_result"
    }
   ],
   "source": [
    "df.columns"
   ]
  },
  {
   "cell_type": "code",
   "execution_count": 63,
   "metadata": {},
   "outputs": [
    {
     "data": {
      "text/html": [
       "<div>\n",
       "<style scoped>\n",
       "    .dataframe tbody tr th:only-of-type {\n",
       "        vertical-align: middle;\n",
       "    }\n",
       "\n",
       "    .dataframe tbody tr th {\n",
       "        vertical-align: top;\n",
       "    }\n",
       "\n",
       "    .dataframe thead th {\n",
       "        text-align: right;\n",
       "    }\n",
       "</style>\n",
       "<table border=\"1\" class=\"dataframe\">\n",
       "  <thead>\n",
       "    <tr style=\"text-align: right;\">\n",
       "      <th></th>\n",
       "      <th>Total</th>\n",
       "      <th>Other</th>\n",
       "      <th>C++</th>\n",
       "      <th>JavaScript</th>\n",
       "      <th>Java</th>\n",
       "      <th>Python</th>\n",
       "      <th>C</th>\n",
       "      <th>PHP</th>\n",
       "      <th>Ruby</th>\n",
       "      <th>C#</th>\n",
       "      <th>Go</th>\n",
       "      <th>HTML</th>\n",
       "      <th>Shell</th>\n",
       "      <th>TypeScript</th>\n",
       "      <th>Objective-C</th>\n",
       "      <th>Swift</th>\n",
       "      <th>CSS</th>\n",
       "    </tr>\n",
       "    <tr>\n",
       "      <th>Ngram</th>\n",
       "      <th></th>\n",
       "      <th></th>\n",
       "      <th></th>\n",
       "      <th></th>\n",
       "      <th></th>\n",
       "      <th></th>\n",
       "      <th></th>\n",
       "      <th></th>\n",
       "      <th></th>\n",
       "      <th></th>\n",
       "      <th></th>\n",
       "      <th></th>\n",
       "      <th></th>\n",
       "      <th></th>\n",
       "      <th></th>\n",
       "      <th></th>\n",
       "      <th></th>\n",
       "    </tr>\n",
       "  </thead>\n",
       "  <tbody>\n",
       "    <tr>\n",
       "      <th>1</th>\n",
       "      <td>0.575462</td>\n",
       "      <td>0.570272</td>\n",
       "      <td>0.518680</td>\n",
       "      <td>0.689391</td>\n",
       "      <td>0.552677</td>\n",
       "      <td>0.630290</td>\n",
       "      <td>0.399158</td>\n",
       "      <td>0.593817</td>\n",
       "      <td>0.597720</td>\n",
       "      <td>0.640675</td>\n",
       "      <td>0.534669</td>\n",
       "      <td>0.619192</td>\n",
       "      <td>0.615959</td>\n",
       "      <td>0.712195</td>\n",
       "      <td>0.682757</td>\n",
       "      <td>0.738448</td>\n",
       "      <td>0.736127</td>\n",
       "    </tr>\n",
       "    <tr>\n",
       "      <th>2</th>\n",
       "      <td>0.233386</td>\n",
       "      <td>0.215002</td>\n",
       "      <td>0.242050</td>\n",
       "      <td>0.212280</td>\n",
       "      <td>0.248551</td>\n",
       "      <td>0.236608</td>\n",
       "      <td>0.251958</td>\n",
       "      <td>0.233019</td>\n",
       "      <td>0.226201</td>\n",
       "      <td>0.231670</td>\n",
       "      <td>0.267901</td>\n",
       "      <td>0.244521</td>\n",
       "      <td>0.242235</td>\n",
       "      <td>0.199940</td>\n",
       "      <td>0.211015</td>\n",
       "      <td>0.209091</td>\n",
       "      <td>0.206592</td>\n",
       "    </tr>\n",
       "    <tr>\n",
       "      <th>3</th>\n",
       "      <td>0.085953</td>\n",
       "      <td>0.091980</td>\n",
       "      <td>0.111901</td>\n",
       "      <td>0.050095</td>\n",
       "      <td>0.099926</td>\n",
       "      <td>0.066860</td>\n",
       "      <td>0.124676</td>\n",
       "      <td>0.076540</td>\n",
       "      <td>0.087861</td>\n",
       "      <td>0.065164</td>\n",
       "      <td>0.076814</td>\n",
       "      <td>0.061302</td>\n",
       "      <td>0.082548</td>\n",
       "      <td>0.048048</td>\n",
       "      <td>0.057884</td>\n",
       "      <td>0.031225</td>\n",
       "      <td>0.035912</td>\n",
       "    </tr>\n",
       "    <tr>\n",
       "      <th>4</th>\n",
       "      <td>0.037850</td>\n",
       "      <td>0.041467</td>\n",
       "      <td>0.047815</td>\n",
       "      <td>0.019064</td>\n",
       "      <td>0.040839</td>\n",
       "      <td>0.027246</td>\n",
       "      <td>0.072415</td>\n",
       "      <td>0.032526</td>\n",
       "      <td>0.028739</td>\n",
       "      <td>0.025440</td>\n",
       "      <td>0.039581</td>\n",
       "      <td>0.026697</td>\n",
       "      <td>0.028135</td>\n",
       "      <td>0.014729</td>\n",
       "      <td>0.019610</td>\n",
       "      <td>0.008051</td>\n",
       "      <td>0.009877</td>\n",
       "    </tr>\n",
       "    <tr>\n",
       "      <th>5</th>\n",
       "      <td>0.021535</td>\n",
       "      <td>0.023577</td>\n",
       "      <td>0.026326</td>\n",
       "      <td>0.009612</td>\n",
       "      <td>0.023805</td>\n",
       "      <td>0.014652</td>\n",
       "      <td>0.047172</td>\n",
       "      <td>0.017818</td>\n",
       "      <td>0.014193</td>\n",
       "      <td>0.012007</td>\n",
       "      <td>0.023114</td>\n",
       "      <td>0.014632</td>\n",
       "      <td>0.011666</td>\n",
       "      <td>0.008151</td>\n",
       "      <td>0.011986</td>\n",
       "      <td>0.003716</td>\n",
       "      <td>0.004340</td>\n",
       "    </tr>\n",
       "    <tr>\n",
       "      <th>6</th>\n",
       "      <td>0.013128</td>\n",
       "      <td>0.015647</td>\n",
       "      <td>0.015931</td>\n",
       "      <td>0.005636</td>\n",
       "      <td>0.013461</td>\n",
       "      <td>0.007871</td>\n",
       "      <td>0.030131</td>\n",
       "      <td>0.009962</td>\n",
       "      <td>0.009120</td>\n",
       "      <td>0.006299</td>\n",
       "      <td>0.014831</td>\n",
       "      <td>0.009426</td>\n",
       "      <td>0.006621</td>\n",
       "      <td>0.004594</td>\n",
       "      <td>0.006295</td>\n",
       "      <td>0.002241</td>\n",
       "      <td>0.002324</td>\n",
       "    </tr>\n",
       "    <tr>\n",
       "      <th>7</th>\n",
       "      <td>0.008368</td>\n",
       "      <td>0.009944</td>\n",
       "      <td>0.010092</td>\n",
       "      <td>0.003646</td>\n",
       "      <td>0.007389</td>\n",
       "      <td>0.004510</td>\n",
       "      <td>0.019609</td>\n",
       "      <td>0.006807</td>\n",
       "      <td>0.008193</td>\n",
       "      <td>0.003722</td>\n",
       "      <td>0.010267</td>\n",
       "      <td>0.006077</td>\n",
       "      <td>0.003895</td>\n",
       "      <td>0.002889</td>\n",
       "      <td>0.003211</td>\n",
       "      <td>0.001637</td>\n",
       "      <td>0.001307</td>\n",
       "    </tr>\n",
       "    <tr>\n",
       "      <th>8</th>\n",
       "      <td>0.005570</td>\n",
       "      <td>0.006751</td>\n",
       "      <td>0.006631</td>\n",
       "      <td>0.002450</td>\n",
       "      <td>0.003474</td>\n",
       "      <td>0.002821</td>\n",
       "      <td>0.012897</td>\n",
       "      <td>0.005420</td>\n",
       "      <td>0.007655</td>\n",
       "      <td>0.002474</td>\n",
       "      <td>0.007435</td>\n",
       "      <td>0.004191</td>\n",
       "      <td>0.002344</td>\n",
       "      <td>0.002035</td>\n",
       "      <td>0.001870</td>\n",
       "      <td>0.001153</td>\n",
       "      <td>0.000844</td>\n",
       "    </tr>\n",
       "    <tr>\n",
       "      <th>9</th>\n",
       "      <td>0.003901</td>\n",
       "      <td>0.004815</td>\n",
       "      <td>0.004395</td>\n",
       "      <td>0.001687</td>\n",
       "      <td>0.001969</td>\n",
       "      <td>0.001872</td>\n",
       "      <td>0.008844</td>\n",
       "      <td>0.004744</td>\n",
       "      <td>0.006114</td>\n",
       "      <td>0.001757</td>\n",
       "      <td>0.005541</td>\n",
       "      <td>0.002857</td>\n",
       "      <td>0.001347</td>\n",
       "      <td>0.001382</td>\n",
       "      <td>0.001188</td>\n",
       "      <td>0.000783</td>\n",
       "      <td>0.000598</td>\n",
       "    </tr>\n",
       "  </tbody>\n",
       "</table>\n",
       "</div>"
      ],
      "text/plain": [
       "          Total     Other       C++  JavaScript      Java    Python         C  \\\n",
       "Ngram                                                                           \n",
       "1      0.575462  0.570272  0.518680    0.689391  0.552677  0.630290  0.399158   \n",
       "2      0.233386  0.215002  0.242050    0.212280  0.248551  0.236608  0.251958   \n",
       "3      0.085953  0.091980  0.111901    0.050095  0.099926  0.066860  0.124676   \n",
       "4      0.037850  0.041467  0.047815    0.019064  0.040839  0.027246  0.072415   \n",
       "5      0.021535  0.023577  0.026326    0.009612  0.023805  0.014652  0.047172   \n",
       "6      0.013128  0.015647  0.015931    0.005636  0.013461  0.007871  0.030131   \n",
       "7      0.008368  0.009944  0.010092    0.003646  0.007389  0.004510  0.019609   \n",
       "8      0.005570  0.006751  0.006631    0.002450  0.003474  0.002821  0.012897   \n",
       "9      0.003901  0.004815  0.004395    0.001687  0.001969  0.001872  0.008844   \n",
       "\n",
       "            PHP      Ruby        C#        Go      HTML     Shell  TypeScript  \\\n",
       "Ngram                                                                           \n",
       "1      0.593817  0.597720  0.640675  0.534669  0.619192  0.615959    0.712195   \n",
       "2      0.233019  0.226201  0.231670  0.267901  0.244521  0.242235    0.199940   \n",
       "3      0.076540  0.087861  0.065164  0.076814  0.061302  0.082548    0.048048   \n",
       "4      0.032526  0.028739  0.025440  0.039581  0.026697  0.028135    0.014729   \n",
       "5      0.017818  0.014193  0.012007  0.023114  0.014632  0.011666    0.008151   \n",
       "6      0.009962  0.009120  0.006299  0.014831  0.009426  0.006621    0.004594   \n",
       "7      0.006807  0.008193  0.003722  0.010267  0.006077  0.003895    0.002889   \n",
       "8      0.005420  0.007655  0.002474  0.007435  0.004191  0.002344    0.002035   \n",
       "9      0.004744  0.006114  0.001757  0.005541  0.002857  0.001347    0.001382   \n",
       "\n",
       "       Objective-C     Swift       CSS  \n",
       "Ngram                                   \n",
       "1         0.682757  0.738448  0.736127  \n",
       "2         0.211015  0.209091  0.206592  \n",
       "3         0.057884  0.031225  0.035912  \n",
       "4         0.019610  0.008051  0.009877  \n",
       "5         0.011986  0.003716  0.004340  \n",
       "6         0.006295  0.002241  0.002324  \n",
       "7         0.003211  0.001637  0.001307  \n",
       "8         0.001870  0.001153  0.000844  \n",
       "9         0.001188  0.000783  0.000598  "
      ]
     },
     "execution_count": 63,
     "metadata": {},
     "output_type": "execute_result"
    }
   ],
   "source": [
    "df[1:10]"
   ]
  },
  {
   "cell_type": "code",
   "execution_count": 64,
   "metadata": {},
   "outputs": [],
   "source": [
    "df = df[1:10]"
   ]
  },
  {
   "cell_type": "code",
   "execution_count": 66,
   "metadata": {},
   "outputs": [],
   "source": [
    "df = df[:5]"
   ]
  },
  {
   "cell_type": "code",
   "execution_count": 70,
   "metadata": {},
   "outputs": [
    {
     "data": {
      "text/plain": [
       "Text(0, 0.5, '% out of commits')"
      ]
     },
     "execution_count": 70,
     "metadata": {},
     "output_type": "execute_result"
    },
    {
     "data": {
      "image/png": "[encoded data removed]",
      "text/plain": [
       "<Figure size 864x504 with 1 Axes>"
      ]
     },
     "metadata": {
      "needs_background": "light"
     },
     "output_type": "display_data"
    }
   ],
   "source": [
    "df.plot(figsize=(12, 7), kind='bar', rot=0, logy=False, width=0.75);\n",
    "plt.xlabel('Number of sentences')\n",
    "plt.ylabel('% out of commits')\n",
    "#df.plot.bar(rot=0);"
   ]
  },
  {
   "cell_type": "code",
   "execution_count": 36,
   "metadata": {},
   "outputs": [],
   "source": [
    "del df['Total']"
   ]
  },
  {
   "cell_type": "code",
   "execution_count": 37,
   "metadata": {},
   "outputs": [],
   "source": [
    "corr = np.corrcoef(df.T)"
   ]
  },
  {
   "cell_type": "code",
   "execution_count": 6,
   "metadata": {},
   "outputs": [],
   "source": [
    "import seaborn as sns"
   ]
  },
  {
   "cell_type": "code",
   "execution_count": 41,
   "metadata": {},
   "outputs": [
    {
     "data": {
      "text/plain": [
       "<seaborn.matrix.ClusterGrid at 0x7efd30115d30>"
      ]
     },
     "execution_count": 41,
     "metadata": {},
     "output_type": "execute_result"
    },
    {
     "data": {
      "image/png": "[encoded data removed]",
      "text/plain": [
       "<Figure size 720x720 with 4 Axes>"
      ]
     },
     "metadata": {
      "needs_background": "light"
     },
     "output_type": "display_data"
    }
   ],
   "source": [
    "sns.clustermap(df[:5].T, metric=\"correlation\")"
   ]
  },
  {
   "cell_type": "markdown",
   "metadata": {},
   "source": [
    "### length of commit sentences "
   ]
  },
  {
   "cell_type": "code",
   "execution_count": 7,
   "metadata": {},
   "outputs": [],
   "source": [
    "mydb = mysql.connector.connect(\n",
    "  host=\"localhost\",\n",
    "  user=\"root\",\n",
    "  passwd='password',\n",
    "  database=\"commits_db\",\n",
    "  charset='utf8mb4')\n",
    "\n",
    "mycursor = mydb.cursor()"
   ]
  },
  {
   "cell_type": "code",
   "execution_count": 47,
   "metadata": {},
   "outputs": [],
   "source": [
    "def yield_lengths(n=1):\n",
    "    #mycursor.execute('SELECT conllu, language FROM C LEFT JOIN R ON C.repo_id=R.gh_id LIMIT 1000;')\n",
    "    mycursor.execute('SELECT conllu, language FROM C LEFT JOIN R ON C.repo_id=R.gh_id')\n",
    "    text = mycursor.fetchone()\n",
    "    while text:\n",
    "        doc = conllu.parse(text[0])\n",
    "        if len(doc) == n:\n",
    "            yield text[1], [len(i) for i in doc]\n",
    "        text = mycursor.fetchone()\n",
    "\n",
    "def yield_lengths(n=1):\n",
    "    #mycursor.execute('SELECT conllu, language FROM C LEFT JOIN R ON C.repo_id=R.gh_id LIMIT 1000;')\n",
    "    mycursor.execute('SELECT conllu, language FROM C LEFT JOIN R ON C.repo_id=R.gh_id;')\n",
    "    text = mycursor.fetchone()\n",
    "    while text:\n",
    "        doc = re.sub('# newdoc\\n', '', text[0])#conllu.parse(text[0])\n",
    "        doc = re.sub('# newpar\\n', '', doc)\n",
    "        doc = re.sub('\\n+', '\\n', doc)\n",
    "        doc = doc.split('# sent_id')\n",
    "        if len(doc)-1 == n:\n",
    "            yield text[1], [len(i.split('\\n'))-1 for i in doc[1:]]\n",
    "        text = mycursor.fetchone()"
   ]
  },
  {
   "cell_type": "code",
   "execution_count": 42,
   "metadata": {},
   "outputs": [],
   "source": [
    "import seaborn as sns\n",
    "labels = list(languages.keys())+['Other']"
   ]
  },
  {
   "cell_type": "code",
   "execution_count": 43,
   "metadata": {},
   "outputs": [],
   "source": [
    "def show_lengths(n=1):\n",
    "    matrix_sum = np.zeros((n,len(languages)+1))\n",
    "    #matrix_df = []\n",
    "    matrix_n = np.zeros(len(languages)+1)\n",
    "    for item in tqdm(yield_lengths(n=n)):\n",
    "        lang, lengths = item\n",
    "        if len(lengths) == n:\n",
    "            if lang not in languages:\n",
    "                lang2 = 'Other'\n",
    "            else:\n",
    "                lang2 = lang\n",
    "            try:\n",
    "                lang = languages[lang][1]\n",
    "            except:\n",
    "                lang = -1\n",
    "            for i in range(n):\n",
    "                matrix_sum[i][lang] += lengths[i]\n",
    "                #matrix_df.append([lang2, str(i+1), lengths[i]])\n",
    "            matrix_n[lang] += 1\n",
    "    #matrix_df = pd.DataFrame(matrix_df)\n",
    "    #matrix_df.columns = ['Language', 'N-th', 'Length']\n",
    "    return matrix_sum/matrix_n, matrix_n #, matrix_df"
   ]
  },
  {
   "cell_type": "code",
   "execution_count": 44,
   "metadata": {},
   "outputs": [],
   "source": [
    "def plot_sentences(n=2):\n",
    "    fig = plt.figure(figsize=(20,10))\n",
    "    #ax1 = fig.add_subplot(221)\n",
    "    #ax2 = fig.add_subplot(222)\n",
    "    ax1 = plt.subplot2grid((2, 3), (0, 1), colspan=1)\n",
    "    ax2 = plt.subplot2grid((2, 3), (0, 2), colspan=1)\n",
    "    #ax3 = plt.subplot2grid((2, 3), (1, 1), colspan=2)\n",
    "\n",
    "    #A, N, matrix_df = show_lengths(n=n)\n",
    "    A, N = show_lengths(n=n)\n",
    "    ax1 = sns.heatmap(A.T, annot=True, fmt=\".3f\", yticklabels=labels, xticklabels=list(range(1,n+1)), ax=ax1)\n",
    "    ax1.set_xlabel('N-th sentence')\n",
    "    ax1.set_ylabel('Language')\n",
    "    ax1.set_title('Mean length of sentences in {}-senten commits'.format(n))\n",
    "    \n",
    "    _ = pd.DataFrame(data={'N':N})\n",
    "    _.index = labels\n",
    "    ax2 = sns.barplot(data=_.T, color='green', ecolor='black', orient='h', ax=ax2)\n",
    "    ax2.set_xlabel('N of {}-senten commits'.format(n));\n",
    "    ax2.set_title('N of {}-sentence commits'.format(n))\n",
    "    \n",
    "    #ax3 = sns.boxplot(data=matrix_df, x=matrix_df['Language'], \n",
    "    #                  y=matrix_df['Length'], hue=matrix_df['N-th'], palette=\"Set1\", showfliers=False, ax=ax3)\n",
    "    #ax3.set_xticklabels(ax3.get_xticklabels(), rotation = 90)\n",
    "    #ax3.set_xlabel('Language'.format(n))\n",
    "    #ax3.set_ylabel('Length'.format(n));\n",
    "    \n",
    "    plt.show()"
   ]
  },
  {
   "cell_type": "code",
   "execution_count": 45,
   "metadata": {},
   "outputs": [
    {
     "data": {
      "application/vnd.jupyter.widget-view+json": {
       "model_id": "bd9d881b00a04bdea5da39cf8ef942e9",
       "version_major": 2,
       "version_minor": 0
      },
      "text/plain": [
       "HBox(children=(IntProgress(value=1, bar_style='info', max=1), HTML(value='')))"
      ]
     },
     "metadata": {},
     "output_type": "display_data"
    },
    {
     "name": "stdout",
     "output_type": "stream",
     "text": [
      "\n"
     ]
    },
    {
     "data": {
      "image/png": "[encoded data removed]",
      "text/plain": [
       "<Figure size 1440x720 with 3 Axes>"
      ]
     },
     "metadata": {
      "needs_background": "light"
     },
     "output_type": "display_data"
    }
   ],
   "source": [
    "plot_sentences(n=1)"
   ]
  },
  {
   "cell_type": "code",
   "execution_count": 64,
   "metadata": {},
   "outputs": [
    {
     "data": {
      "application/vnd.jupyter.widget-view+json": {
       "model_id": "70b3c3e53c394732a4ecd67835dc7826",
       "version_major": 2,
       "version_minor": 0
      },
      "text/plain": [
       "HBox(children=(IntProgress(value=1, bar_style='info', max=1), HTML(value='')))"
      ]
     },
     "metadata": {},
     "output_type": "display_data"
    },
    {
     "name": "stdout",
     "output_type": "stream",
     "text": [
      "\n"
     ]
    },
    {
     "data": {
      "image/png": "[encoded data removed]",
      "text/plain": [
       "<Figure size 1440x720 with 4 Axes>"
      ]
     },
     "metadata": {
      "needs_background": "light"
     },
     "output_type": "display_data"
    }
   ],
   "source": [
    "plot_sentences(n=2)"
   ]
  },
  {
   "cell_type": "code",
   "execution_count": 65,
   "metadata": {},
   "outputs": [
    {
     "data": {
      "application/vnd.jupyter.widget-view+json": {
       "model_id": "e252266811354e50bb129f16c11a207a",
       "version_major": 2,
       "version_minor": 0
      },
      "text/plain": [
       "HBox(children=(IntProgress(value=1, bar_style='info', max=1), HTML(value='')))"
      ]
     },
     "metadata": {},
     "output_type": "display_data"
    },
    {
     "name": "stdout",
     "output_type": "stream",
     "text": [
      "\n"
     ]
    },
    {
     "data": {
      "image/png": "[encoded data removed]",
      "text/plain": [
       "<Figure size 1440x720 with 4 Axes>"
      ]
     },
     "metadata": {
      "needs_background": "light"
     },
     "output_type": "display_data"
    }
   ],
   "source": [
    "plot_sentences(n=3)"
   ]
  },
  {
   "cell_type": "code",
   "execution_count": 66,
   "metadata": {},
   "outputs": [
    {
     "data": {
      "application/vnd.jupyter.widget-view+json": {
       "model_id": "51a4af5801e942df9456e679ec08412e",
       "version_major": 2,
       "version_minor": 0
      },
      "text/plain": [
       "HBox(children=(IntProgress(value=1, bar_style='info', max=1), HTML(value='')))"
      ]
     },
     "metadata": {},
     "output_type": "display_data"
    },
    {
     "name": "stdout",
     "output_type": "stream",
     "text": [
      "\n"
     ]
    },
    {
     "data": {
      "image/png": "[encoded data removed]",
      "text/plain": [
       "<Figure size 1440x720 with 4 Axes>"
      ]
     },
     "metadata": {
      "needs_background": "light"
     },
     "output_type": "display_data"
    }
   ],
   "source": [
    "plot_sentences(n=4)"
   ]
  },
  {
   "cell_type": "code",
   "execution_count": 48,
   "metadata": {
    "scrolled": true
   },
   "outputs": [
    {
     "data": {
      "application/vnd.jupyter.widget-view+json": {
       "model_id": "05b3d4889ac245a599231b4a03300220",
       "version_major": 2,
       "version_minor": 0
      },
      "text/plain": [
       "HBox(children=(IntProgress(value=1, bar_style='info', max=1), HTML(value='')))"
      ]
     },
     "metadata": {},
     "output_type": "display_data"
    },
    {
     "ename": "KeyboardInterrupt",
     "evalue": "",
     "output_type": "error",
     "traceback": [
      "\u001b[0;31m---------------------------------------------------------------------------\u001b[0m",
      "\u001b[0;31mKeyboardInterrupt\u001b[0m                         Traceback (most recent call last)",
      "\u001b[0;32m<ipython-input-48-fef4657b5d83>\u001b[0m in \u001b[0;36m<module>\u001b[0;34m\u001b[0m\n\u001b[0;32m----> 1\u001b[0;31m \u001b[0mplot_sentences\u001b[0m\u001b[0;34m(\u001b[0m\u001b[0mn\u001b[0m\u001b[0;34m=\u001b[0m\u001b[0;36m5\u001b[0m\u001b[0;34m)\u001b[0m\u001b[0;34m\u001b[0m\u001b[0m\n\u001b[0m",
      "\u001b[0;32m<ipython-input-44-a9e070749db0>\u001b[0m in \u001b[0;36mplot_sentences\u001b[0;34m(n)\u001b[0m\n\u001b[1;32m      8\u001b[0m \u001b[0;34m\u001b[0m\u001b[0m\n\u001b[1;32m      9\u001b[0m     \u001b[0;31m#A, N, matrix_df = show_lengths(n=n)\u001b[0m\u001b[0;34m\u001b[0m\u001b[0;34m\u001b[0m\u001b[0m\n\u001b[0;32m---> 10\u001b[0;31m     \u001b[0mA\u001b[0m\u001b[0;34m,\u001b[0m \u001b[0mN\u001b[0m \u001b[0;34m=\u001b[0m \u001b[0mshow_lengths\u001b[0m\u001b[0;34m(\u001b[0m\u001b[0mn\u001b[0m\u001b[0;34m=\u001b[0m\u001b[0mn\u001b[0m\u001b[0;34m)\u001b[0m\u001b[0;34m\u001b[0m\u001b[0m\n\u001b[0m\u001b[1;32m     11\u001b[0m     \u001b[0max1\u001b[0m \u001b[0;34m=\u001b[0m \u001b[0msns\u001b[0m\u001b[0;34m.\u001b[0m\u001b[0mheatmap\u001b[0m\u001b[0;34m(\u001b[0m\u001b[0mA\u001b[0m\u001b[0;34m.\u001b[0m\u001b[0mT\u001b[0m\u001b[0;34m,\u001b[0m \u001b[0mannot\u001b[0m\u001b[0;34m=\u001b[0m\u001b[0;32mTrue\u001b[0m\u001b[0;34m,\u001b[0m \u001b[0mfmt\u001b[0m\u001b[0;34m=\u001b[0m\u001b[0;34m\".3f\"\u001b[0m\u001b[0;34m,\u001b[0m \u001b[0myticklabels\u001b[0m\u001b[0;34m=\u001b[0m\u001b[0mlabels\u001b[0m\u001b[0;34m,\u001b[0m \u001b[0mxticklabels\u001b[0m\u001b[0;34m=\u001b[0m\u001b[0mlist\u001b[0m\u001b[0;34m(\u001b[0m\u001b[0mrange\u001b[0m\u001b[0;34m(\u001b[0m\u001b[0;36m1\u001b[0m\u001b[0;34m,\u001b[0m\u001b[0mn\u001b[0m\u001b[0;34m+\u001b[0m\u001b[0;36m1\u001b[0m\u001b[0;34m)\u001b[0m\u001b[0;34m)\u001b[0m\u001b[0;34m,\u001b[0m \u001b[0max\u001b[0m\u001b[0;34m=\u001b[0m\u001b[0max1\u001b[0m\u001b[0;34m)\u001b[0m\u001b[0;34m\u001b[0m\u001b[0m\n\u001b[1;32m     12\u001b[0m     \u001b[0max1\u001b[0m\u001b[0;34m.\u001b[0m\u001b[0mset_xlabel\u001b[0m\u001b[0;34m(\u001b[0m\u001b[0;34m'N-th sentence'\u001b[0m\u001b[0;34m)\u001b[0m\u001b[0;34m\u001b[0m\u001b[0m\n",
      "\u001b[0;32m<ipython-input-43-ed8a147c07d6>\u001b[0m in \u001b[0;36mshow_lengths\u001b[0;34m(n)\u001b[0m\n\u001b[1;32m      3\u001b[0m     \u001b[0;31m#matrix_df = []\u001b[0m\u001b[0;34m\u001b[0m\u001b[0;34m\u001b[0m\u001b[0m\n\u001b[1;32m      4\u001b[0m     \u001b[0mmatrix_n\u001b[0m \u001b[0;34m=\u001b[0m \u001b[0mnp\u001b[0m\u001b[0;34m.\u001b[0m\u001b[0mzeros\u001b[0m\u001b[0;34m(\u001b[0m\u001b[0mlen\u001b[0m\u001b[0;34m(\u001b[0m\u001b[0mlanguages\u001b[0m\u001b[0;34m)\u001b[0m\u001b[0;34m+\u001b[0m\u001b[0;36m1\u001b[0m\u001b[0;34m)\u001b[0m\u001b[0;34m\u001b[0m\u001b[0m\n\u001b[0;32m----> 5\u001b[0;31m     \u001b[0;32mfor\u001b[0m \u001b[0mitem\u001b[0m \u001b[0;32min\u001b[0m \u001b[0mtqdm\u001b[0m\u001b[0;34m(\u001b[0m\u001b[0myield_lengths\u001b[0m\u001b[0;34m(\u001b[0m\u001b[0mn\u001b[0m\u001b[0;34m=\u001b[0m\u001b[0mn\u001b[0m\u001b[0;34m)\u001b[0m\u001b[0;34m)\u001b[0m\u001b[0;34m:\u001b[0m\u001b[0;34m\u001b[0m\u001b[0m\n\u001b[0m\u001b[1;32m      6\u001b[0m         \u001b[0mlang\u001b[0m\u001b[0;34m,\u001b[0m \u001b[0mlengths\u001b[0m \u001b[0;34m=\u001b[0m \u001b[0mitem\u001b[0m\u001b[0;34m\u001b[0m\u001b[0m\n\u001b[1;32m      7\u001b[0m         \u001b[0;32mif\u001b[0m \u001b[0mlen\u001b[0m\u001b[0;34m(\u001b[0m\u001b[0mlengths\u001b[0m\u001b[0;34m)\u001b[0m \u001b[0;34m==\u001b[0m \u001b[0mn\u001b[0m\u001b[0;34m:\u001b[0m\u001b[0;34m\u001b[0m\u001b[0m\n",
      "\u001b[0;32m~/.local/lib/python3.5/site-packages/tqdm/_tqdm_notebook.py\u001b[0m in \u001b[0;36m__iter__\u001b[0;34m(self, *args, **kwargs)\u001b[0m\n\u001b[1;32m    219\u001b[0m     \u001b[0;32mdef\u001b[0m \u001b[0m__iter__\u001b[0m\u001b[0;34m(\u001b[0m\u001b[0mself\u001b[0m\u001b[0;34m,\u001b[0m \u001b[0;34m*\u001b[0m\u001b[0margs\u001b[0m\u001b[0;34m,\u001b[0m \u001b[0;34m**\u001b[0m\u001b[0mkwargs\u001b[0m\u001b[0;34m)\u001b[0m\u001b[0;34m:\u001b[0m\u001b[0;34m\u001b[0m\u001b[0m\n\u001b[1;32m    220\u001b[0m         \u001b[0;32mtry\u001b[0m\u001b[0;34m:\u001b[0m\u001b[0;34m\u001b[0m\u001b[0m\n\u001b[0;32m--> 221\u001b[0;31m             \u001b[0;32mfor\u001b[0m \u001b[0mobj\u001b[0m \u001b[0;32min\u001b[0m \u001b[0msuper\u001b[0m\u001b[0;34m(\u001b[0m\u001b[0mtqdm_notebook\u001b[0m\u001b[0;34m,\u001b[0m \u001b[0mself\u001b[0m\u001b[0;34m)\u001b[0m\u001b[0;34m.\u001b[0m\u001b[0m__iter__\u001b[0m\u001b[0;34m(\u001b[0m\u001b[0;34m*\u001b[0m\u001b[0margs\u001b[0m\u001b[0;34m,\u001b[0m \u001b[0;34m**\u001b[0m\u001b[0mkwargs\u001b[0m\u001b[0;34m)\u001b[0m\u001b[0;34m:\u001b[0m\u001b[0;34m\u001b[0m\u001b[0m\n\u001b[0m\u001b[1;32m    222\u001b[0m                 \u001b[0;31m# return super(tqdm...) will not catch exception\u001b[0m\u001b[0;34m\u001b[0m\u001b[0;34m\u001b[0m\u001b[0m\n\u001b[1;32m    223\u001b[0m                 \u001b[0;32myield\u001b[0m \u001b[0mobj\u001b[0m\u001b[0;34m\u001b[0m\u001b[0m\n",
      "\u001b[0;32m~/.local/lib/python3.5/site-packages/tqdm/_tqdm.py\u001b[0m in \u001b[0;36m__iter__\u001b[0;34m(self)\u001b[0m\n\u001b[1;32m    998\u001b[0m                 \"\"\"), fp_write=getattr(self.fp, 'write', sys.stderr.write))\n\u001b[1;32m    999\u001b[0m \u001b[0;34m\u001b[0m\u001b[0m\n\u001b[0;32m-> 1000\u001b[0;31m             \u001b[0;32mfor\u001b[0m \u001b[0mobj\u001b[0m \u001b[0;32min\u001b[0m \u001b[0miterable\u001b[0m\u001b[0;34m:\u001b[0m\u001b[0;34m\u001b[0m\u001b[0m\n\u001b[0m\u001b[1;32m   1001\u001b[0m                 \u001b[0;32myield\u001b[0m \u001b[0mobj\u001b[0m\u001b[0;34m\u001b[0m\u001b[0m\n\u001b[1;32m   1002\u001b[0m                 \u001b[0;31m# Update and possibly print the progressbar.\u001b[0m\u001b[0;34m\u001b[0m\u001b[0;34m\u001b[0m\u001b[0m\n",
      "\u001b[0;32m<ipython-input-47-6ba8adc0feb8>\u001b[0m in \u001b[0;36myield_lengths\u001b[0;34m(n)\u001b[0m\n\u001b[1;32m     16\u001b[0m         \u001b[0mdoc\u001b[0m \u001b[0;34m=\u001b[0m \u001b[0mre\u001b[0m\u001b[0;34m.\u001b[0m\u001b[0msub\u001b[0m\u001b[0;34m(\u001b[0m\u001b[0;34m'# newdoc\\n'\u001b[0m\u001b[0;34m,\u001b[0m \u001b[0;34m''\u001b[0m\u001b[0;34m,\u001b[0m \u001b[0mtext\u001b[0m\u001b[0;34m[\u001b[0m\u001b[0;36m0\u001b[0m\u001b[0;34m]\u001b[0m\u001b[0;34m)\u001b[0m\u001b[0;31m#conllu.parse(text[0])\u001b[0m\u001b[0;34m\u001b[0m\u001b[0m\n\u001b[1;32m     17\u001b[0m         \u001b[0mdoc\u001b[0m \u001b[0;34m=\u001b[0m \u001b[0mre\u001b[0m\u001b[0;34m.\u001b[0m\u001b[0msub\u001b[0m\u001b[0;34m(\u001b[0m\u001b[0;34m'# newpar\\n'\u001b[0m\u001b[0;34m,\u001b[0m \u001b[0;34m''\u001b[0m\u001b[0;34m,\u001b[0m \u001b[0mdoc\u001b[0m\u001b[0;34m)\u001b[0m\u001b[0;34m\u001b[0m\u001b[0m\n\u001b[0;32m---> 18\u001b[0;31m         \u001b[0mdoc\u001b[0m \u001b[0;34m=\u001b[0m \u001b[0mre\u001b[0m\u001b[0;34m.\u001b[0m\u001b[0msub\u001b[0m\u001b[0;34m(\u001b[0m\u001b[0;34m'\\n+'\u001b[0m\u001b[0;34m,\u001b[0m \u001b[0;34m'\\n'\u001b[0m\u001b[0;34m,\u001b[0m \u001b[0mdoc\u001b[0m\u001b[0;34m)\u001b[0m\u001b[0;34m\u001b[0m\u001b[0m\n\u001b[0m\u001b[1;32m     19\u001b[0m         \u001b[0mdoc\u001b[0m \u001b[0;34m=\u001b[0m \u001b[0mdoc\u001b[0m\u001b[0;34m.\u001b[0m\u001b[0msplit\u001b[0m\u001b[0;34m(\u001b[0m\u001b[0;34m'# sent_id'\u001b[0m\u001b[0;34m)\u001b[0m\u001b[0;34m\u001b[0m\u001b[0m\n\u001b[1;32m     20\u001b[0m         \u001b[0;32mif\u001b[0m \u001b[0mlen\u001b[0m\u001b[0;34m(\u001b[0m\u001b[0mdoc\u001b[0m\u001b[0;34m)\u001b[0m\u001b[0;34m-\u001b[0m\u001b[0;36m1\u001b[0m \u001b[0;34m==\u001b[0m \u001b[0mn\u001b[0m\u001b[0;34m:\u001b[0m\u001b[0;34m\u001b[0m\u001b[0m\n",
      "\u001b[0;32m/usr/lib/python3.5/re.py\u001b[0m in \u001b[0;36msub\u001b[0;34m(pattern, repl, string, count, flags)\u001b[0m\n\u001b[1;32m    180\u001b[0m     \u001b[0ma\u001b[0m \u001b[0mcallable\u001b[0m\u001b[0;34m,\u001b[0m \u001b[0mit\u001b[0m\u001b[0;31m'\u001b[0m\u001b[0ms\u001b[0m \u001b[0mpassed\u001b[0m \u001b[0mthe\u001b[0m \u001b[0mmatch\u001b[0m \u001b[0mobject\u001b[0m \u001b[0;32mand\u001b[0m \u001b[0mmust\u001b[0m \u001b[0;32mreturn\u001b[0m\u001b[0;34m\u001b[0m\u001b[0m\n\u001b[1;32m    181\u001b[0m     a replacement string to be used.\"\"\"\n\u001b[0;32m--> 182\u001b[0;31m     \u001b[0;32mreturn\u001b[0m \u001b[0m_compile\u001b[0m\u001b[0;34m(\u001b[0m\u001b[0mpattern\u001b[0m\u001b[0;34m,\u001b[0m \u001b[0mflags\u001b[0m\u001b[0;34m)\u001b[0m\u001b[0;34m.\u001b[0m\u001b[0msub\u001b[0m\u001b[0;34m(\u001b[0m\u001b[0mrepl\u001b[0m\u001b[0;34m,\u001b[0m \u001b[0mstring\u001b[0m\u001b[0;34m,\u001b[0m \u001b[0mcount\u001b[0m\u001b[0;34m)\u001b[0m\u001b[0;34m\u001b[0m\u001b[0m\n\u001b[0m\u001b[1;32m    183\u001b[0m \u001b[0;34m\u001b[0m\u001b[0m\n\u001b[1;32m    184\u001b[0m \u001b[0;32mdef\u001b[0m \u001b[0msubn\u001b[0m\u001b[0;34m(\u001b[0m\u001b[0mpattern\u001b[0m\u001b[0;34m,\u001b[0m \u001b[0mrepl\u001b[0m\u001b[0;34m,\u001b[0m \u001b[0mstring\u001b[0m\u001b[0;34m,\u001b[0m \u001b[0mcount\u001b[0m\u001b[0;34m=\u001b[0m\u001b[0;36m0\u001b[0m\u001b[0;34m,\u001b[0m \u001b[0mflags\u001b[0m\u001b[0;34m=\u001b[0m\u001b[0;36m0\u001b[0m\u001b[0;34m)\u001b[0m\u001b[0;34m:\u001b[0m\u001b[0;34m\u001b[0m\u001b[0m\n",
      "\u001b[0;31mKeyboardInterrupt\u001b[0m: "
     ]
    },
    {
     "data": {
      "image/png": "[encoded data removed]",
      "text/plain": [
       "<Figure size 1440x720 with 2 Axes>"
      ]
     },
     "metadata": {
      "needs_background": "light"
     },
     "output_type": "display_data"
    }
   ],
   "source": [
    "plot_sentences(n=5)"
   ]
  },
  {
   "cell_type": "code",
   "execution_count": null,
   "metadata": {},
   "outputs": [],
   "source": []
  },
  {
   "cell_type": "code",
   "execution_count": 102,
   "metadata": {},
   "outputs": [
    {
     "data": {
      "text/plain": [
       "array([0.5, 0.5, 0.5, 0.5, 0.5, 0.5, 0.5, 0.5, 0.5, 0.5, 0.5, 0.5, 0.5,\n",
       "       0.5, 0.5, 0.5])"
      ]
     },
     "execution_count": 102,
     "metadata": {},
     "output_type": "execute_result"
    }
   ],
   "source": [
    "matrix_sum = np.zeros((2,len(languages)+1))\n",
    "matrix_n = np.zeros((2,len(languages)+1))\n",
    "\n",
    "matrix_sum[0] += 5\n",
    "matrix_sum[1] += 3\n",
    "matrix_n += 10\n",
    "(matrix_sum/matrix_n)[0]"
   ]
  },
  {
   "cell_type": "code",
   "execution_count": 57,
   "metadata": {},
   "outputs": [],
   "source": [
    "import re\n",
    "mydb = mysql.connector.connect(\n",
    "  host=\"localhost\",\n",
    "  user=\"root\",\n",
    "  passwd='password',\n",
    "  database=\"commits_db\",\n",
    "  charset='utf8mb4')\n",
    "\n",
    "mycursor = mydb.cursor()"
   ]
  },
  {
   "cell_type": "code",
   "execution_count": 19,
   "metadata": {},
   "outputs": [],
   "source": [
    "def yield_lengths_one_vs_many():\n",
    "    #mycursor.execute('SELECT conllu, language FROM C LEFT JOIN R ON C.repo_id=R.gh_id LIMIT 1000;')\n",
    "    mycursor.execute('SELECT conllu, language FROM C LEFT JOIN R ON C.repo_id=R.gh_id;')\n",
    "    text = mycursor.fetchone()\n",
    "    while text:\n",
    "        doc = re.sub('# newdoc\\n', '', text[0])#conllu.parse(text[0])\n",
    "        doc = re.sub('# newpar\\n', '', doc)\n",
    "        doc = re.sub('\\n+', '\\n', doc)\n",
    "        doc = doc.split('# sent_id')\n",
    "        if len(doc) > 1:\n",
    "            yield text[1], [len(i.split('\\n'))-1 for i in doc[1:]]\n",
    "        text = mycursor.fetchone()\n",
    "\n",
    "def show_lengths_one_vs_many():\n",
    "    matrix_sum = np.zeros((2,len(languages)+1))\n",
    "    #matrix_df = []\n",
    "    matrix_n = np.zeros((2,len(languages)+1))\n",
    "    for item in tqdm(yield_lengths_one_vs_many()):\n",
    "        lang, lengths = item\n",
    "        if len(lengths) > 1:\n",
    "            if lang not in languages:\n",
    "                lang2 = 'Other'\n",
    "            else:\n",
    "                lang2 = lang\n",
    "            try:\n",
    "                lang = languages[lang][1]\n",
    "            except:\n",
    "                lang = -1\n",
    "            \n",
    "            matrix_sum[0][lang] += lengths[0]\n",
    "            #matrix_df.append([lang2, '1', lengths[0]])\n",
    "            matrix_n[0][lang] += 1\n",
    "            \n",
    "            for i in range(1, len(lengths)):\n",
    "                matrix_sum[1][lang] += lengths[i]\n",
    "                #matrix_df.append([lang2, '2+', lengths[i]])\n",
    "           \n",
    "            matrix_n[1][lang] = matrix_n[1][lang] + len(lengths) - 1\n",
    "    #matrix_df = pd.DataFrame(matrix_df)\n",
    "    #matrix_df.columns = ['Language', 'N-th', 'Length']\n",
    "    return matrix_sum/matrix_n, matrix_n[0,:], None#, matrix_df\n",
    "\n",
    "def plot_sentences_one_vs_many():\n",
    "    fig = plt.figure(figsize=(20,10))\n",
    "    #ax1 = fig.add_subplot(221)\n",
    "    #ax2 = fig.add_subplot(222)\n",
    "    ax1 = plt.subplot2grid((2, 3), (0, 1), colspan=1)\n",
    "    ax2 = plt.subplot2grid((2, 3), (0, 2), colspan=1)\n",
    "    #ax3 = plt.subplot2grid((2, 3), (1, 1), colspan=2)\n",
    "\n",
    "    A, N, matrix_df = show_lengths_one_vs_many()\n",
    "    ax1 = sns.heatmap(A.T, annot=True, fmt=\".3f\", yticklabels=labels, xticklabels=list(range(1,2+1)), ax=ax1)\n",
    "    ax1.set_xlabel('N-th sentence')\n",
    "    ax1.set_ylabel('Language')\n",
    "    ax1.set_title('Mean length of sentences in commits \\nwith 2+ sentences')\n",
    "    \n",
    "    _ = pd.DataFrame(data={'N':N})\n",
    "    _.index = labels\n",
    "    ax2 = sns.barplot(data=_.T, color='green', ecolor='black', orient='h', ax=ax2)\n",
    "    ax2.set_xlabel('Mean length of sentences in commits \\nwith 2+ sentences');\n",
    "    ax2.set_title('Mean length of sentences in commits \\nwith 2+ sentences')\n",
    "    \n",
    "    #ax3 = sns.boxplot(data=matrix_df, x=matrix_df['Language'], \n",
    "    #                  y=matrix_df['Length'], hue=matrix_df['N-th'], palette=\"Set1\", showfliers=False, ax=ax3)\n",
    "    #ax3.set_xticklabels(ax3.get_xticklabels(), rotation = 90)\n",
    "    #ax3.set_xlabel('Language')\n",
    "    #ax3.set_ylabel('Length');\n",
    "    \n",
    "    plt.show()"
   ]
  },
  {
   "cell_type": "code",
   "execution_count": 20,
   "metadata": {},
   "outputs": [
    {
     "data": {
      "application/vnd.jupyter.widget-view+json": {
       "model_id": "53ce27f88d1e4749a0a30401647d61d5",
       "version_major": 2,
       "version_minor": 0
      },
      "text/plain": [
       "HBox(children=(IntProgress(value=1, bar_style='info', max=1), HTML(value='')))"
      ]
     },
     "metadata": {},
     "output_type": "display_data"
    },
    {
     "name": "stdout",
     "output_type": "stream",
     "text": [
      "\n"
     ]
    },
    {
     "data": {
      "image/png": "[encoded data removed]",
      "text/plain": [
       "<Figure size 1440x720 with 3 Axes>"
      ]
     },
     "metadata": {
      "needs_background": "light"
     },
     "output_type": "display_data"
    }
   ],
   "source": [
    "plot_sentences_one_vs_many()"
   ]
  },
  {
   "cell_type": "code",
   "execution_count": null,
   "metadata": {},
   "outputs": [],
   "source": []
  },
  {
   "cell_type": "code",
   "execution_count": null,
   "metadata": {},
   "outputs": [],
   "source": []
  },
  {
   "cell_type": "code",
   "execution_count": null,
   "metadata": {},
   "outputs": [],
   "source": []
  },
  {
   "cell_type": "code",
   "execution_count": null,
   "metadata": {},
   "outputs": [],
   "source": []
  },
  {
   "cell_type": "code",
   "execution_count": 58,
   "metadata": {},
   "outputs": [],
   "source": [
    "def print_text():\n",
    "    with open('/home/glznv/all_commits.txt', 'w') as f:\n",
    "        mycursor.execute('SELECT text, id FROM C;')\n",
    "        text = mycursor.fetchone()\n",
    "        while text:\n",
    "            doc = re.sub('\\n+', ' ', text[0]).lower()#conllu.parse(text[0])\n",
    "            print(doc, file=f)\n",
    "            text = mycursor.fetchone()\n",
    "            if text[1] % 1000000 == 0:\n",
    "                print('|', end='')"
   ]
  },
  {
   "cell_type": "code",
   "execution_count": 59,
   "metadata": {},
   "outputs": [
    {
     "name": "stdout",
     "output_type": "stream",
     "text": [
      "||||||||||||||||||||||||||||||||||||||||||||||||||||||||||||||||||||||||||"
     ]
    },
    {
     "ename": "TypeError",
     "evalue": "'NoneType' object is not subscriptable",
     "output_type": "error",
     "traceback": [
      "\u001b[0;31m---------------------------------------------------------------------------\u001b[0m",
      "\u001b[0;31mTypeError\u001b[0m                                 Traceback (most recent call last)",
      "\u001b[0;32m<ipython-input-59-29002adb72e2>\u001b[0m in \u001b[0;36m<module>\u001b[0;34m\u001b[0m\n\u001b[0;32m----> 1\u001b[0;31m \u001b[0mprint_text\u001b[0m\u001b[0;34m(\u001b[0m\u001b[0;34m)\u001b[0m\u001b[0;34m\u001b[0m\u001b[0m\n\u001b[0m",
      "\u001b[0;32m<ipython-input-58-409114e209ce>\u001b[0m in \u001b[0;36mprint_text\u001b[0;34m()\u001b[0m\n\u001b[1;32m      7\u001b[0m             \u001b[0mprint\u001b[0m\u001b[0;34m(\u001b[0m\u001b[0mdoc\u001b[0m\u001b[0;34m,\u001b[0m \u001b[0mfile\u001b[0m\u001b[0;34m=\u001b[0m\u001b[0mf\u001b[0m\u001b[0;34m)\u001b[0m\u001b[0;34m\u001b[0m\u001b[0m\n\u001b[1;32m      8\u001b[0m             \u001b[0mtext\u001b[0m \u001b[0;34m=\u001b[0m \u001b[0mmycursor\u001b[0m\u001b[0;34m.\u001b[0m\u001b[0mfetchone\u001b[0m\u001b[0;34m(\u001b[0m\u001b[0;34m)\u001b[0m\u001b[0;34m\u001b[0m\u001b[0m\n\u001b[0;32m----> 9\u001b[0;31m             \u001b[0;32mif\u001b[0m \u001b[0mtext\u001b[0m\u001b[0;34m[\u001b[0m\u001b[0;36m1\u001b[0m\u001b[0;34m]\u001b[0m \u001b[0;34m%\u001b[0m \u001b[0;36m1000000\u001b[0m \u001b[0;34m==\u001b[0m \u001b[0;36m0\u001b[0m\u001b[0;34m:\u001b[0m\u001b[0;34m\u001b[0m\u001b[0m\n\u001b[0m\u001b[1;32m     10\u001b[0m                 \u001b[0mprint\u001b[0m\u001b[0;34m(\u001b[0m\u001b[0;34m'|'\u001b[0m\u001b[0;34m,\u001b[0m \u001b[0mend\u001b[0m\u001b[0;34m=\u001b[0m\u001b[0;34m''\u001b[0m\u001b[0;34m)\u001b[0m\u001b[0;34m\u001b[0m\u001b[0m\n",
      "\u001b[0;31mTypeError\u001b[0m: 'NoneType' object is not subscriptable"
     ]
    }
   ],
   "source": [
    "print_text()"
   ]
  },
  {
   "cell_type": "code",
   "execution_count": null,
   "metadata": {},
   "outputs": [],
   "source": []
  },
  {
   "cell_type": "code",
   "execution_count": null,
   "metadata": {},
   "outputs": [],
   "source": []
  },
  {
   "cell_type": "code",
   "execution_count": null,
   "metadata": {},
   "outputs": [],
   "source": []
  },
  {
   "cell_type": "code",
   "execution_count": null,
   "metadata": {},
   "outputs": [],
   "source": [
    "repos"
   ]
  },
  {
   "cell_type": "code",
   "execution_count": null,
   "metadata": {},
   "outputs": [],
   "source": [
    "def yield_commits(out='gensim', mode='lemma', joint=True):\n",
    "    mycursor.execute('SELECT text, name, language FROM C LEFT JOIN R ON C.repo_id=R.gh_id;')\n",
    "    text = mycursor.fetchone()\n",
    "    #print (text)\n",
    "    while text:\n",
    "        doc = connlu_parse(text[0], out=out, mode=mode, joint=joint)\n",
    "        for sent in doc:\n",
    "            yield text[1], sent\n",
    "        text = mycursor.fetchone()"
   ]
  },
  {
   "cell_type": "code",
   "execution_count": 25,
   "metadata": {},
   "outputs": [],
   "source": [
    "class CommitIterator:\n",
    "    def __init__(self):\n",
    "        self.cursor = mydb.cursor()\n",
    "        self.cursor.execute('SELECT conllu from C LIMIT 10')\n",
    "        self.text = []\n",
    "    def __iter__(self):\n",
    "        return self\n",
    "    def  __next__(self):\n",
    "        if not self.text:\n",
    "            self.text = self.cursor.fetchone()\n",
    "            if not self.text:\n",
    "                raise StopIteration\n",
    "            else:\n",
    "                self.text =connlu_parse(self.text[0])\n",
    "        for i in self.text:\n",
    "            yield i"
   ]
  },
  {
   "cell_type": "code",
   "execution_count": 42,
   "metadata": {},
   "outputs": [],
   "source": [
    "x = [x for x in yield_commits()]"
   ]
  },
  {
   "cell_type": "code",
   "execution_count": 71,
   "metadata": {},
   "outputs": [],
   "source": [
    "class CommitIterator2:\n",
    "    def __init__(self):\n",
    "        self.cursor = mydb.cursor()\n",
    "        self.cursor.execute('SELECT conllu from C LIMIT 10')\n",
    "        self.text = []\n",
    "    def __iter__(self):\n",
    "        if not self.text:\n",
    "            self.text = self.cursor.fetchone()\n",
    "            if not self.text:\n",
    "                raise StopIteration\n",
    "            else:\n",
    "                self.text =connlu_parse(self.text[0])[::-1]\n",
    "        current = self.text[-1]\n",
    "        del self.text[-1]\n",
    "        return current"
   ]
  },
  {
   "cell_type": "code",
   "execution_count": 51,
   "metadata": {},
   "outputs": [],
   "source": [
    "w2v = gensim.models.word2vec.Word2Vec(sentences=x, size=300,  window=5, seed=23,  workers=7, \n",
    "                                      min_count=10, sorted_vocab=1)"
   ]
  }
 ],
 "metadata": {
  "kernelspec": {
   "display_name": "Python 3",
   "language": "python",
   "name": "python3"
  },
  "language_info": {
   "codemirror_mode": {
    "name": "ipython",
    "version": 3
   },
   "file_extension": ".py",
   "mimetype": "text/x-python",
   "name": "python",
   "nbconvert_exporter": "python",
   "pygments_lexer": "ipython3",
   "version": "3.5.2"
  }
 },
 "nbformat": 4,
 "nbformat_minor": 2
}

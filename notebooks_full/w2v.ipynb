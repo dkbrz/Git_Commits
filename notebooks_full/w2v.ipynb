{
 "cells": [
  {
   "cell_type": "code",
   "execution_count": 70,
   "metadata": {},
   "outputs": [],
   "source": [
    "from gensim.models.word2vec import Word2Vec\n",
    "from gensim.models.keyedvectors import KeyedVectors"
   ]
  },
  {
   "cell_type": "code",
   "execution_count": 2,
   "metadata": {},
   "outputs": [],
   "source": [
    "import warnings\n",
    "warnings.filterwarnings(\"ignore\")\n",
    "from collections import defaultdict\n",
    "from tqdm.autonotebook import tqdm\n",
    "#import pandas as pd\n",
    "import mysql.connector\n",
    "import codecs\n",
    "codecs.register(lambda name: codecs.lookup('utf8') if name == 'utf8mb4' else None)\n",
    "import conllu"
   ]
  },
  {
   "cell_type": "code",
   "execution_count": 36,
   "metadata": {},
   "outputs": [],
   "source": [
    "mydb = mysql.connector.connect(\n",
    "  host=\"localhost\",\n",
    "  user=\"root\",\n",
    "  passwd='password',\n",
    "  #database=\"small_commits_db\"\n",
    "  database='commits_db',\n",
    "  charset='utf8mb4')\n",
    "\n",
    "mycursor = mydb.cursor()"
   ]
  },
  {
   "cell_type": "markdown",
   "metadata": {},
   "source": [
    "## Data by time"
   ]
  },
  {
   "cell_type": "code",
   "execution_count": null,
   "metadata": {},
   "outputs": [],
   "source": []
  },
  {
   "cell_type": "code",
   "execution_count": 62,
   "metadata": {},
   "outputs": [],
   "source": [
    "def yield_lemma(year, month, mode='exact'):\n",
    "    dt = str(year)+'-'+month\n",
    "    if mode == 'exact':\n",
    "        mycursor.execute('SELECT conllu FROM C WHERE date LIKE \"{}%\"'.format(dt))\n",
    "    elif mode == 'before':\n",
    "        mycursor.execute('SELECT conllu FROM C WHERE date < %s', (str(year),))\n",
    "    else:\n",
    "        mycursor.execute('SELECT conllu FROM C WHERE date >= %s', (str(year),))\n",
    "    text = mycursor.fetchone()\n",
    "    #print (text)\n",
    "    while text:\n",
    "        doc = conllu.parse(text[0])\n",
    "        for sent in doc:\n",
    "            snt = []\n",
    "            for i in sent.tokens:\n",
    "                snt.append(i['lemma'])\n",
    "            yield snt\n",
    "        text = mycursor.fetchone()"
   ]
  },
  {
   "cell_type": "code",
   "execution_count": 66,
   "metadata": {},
   "outputs": [],
   "source": [
    "mydb = mysql.connector.connect(\n",
    "  host=\"localhost\",\n",
    "  user=\"root\",\n",
    "  passwd='password',\n",
    "  #database=\"small_commits_db\"\n",
    "  database='commits_db',\n",
    "  charset='utf8mb4')\n",
    "\n",
    "mycursor = mydb.cursor()"
   ]
  },
  {
   "cell_type": "code",
   "execution_count": 67,
   "metadata": {},
   "outputs": [
    {
     "data": {
      "application/vnd.jupyter.widget-view+json": {
       "model_id": "2c5ffc9fec834e22b37ed2543ccb1e6f",
       "version_major": 2,
       "version_minor": 0
      },
      "text/plain": [
       "HBox(children=(IntProgress(value=1, bar_style='info', max=1), HTML(value='')))"
      ]
     },
     "metadata": {},
     "output_type": "display_data"
    }
   ],
   "source": [
    "with open('../data/by_month/1999-before.txt', 'w') as file:\n",
    "    for item in tqdm(yield_lemma(2000, '00', mode='before')):\n",
    "        sent = item\n",
    "        print(' '.join(sent).strip(), file=file)"
   ]
  },
  {
   "cell_type": "code",
   "execution_count": 68,
   "metadata": {},
   "outputs": [
    {
     "data": {
      "application/vnd.jupyter.widget-view+json": {
       "model_id": "c83adbf3865f4854a05acad60ab3cdd2",
       "version_major": 2,
       "version_minor": 0
      },
      "text/plain": [
       "HBox(children=(IntProgress(value=1, bar_style='info', max=1), HTML(value='')))"
      ]
     },
     "metadata": {},
     "output_type": "display_data"
    }
   ],
   "source": [
    "with open('../data/by_month/2019-after.txt', 'w') as file:\n",
    "    for item in tqdm(yield_lemma(2019, '00', mode='after')):\n",
    "        sent = item\n",
    "        print(' '.join(sent).strip(), file=file)"
   ]
  },
  {
   "cell_type": "code",
   "execution_count": 69,
   "metadata": {},
   "outputs": [],
   "source": [
    "a = 2000\n",
    "b = 2019\n",
    "x = ['01', '02', '03', '04','05','06', '07','08','09', '10','11','12']"
   ]
  },
  {
   "cell_type": "code",
   "execution_count": null,
   "metadata": {},
   "outputs": [],
   "source": [
    "for year in tqdm(range(a, b)):\n",
    "    for month in tqdm(x, leave=False):\n",
    "        with open('../data/by_month/{}-{}.txt'.format(str(year), month), 'w') as file:\n",
    "            for item in tqdm(yield_lemma(year, month, mode='exact'), leave=False):\n",
    "                sent = item\n",
    "                print(' '.join(sent).strip(), file=file)"
   ]
  },
  {
   "cell_type": "code",
   "execution_count": null,
   "metadata": {},
   "outputs": [],
   "source": [
    "date = None\n",
    "for item in tqdm(yield_lemma()):\n",
    "    date1, sent = item\n",
    "    print(date1, sent)\n",
    "    if date1 != date:\n",
    "        date = date1\n",
    "        file = open('../data/by_month/{}.txt'.format(date), 'w')\n",
    "    print(' '.join(sent).strip(), file=file)"
   ]
  },
  {
   "cell_type": "markdown",
   "metadata": {},
   "source": [
    "## Frequency dict"
   ]
  },
  {
   "cell_type": "code",
   "execution_count": 12,
   "metadata": {},
   "outputs": [
    {
     "name": "stdout",
     "output_type": "stream",
     "text": [
      "113983 frequency_dict_no_pos_proc.csv\r\n"
     ]
    }
   ],
   "source": [
    "! wc -l frequency_dict_no_pos_proc.csv"
   ]
  },
  {
   "cell_type": "code",
   "execution_count": 14,
   "metadata": {},
   "outputs": [
    {
     "name": "stdout",
     "output_type": "stream",
     "text": [
      "decisiontable\t0\t0\t0\t0\t0\t0\t101\t0\t0\t0\t0\t0\t0\t0\t0\t0\t101\r\n",
      "19955\t12\t5\t15\t0\t2\t1\t1\t2\t0\t31\t5\t7\t0\t0\t3\t17\t101\r\n",
      "webtextrenderer\t0\t0\t0\t0\t0\t0\t0\t0\t0\t0\t0\t0\t0\t0\t0\t101\t101\r\n",
      "37051\t4\t0\t74\t0\t2\t0\t1\t0\t0\t7\t1\t7\t1\t0\t0\t4\t101\r\n",
      "rmlock\t100\t0\t0\t0\t0\t0\t0\t0\t0\t0\t0\t1\t0\t0\t0\t0\t101\r\n"
     ]
    }
   ],
   "source": [
    "! tail -n 5 frequency_dict_no_pos_proc.csv"
   ]
  },
  {
   "cell_type": "code",
   "execution_count": 25,
   "metadata": {},
   "outputs": [],
   "source": [
    "freq_dict = {}\n",
    "k = 0\n",
    "for line in open('frequency_dict_no_pos_proc.csv'):\n",
    "    if k == 0:\n",
    "        k += 1\n",
    "    else:\n",
    "        row = line.strip().split('\\t')\n",
    "        if row[0].isalpha():\n",
    "            freq_dict[row[0]] = int(row[-1])"
   ]
  },
  {
   "cell_type": "markdown",
   "metadata": {},
   "source": [
    "## W2V time"
   ]
  },
  {
   "cell_type": "code",
   "execution_count": 71,
   "metadata": {},
   "outputs": [],
   "source": [
    "w2v = Word2Vec()"
   ]
  },
  {
   "cell_type": "code",
   "execution_count": 72,
   "metadata": {},
   "outputs": [],
   "source": [
    "w2v.build_vocab_from_freq(freq_dict, update=False)"
   ]
  },
  {
   "cell_type": "code",
   "execution_count": 79,
   "metadata": {},
   "outputs": [
    {
     "name": "stdout",
     "output_type": "stream",
     "text": [
      "1178804 10423409\n"
     ]
    },
    {
     "data": {
      "text/plain": [
       "(42643705, 103319350)"
      ]
     },
     "execution_count": 79,
     "metadata": {},
     "output_type": "execute_result"
    }
   ],
   "source": [
    "k = 0\n",
    "w = 0\n",
    "for line in  open('../data/by_month/1999-before.txt'):\n",
    "    w += len(line.split())\n",
    "    k += 1\n",
    "print(k, w)\n",
    "w2v.train(total_examples=k, total_words = w, corpus_file='../data/by_month/1999-before.txt', epochs=10)"
   ]
  },
  {
   "cell_type": "code",
   "execution_count": 80,
   "metadata": {},
   "outputs": [
    {
     "data": {
      "text/plain": [
       "[('fixe', 0.7021887302398682),\n",
       " ('fixed', 0.7015795707702637),\n",
       " ('correct', 0.651726484298706),\n",
       " ('repair', 0.6419893503189087),\n",
       " ('cure', 0.596564769744873),\n",
       " ('fixing', 0.5345549583435059),\n",
       " ('nasty', 0.5187071561813354),\n",
       " ('uncover', 0.513318657875061),\n",
       " ('solve', 0.5057026743888855),\n",
       " ('involve', 0.4987739324569702)]"
      ]
     },
     "execution_count": 80,
     "metadata": {},
     "output_type": "execute_result"
    }
   ],
   "source": [
    "w2v.wv.most_similar('fix')"
   ]
  },
  {
   "cell_type": "code",
   "execution_count": 85,
   "metadata": {},
   "outputs": [],
   "source": [
    "import os\n",
    "from collections import defaultdict\n",
    "lsr = os.listdir('../data/by_month/')\n",
    "yrs = defaultdict(list)\n",
    "for i in lsr:\n",
    "    yrs[i[:4]].append('../data/by_month/'+i)\n",
    "yrs = dict(yrs)"
   ]
  },
  {
   "cell_type": "code",
   "execution_count": 86,
   "metadata": {},
   "outputs": [
    {
     "data": {
      "text/plain": [
       "{'1999': ['../data/by_month/1999-before.txt'],\n",
       " '2019': ['../data/by_month/2019-after.txt']}"
      ]
     },
     "execution_count": 86,
     "metadata": {},
     "output_type": "execute_result"
    }
   ],
   "source": [
    "yrs"
   ]
  },
  {
   "cell_type": "code",
   "execution_count": 88,
   "metadata": {},
   "outputs": [
    {
     "data": {
      "application/vnd.jupyter.widget-view+json": {
       "model_id": "6e1ea52088494c94bca2e7fc9cabba0e",
       "version_major": 2,
       "version_minor": 0
      },
      "text/plain": [
       "HBox(children=(IntProgress(value=0, max=2), HTML(value='')))"
      ]
     },
     "metadata": {},
     "output_type": "display_data"
    },
    {
     "data": {
      "application/vnd.jupyter.widget-view+json": {
       "model_id": "",
       "version_major": 2,
       "version_minor": 0
      },
      "text/plain": [
       "HBox(children=(IntProgress(value=0, max=1), HTML(value='')))"
      ]
     },
     "metadata": {},
     "output_type": "display_data"
    },
    {
     "data": {
      "application/vnd.jupyter.widget-view+json": {
       "model_id": "",
       "version_major": 2,
       "version_minor": 0
      },
      "text/plain": [
       "HBox(children=(IntProgress(value=1, bar_style='info', max=1), HTML(value='')))"
      ]
     },
     "metadata": {},
     "output_type": "display_data"
    },
    {
     "data": {
      "application/vnd.jupyter.widget-view+json": {
       "model_id": "",
       "version_major": 2,
       "version_minor": 0
      },
      "text/plain": [
       "HBox(children=(IntProgress(value=0, max=1), HTML(value='')))"
      ]
     },
     "metadata": {},
     "output_type": "display_data"
    },
    {
     "data": {
      "application/vnd.jupyter.widget-view+json": {
       "model_id": "",
       "version_major": 2,
       "version_minor": 0
      },
      "text/plain": [
       "HBox(children=(IntProgress(value=1, bar_style='info', max=1), HTML(value='')))"
      ]
     },
     "metadata": {},
     "output_type": "display_data"
    }
   ],
   "source": [
    "for year in tqdm(yrs):\n",
    "    fname = '../data/by_month_vecs/'+str(year)+'.txt'\n",
    "    for month in tqdm(yrs[year], leave=False):\n",
    "        k = 0\n",
    "        w = 0\n",
    "        for line in tqdm(open(month), leave=False):\n",
    "            w += len(line.split())\n",
    "            k += 1\n",
    "        w2v.train(total_examples=k, total_words = w, corpus_file=month, epochs=10)\n",
    "    w2v.wv.save_word2vec_format(fname, binary=False)"
   ]
  }
 ],
 "metadata": {
  "kernelspec": {
   "display_name": "Python 3",
   "language": "python",
   "name": "python3"
  },
  "language_info": {
   "codemirror_mode": {
    "name": "ipython",
    "version": 3
   },
   "file_extension": ".py",
   "mimetype": "text/x-python",
   "name": "python",
   "nbconvert_exporter": "python",
   "pygments_lexer": "ipython3",
   "version": "3.5.2"
  }
 },
 "nbformat": 4,
 "nbformat_minor": 2
}

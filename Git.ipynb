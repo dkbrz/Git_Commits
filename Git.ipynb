{
 "cells": [
  {
   "cell_type": "code",
   "execution_count": 1,
   "metadata": {},
   "outputs": [],
   "source": [
    "from IPython.display import clear_output\n",
    "import re"
   ]
  },
  {
   "cell_type": "markdown",
   "metadata": {},
   "source": [
    "## Get Candidates"
   ]
  },
  {
   "cell_type": "code",
   "execution_count": 2,
   "metadata": {},
   "outputs": [],
   "source": [
    "import datetime\n",
    "import time\n",
    "from tqdm import tqdm_notebook as tqdm\n",
    "from github import Github\n",
    "g = Github(\"dkbrz\", \"\")"
   ]
  },
  {
   "cell_type": "code",
   "execution_count": 39,
   "metadata": {},
   "outputs": [],
   "source": [
    "def dates():\n",
    "    d1 = datetime.date(2007, 10, 28)  # start date\n",
    "    d2 = datetime.date(2018, 11, 13)  # end date\n",
    "    delta = d2 - d1         # timedelta\n",
    "    for i in range(delta.days + 1):\n",
    "        yield str(d1 + datetime.timedelta(i))"
   ]
  },
  {
   "cell_type": "code",
   "execution_count": 5,
   "metadata": {},
   "outputs": [],
   "source": [
    "def get_dates():\n",
    "    q = dates()\n",
    "    stop = False\n",
    "    while not stop:\n",
    "        a = []\n",
    "        for i in range(10):\n",
    "            try:\n",
    "                a.append(next(q))\n",
    "            except StopIteration:\n",
    "                stop = True\n",
    "        if len(a) > 0:\n",
    "            yield a"
   ]
  },
  {
   "cell_type": "code",
   "execution_count": 38,
   "metadata": {},
   "outputs": [],
   "source": [
    "def _write_name(chunk, f):\n",
    "            date = ' '.join('created:{}'.format(date) for date in chunk)\n",
    "            S = g.search_repositories('stars:>200 {}'.format(date), sort='stars', order='desc')\n",
    "            S._PaginatedList__requester.per_page = 100\n",
    "            for repo in S:\n",
    "                f.write(repo.full_name+'\\n')\n",
    "            print (chunk[-1])\n",
    "            time.sleep(2)\n",
    "            clear_output()"
   ]
  },
  {
   "cell_type": "code",
   "execution_count": 32,
   "metadata": {},
   "outputs": [],
   "source": [
    "def get_repos():\n",
    "    with open('repos.txt','a', encoding='utf-8') as f:\n",
    "        for chunk in get_dates():\n",
    "            try:\n",
    "            #if True:\n",
    "                _write_name(chunk, f)\n",
    "            except:\n",
    "                print ('Oops!')\n",
    "                print (chunk)\n",
    "                time.sleep(5)\n",
    "                _write_name(chunk, f)"
   ]
  },
  {
   "cell_type": "code",
   "execution_count": 40,
   "metadata": {},
   "outputs": [],
   "source": [
    "get_repos()"
   ]
  },
  {
   "cell_type": "code",
   "execution_count": 41,
   "metadata": {},
   "outputs": [
    {
     "data": {
      "text/plain": [
       "74726"
      ]
     },
     "execution_count": 41,
     "metadata": {},
     "output_type": "execute_result"
    }
   ],
   "source": [
    "k = 0\n",
    "with open('repos.txt','r') as f:\n",
    "    for line in f:\n",
    "        k += 1\n",
    "k"
   ]
  },
  {
   "cell_type": "markdown",
   "metadata": {},
   "source": [
    "## Get Commits"
   ]
  },
  {
   "cell_type": "code",
   "execution_count": 4,
   "metadata": {},
   "outputs": [],
   "source": [
    "import sqlite3\n",
    "con = sqlite3.connect('DB.db')\n",
    "cur = con.cursor()"
   ]
  },
  {
   "cell_type": "code",
   "execution_count": 5,
   "metadata": {},
   "outputs": [],
   "source": [
    "def _next_repo():\n",
    "    with open('repos.txt','r') as f:\n",
    "        for line in f: \n",
    "            if line != '\\n': yield line.strip()"
   ]
  },
  {
   "cell_type": "code",
   "execution_count": 6,
   "metadata": {},
   "outputs": [],
   "source": [
    "def _parse_commit(commit, R):\n",
    "    try:\n",
    "        author = re.sub('-{2,}','\\\\-\\\\-',commit.author.login).replace('\"','\"\"')\n",
    "    except: author = ''\n",
    "    message = re.sub('-{2,}','\\\\-\\\\-',commit.commit.message).replace('\"','\"\"')\n",
    "    gh_id = R.id\n",
    "    date = commit.commit.author.date\n",
    "    result = (author, gh_id, message, date)\n",
    "    return result"
   ]
  },
  {
   "cell_type": "code",
   "execution_count": 36,
   "metadata": {},
   "outputs": [],
   "source": [
    "def _chunks_of_commits(C, R):\n",
    "    stop = False\n",
    "    while not stop:\n",
    "        a = []\n",
    "        for _ in range(1000):\n",
    "            try:\n",
    "                k = next(C)\n",
    "                a.append(_parse_commit(k, R))\n",
    "            except: break\n",
    "        if len(a) > 0: yield a\n",
    "        else: raise StopIteration"
   ]
  },
  {
   "cell_type": "code",
   "execution_count": 15,
   "metadata": {},
   "outputs": [],
   "source": [
    "def _save_repo(R):\n",
    "    global cur\n",
    "    cur.execute('\\\n",
    "    INSERT INTO R (gh_id, owner, name, language, created_at, updated_at,\\\n",
    "    size, stars, subs, watchers, network_count, has_wiki, languages_url)\\\n",
    "    VALUES(?,?,?,?,?,?,?,?,?,?,?,?,?)',\n",
    "               (R.id, R.owner.login, R.name, R.language, R.created_at, R.updated_at,\n",
    "                R.size, R.stargazers_count, R.subscribers_count, R.watchers_count,\n",
    "                R.network_count, int(R.has_wiki), R.languages_url)\n",
    "               )"
   ]
  },
  {
   "cell_type": "code",
   "execution_count": 16,
   "metadata": {},
   "outputs": [],
   "source": [
    "def _write_data(R, C, nPages):\n",
    "    global cur, con\n",
    "    for chunk in tqdm(_chunks_of_commits(C, R)):\n",
    "        cur.executemany('INSERT INTO C (user, repo_id, text, date) VALUES (?, ?, ?, ?)', chunk)\n",
    "    _save_repo(R)\n",
    "    con.commit()"
   ]
  },
  {
   "cell_type": "code",
   "execution_count": 39,
   "metadata": {},
   "outputs": [],
   "source": [
    "def get_data():\n",
    "    with open('later.txt', 'a') as f:\n",
    "        for full_name in _next_repo():\n",
    "            try:\n",
    "                print(full_name)\n",
    "                R = g.get_repo(full_name)\n",
    "                if R.fork: break\n",
    "                C = R.get_commits()\n",
    "                C._PaginatedList__requester.per_page = 100\n",
    "                nPages = C.totalCount // 100 + 1\n",
    "                print (nPages/10)\n",
    "                if nPages >  4000:\n",
    "                    f.write('{}\\t{}\\n'.format(full_name, nPages))\n",
    "                    break\n",
    "                else:\n",
    "                    left = g.get_rate_limit().core\n",
    "                    nLeft = left.remaining\n",
    "                    timing = (datetime.datetime.utcnow() - left.reset).seconds\n",
    "                    if nPages >= nLeft + 5:\n",
    "                        if timing > 300: f.write('{}\\t{}\\n'.format(full_name, nPages))\n",
    "                        else: \n",
    "                            print (left.reset)\n",
    "                            time.sleep(timing)\n",
    "                    else:\n",
    "                        C = iter(C)\n",
    "                        _write_data(R, C, nPages)\n",
    "                clear_output()\n",
    "            except:\n",
    "                print ('Oops!')\n",
    "                f.write('{}\\t{}\\n'.format(full_name, -1))\n",
    "                        "
   ]
  },
  {
   "cell_type": "code",
   "execution_count": 40,
   "metadata": {},
   "outputs": [],
   "source": [
    "con.rollback()"
   ]
  },
  {
   "cell_type": "code",
   "execution_count": null,
   "metadata": {},
   "outputs": [
    {
     "name": "stdout",
     "output_type": "stream",
     "text": [
      "git/git\n",
      "53.9\n"
     ]
    },
    {
     "data": {
      "application/vnd.jupyter.widget-view+json": {
       "model_id": "b63ecd2a84a543709fe4b15a1fbae1c7",
       "version_major": 2,
       "version_minor": 0
      },
      "text/plain": [
       "HBox(children=(IntProgress(value=1, bar_style='info', max=1), HTML(value='')))"
      ]
     },
     "metadata": {},
     "output_type": "display_data"
    }
   ],
   "source": [
    "get_data()"
   ]
  },
  {
   "cell_type": "code",
   "execution_count": 42,
   "metadata": {},
   "outputs": [
    {
     "data": {
      "text/plain": [
       "Rate(remaining=5000, limit=5000)"
      ]
     },
     "execution_count": 42,
     "metadata": {},
     "output_type": "execute_result"
    }
   ],
   "source": [
    "g.get_rate_limit().core"
   ]
  },
  {
   "cell_type": "code",
   "execution_count": 15,
   "metadata": {},
   "outputs": [],
   "source": [
    "R = g.get_repo('mojombo/grit')"
   ]
  },
  {
   "cell_type": "code",
   "execution_count": 15,
   "metadata": {},
   "outputs": [
    {
     "data": {
      "text/plain": [
       "'2011-07-29 21:19:00'"
      ]
     },
     "execution_count": 15,
     "metadata": {},
     "output_type": "execute_result"
    }
   ],
   "source": [
    "str(R.created_at)"
   ]
  },
  {
   "cell_type": "code",
   "execution_count": 121,
   "metadata": {},
   "outputs": [
    {
     "data": {
      "text/plain": [
       "'CSS'"
      ]
     },
     "execution_count": 121,
     "metadata": {},
     "output_type": "execute_result"
    }
   ],
   "source": [
    "R.language"
   ]
  },
  {
   "cell_type": "code",
   "execution_count": 46,
   "metadata": {},
   "outputs": [],
   "source": [
    "C = R.get_commits()"
   ]
  },
  {
   "cell_type": "code",
   "execution_count": 47,
   "metadata": {},
   "outputs": [],
   "source": [
    "c = C[0]"
   ]
  },
  {
   "cell_type": "code",
   "execution_count": 53,
   "metadata": {},
   "outputs": [
    {
     "data": {
      "text/plain": [
       "'bkeepers'"
      ]
     },
     "execution_count": 53,
     "metadata": {},
     "output_type": "execute_result"
    }
   ],
   "source": [
    "c.author.login"
   ]
  },
  {
   "cell_type": "code",
   "execution_count": 26,
   "metadata": {},
   "outputs": [],
   "source": [
    "E = iter(C)"
   ]
  },
  {
   "cell_type": "code",
   "execution_count": 41,
   "metadata": {},
   "outputs": [
    {
     "data": {
      "text/plain": [
       "Commit(sha=\"f87da75a4ab2f2de7201370c9e8b1da99e703eef\")"
      ]
     },
     "execution_count": 41,
     "metadata": {},
     "output_type": "execute_result"
    }
   ],
   "source": [
    "next(E)"
   ]
  },
  {
   "cell_type": "code",
   "execution_count": 76,
   "metadata": {},
   "outputs": [],
   "source": [
    "C1 = C[0]"
   ]
  },
  {
   "cell_type": "code",
   "execution_count": 77,
   "metadata": {},
   "outputs": [
    {
     "data": {
      "text/plain": [
       "Commit(sha=\"0a3755b30ade6137dc3d51238e729f741ec5983a\")"
      ]
     },
     "execution_count": 77,
     "metadata": {},
     "output_type": "execute_result"
    }
   ],
   "source": [
    "C1"
   ]
  },
  {
   "cell_type": "code",
   "execution_count": 84,
   "metadata": {},
   "outputs": [
    {
     "data": {
      "text/plain": [
       "'Fix typo in the Popper.js checks. (#27488)'"
      ]
     },
     "execution_count": 84,
     "metadata": {},
     "output_type": "execute_result"
    }
   ],
   "source": [
    "C1.commit.message"
   ]
  },
  {
   "cell_type": "code",
   "execution_count": 87,
   "metadata": {},
   "outputs": [
    {
     "data": {
      "text/plain": [
       "'XhmikosR'"
      ]
     },
     "execution_count": 87,
     "metadata": {},
     "output_type": "execute_result"
    }
   ],
   "source": [
    "C1.commit.author.name"
   ]
  },
  {
   "cell_type": "code",
   "execution_count": 88,
   "metadata": {},
   "outputs": [
    {
     "data": {
      "text/plain": [
       "datetime.datetime(2018, 10, 21, 8, 51, 20)"
      ]
     },
     "execution_count": 88,
     "metadata": {},
     "output_type": "execute_result"
    }
   ],
   "source": [
    "C1.commit.author.date"
   ]
  },
  {
   "cell_type": "code",
   "execution_count": 83,
   "metadata": {},
   "outputs": [
    {
     "data": {
      "text/plain": [
       "4"
      ]
     },
     "execution_count": 83,
     "metadata": {},
     "output_type": "execute_result"
    }
   ],
   "source": [
    "C1.stats.total"
   ]
  }
 ],
 "metadata": {
  "kernelspec": {
   "display_name": "Python 3",
   "language": "python",
   "name": "python3"
  },
  "language_info": {
   "codemirror_mode": {
    "name": "ipython",
    "version": 3
   },
   "file_extension": ".py",
   "mimetype": "text/x-python",
   "name": "python",
   "nbconvert_exporter": "python",
   "pygments_lexer": "ipython3",
   "version": "3.6.6"
  }
 },
 "nbformat": 4,
 "nbformat_minor": 2
}

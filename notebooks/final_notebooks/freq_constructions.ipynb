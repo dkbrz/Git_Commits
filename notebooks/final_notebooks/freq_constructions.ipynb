{
 "cells": [
  {
   "cell_type": "code",
   "execution_count": 2,
   "metadata": {},
   "outputs": [],
   "source": [
    "import warnings\n",
    "warnings.filterwarnings(\"ignore\")\n",
    "from collections import defaultdict\n",
    "from tqdm.autonotebook import tqdm\n",
    "#import pandas as pd\n",
    "import mysql.connector\n",
    "import codecs\n",
    "codecs.register(lambda name: codecs.lookup('utf8') if name == 'utf8mb4' else None)\n",
    "import re\n",
    "import conllu"
   ]
  },
  {
   "cell_type": "code",
   "execution_count": 3,
   "metadata": {},
   "outputs": [],
   "source": [
    "db = mysql.connector.connect(\n",
    "  host=\"localhost\",\n",
    "  user=\"root\",\n",
    "  passwd='password',\n",
    "  database='pruned_commits_db2',\n",
    "  charset='utf8mb4')\n",
    "\n",
    "cur = db.cursor()\n",
    "cur.execute('SELECT lemma FROM lemmas ORDER BY id LIMIT 100')\n",
    "top_lemmas = set([i[0] for i in cur.fetchall()])"
   ]
  },
  {
   "cell_type": "code",
   "execution_count": 4,
   "metadata": {},
   "outputs": [],
   "source": [
    "db = mysql.connector.connect(\n",
    "  host=\"localhost\",\n",
    "  user=\"root\",\n",
    "  passwd='password',\n",
    "  database='small_commits_db',\n",
    "  charset='utf8mb4')\n",
    "\n",
    "cur = db.cursor()"
   ]
  },
  {
   "cell_type": "code",
   "execution_count": 28,
   "metadata": {},
   "outputs": [],
   "source": [
    "def yield_pos_short():\n",
    "    #mycursor.execute('SELECT conllu, language FROM C LEFT JOIN R ON C.repo_id=R.gh_id LIMIT 1000;')\n",
    "    cur.execute('SELECT conllu, date FROM C LIMIT 100000')\n",
    "    text = cur.fetchone()\n",
    "    while text:\n",
    "        #doc = conllu.parse(text[0])\n",
    "        doc = re.findall('sent_id', text[0])\n",
    "        date = text[1]\n",
    "        if len(doc) > 0:\n",
    "            doc = conllu.parse(text[0])\n",
    "            if len(doc[0].tokens) <= 20:\n",
    "                string = []\n",
    "                if doc[0].tokens[0]['lemma'] in top_lemmas:\n",
    "                    string.append(doc[0].tokens[0]['lemma'])\n",
    "                    for i in doc[0].tokens[1:]:\n",
    "                        string.append(i['upostag'])\n",
    "                    yield ' '.join(string)+'\\t'+date[:4]\n",
    "        text = cur.fetchone()"
   ]
  },
  {
   "cell_type": "code",
   "execution_count": 29,
   "metadata": {},
   "outputs": [
    {
     "data": {
      "application/vnd.jupyter.widget-view+json": {
       "model_id": "b6584f985a6644d29decb8989d2e4389",
       "version_major": 2,
       "version_minor": 0
      },
      "text/plain": [
       "HBox(children=(IntProgress(value=1, bar_style='info', max=1), HTML(value='')))"
      ]
     },
     "metadata": {},
     "output_type": "display_data"
    },
    {
     "name": "stdout",
     "output_type": "stream",
     "text": [
      "\n"
     ]
    }
   ],
   "source": [
    "file = open('/home/dkbrz/git_commits/top_first_freq.txt', 'w')\n",
    "for i in tqdm(yield_pos_short()):\n",
    "    print (i, file=file)"
   ]
  },
  {
   "cell_type": "code",
   "execution_count": 30,
   "metadata": {},
   "outputs": [
    {
     "data": {
      "application/vnd.jupyter.widget-view+json": {
       "model_id": "3ba2aec3332843aaa3a999f39273df68",
       "version_major": 2,
       "version_minor": 0
      },
      "text/plain": [
       "HBox(children=(IntProgress(value=1, bar_style='info', max=1), HTML(value='')))"
      ]
     },
     "metadata": {},
     "output_type": "display_data"
    },
    {
     "name": "stdout",
     "output_type": "stream",
     "text": [
      "\n"
     ]
    }
   ],
   "source": [
    "def yield_pos_short():\n",
    "    #mycursor.execute('SELECT conllu, language FROM C LEFT JOIN R ON C.repo_id=R.gh_id LIMIT 1000;')\n",
    "    cur.execute('SELECT date FROM C LIMIT 100000')\n",
    "    text = cur.fetchone()\n",
    "    while text:\n",
    "        yield text[0][:4]\n",
    "        text = cur.fetchone()\n",
    "before = 0\n",
    "after = 0\n",
    "for date in tqdm(yield_pos_short()):\n",
    "    #print(date)\n",
    "    if date > '2016-01-01':\n",
    "        after += 1\n",
    "    elif date < '2010-01-01':\n",
    "        before += 1 "
   ]
  },
  {
   "cell_type": "code",
   "execution_count": 31,
   "metadata": {},
   "outputs": [
    {
     "data": {
      "text/plain": [
       "(53200, 4870)"
      ]
     },
     "execution_count": 31,
     "metadata": {},
     "output_type": "execute_result"
    }
   ],
   "source": [
    "before, after"
   ]
  },
  {
   "cell_type": "code",
   "execution_count": 32,
   "metadata": {},
   "outputs": [],
   "source": [
    "! sort /home/dkbrz/git_commits/top_first_freq.txt -T . > /home/dkbrz/git_commits/top_first_freq_sorted.txt"
   ]
  },
  {
   "cell_type": "code",
   "execution_count": 33,
   "metadata": {},
   "outputs": [
    {
     "name": "stdout",
     "output_type": "stream",
     "text": [
      "work PART VERB NUM NOUN\t2007\r\n",
      "work PART VERB NUM NOUN PUNCT\t2009\r\n",
      "work PROPN PUNCT PROPN\t2010\r\n",
      "work PROPN VERB ADP NOUN NOUN\t2007\r\n",
      "work PUNCT ADV ADP ADP NUM NOUN PUNCT VERB ADP NOUN PART NOUN SCONJ PRON AUX ADP SYM NUM PUNCT\t2016\r\n",
      "work PUNCT NOUN PUNCT NOUN AUX ADJ PUNCT NOUN NOUN NOUN PUNCT\t2009\r\n",
      "work SCONJ VERB ADJ ADP DET NOUN\t2009\r\n",
      "work SCONJ VERB ADP ADJ NOUN VERB NOUN PUNCT\t2008\r\n",
      "work SCONJ VERB DET NOUN NOUN ADP NOUN NOUN\t2008\r\n",
      "work SCONJ VERB NOUN\t2007\r\n"
     ]
    }
   ],
   "source": [
    "! tail /home/dkbrz/git_commits/top_first_freq_sorted.txt"
   ]
  },
  {
   "cell_type": "code",
   "execution_count": 34,
   "metadata": {},
   "outputs": [],
   "source": [
    "top = 10\n",
    "k = 0\n",
    "string = ''\n",
    "counts = {}\n",
    "before = 0\n",
    "after = 0\n",
    "for line in open('/home/dkbrz/git_commits/top_first_freq_sorted.txt'):\n",
    "    text, date = line.strip().split('\\t')\n",
    "    if text != string:\n",
    "        if before + after > top:\n",
    "            counts[string] = [before, after]\n",
    "        k = 1\n",
    "        before = 0\n",
    "        after = 0\n",
    "        if date > '2016-01-01':\n",
    "            after += 1\n",
    "        elif date < '2010-01-01':\n",
    "            before += 1\n",
    "        string = text\n",
    "    else:\n",
    "        k += 1\n",
    "        if date > '2016-01-01':\n",
    "            after += 1\n",
    "        elif date < '2010-01-01':\n",
    "            before += 1"
   ]
  },
  {
   "cell_type": "code",
   "execution_count": 35,
   "metadata": {},
   "outputs": [
    {
     "data": {
      "text/plain": [
       "{'add ADJ NOUN': [80, 6],\n",
       " 'add ADJ NOUN ADP NOUN': [23, 4],\n",
       " 'add ADJ NOUN ADP NOUN NOUN': [16, 4],\n",
       " 'add ADJ NOUN ADP NOUN NOUN PUNCT': [11, 0],\n",
       " 'add ADJ NOUN ADP NOUN PUNCT': [14, 0],\n",
       " 'add ADJ NOUN ADP PROPN': [9, 3],\n",
       " 'add ADJ NOUN ADP PROPN PUNCT': [12, 0],\n",
       " 'add ADJ NOUN NOUN': [57, 2],\n",
       " 'add ADJ NOUN NOUN NOUN': [12, 2],\n",
       " 'add ADJ NOUN NOUN NOUN PUNCT': [10, 1],\n",
       " 'add ADJ NOUN NOUN PUNCT': [26, 6],\n",
       " 'add ADJ NOUN PUNCT': [56, 1],\n",
       " 'add DET ADJ NOUN': [12, 0],\n",
       " 'add DET ADJ NOUN PUNCT': [14, 0],\n",
       " 'add DET NOUN': [17, 0],\n",
       " 'add DET NOUN ADP NOUN': [11, 1],\n",
       " 'add DET NOUN NOUN': [16, 2],\n",
       " 'add DET NOUN NOUN PUNCT': [13, 0],\n",
       " 'add NOUN': [148, 3],\n",
       " 'add NOUN ADP ADJ NOUN': [39, 5],\n",
       " 'add NOUN ADP ADJ NOUN NOUN': [20, 0],\n",
       " 'add NOUN ADP ADJ NOUN PUNCT': [22, 0],\n",
       " 'add NOUN ADP NOUN': [125, 23],\n",
       " 'add NOUN ADP NOUN CCONJ NOUN': [12, 1],\n",
       " 'add NOUN ADP NOUN NOUN': [64, 6],\n",
       " 'add NOUN ADP NOUN NOUN NOUN': [11, 3],\n",
       " 'add NOUN ADP NOUN NOUN PUNCT': [29, 2],\n",
       " 'add NOUN ADP NOUN PUNCT': [31, 1],\n",
       " 'add NOUN ADP NOUN PUNCT NOUN': [4, 30],\n",
       " 'add NOUN ADP PROPN': [43, 2],\n",
       " 'add NOUN ADP PROPN PUNCT': [23, 0],\n",
       " 'add NOUN ADP SYM NOUN': [4, 15],\n",
       " 'add NOUN NOUN': [188, 10],\n",
       " 'add NOUN NOUN ADP ADJ NOUN': [20, 3],\n",
       " 'add NOUN NOUN ADP NOUN': [43, 2],\n",
       " 'add NOUN NOUN ADP NOUN NOUN': [21, 6],\n",
       " 'add NOUN NOUN ADP NOUN NOUN PUNCT': [11, 0],\n",
       " 'add NOUN NOUN ADP NOUN PUNCT': [17, 1],\n",
       " 'add NOUN NOUN ADP PROPN': [12, 4],\n",
       " 'add NOUN NOUN ADP PROPN PUNCT': [14, 0],\n",
       " 'add NOUN NOUN NOUN': [73, 8],\n",
       " 'add NOUN NOUN NOUN NOUN': [16, 2],\n",
       " 'add NOUN NOUN NOUN PUNCT': [14, 3],\n",
       " 'add NOUN NOUN PUNCT': [37, 3],\n",
       " 'add NOUN PART VERB': [15, 1],\n",
       " 'add NOUN PART VERB NOUN': [14, 0],\n",
       " 'add NOUN PUNCT': [48, 3],\n",
       " 'add NOUN PUNCT NOUN': [13, 0],\n",
       " 'add NOUN PUNCT NOUN NOUN': [12, 0],\n",
       " 'add NUM NOUN PUNCT': [12, 0],\n",
       " 'add PROPN': [30, 3],\n",
       " 'add PROPN NOUN': [20, 0],\n",
       " 'add PROPN NOUN NOUN PUNCT': [12, 1],\n",
       " 'add PROPN PUNCT': [22, 1],\n",
       " 'add VERB NOUN': [11, 1],\n",
       " 'doc': [20, 0],\n",
       " 'doc NOUN': [19, 0],\n",
       " 'fix ADJ NOUN': [46, 7],\n",
       " 'fix ADJ NOUN ADP NOUN': [14, 2],\n",
       " 'fix ADJ NOUN NOUN': [38, 1],\n",
       " 'fix ADJ NOUN NOUN NOUN': [12, 1],\n",
       " 'fix ADJ NOUN NOUN PUNCT': [29, 2],\n",
       " 'fix ADJ NOUN PUNCT': [36, 2],\n",
       " 'fix ADP NOUN': [15, 0],\n",
       " 'fix ADP NOUN NOUN': [11, 0],\n",
       " 'fix DET ADJ NOUN NOUN': [10, 1],\n",
       " 'fix DET ADJ NOUN NOUN PUNCT': [19, 0],\n",
       " 'fix DET NOUN': [17, 1],\n",
       " 'fix DET NOUN NOUN': [14, 2],\n",
       " 'fix DET NOUN NOUN PUNCT': [16, 0],\n",
       " 'fix DET NOUN PUNCT': [25, 0],\n",
       " 'fix NOUN': [105, 19],\n",
       " 'fix NOUN ADP ADJ NOUN': [25, 3],\n",
       " 'fix NOUN ADP ADJ NOUN NOUN': [13, 0],\n",
       " 'fix NOUN ADP ADJ NOUN PUNCT': [14, 2],\n",
       " 'fix NOUN ADP NOUN': [55, 11],\n",
       " 'fix NOUN ADP NOUN NOUN': [33, 11],\n",
       " 'fix NOUN ADP NOUN NOUN NOUN': [14, 1],\n",
       " 'fix NOUN ADP NOUN NOUN PUNCT': [14, 0],\n",
       " 'fix NOUN ADP NOUN PUNCT': [21, 0],\n",
       " 'fix NOUN ADP PROPN': [13, 2],\n",
       " 'fix NOUN ADP PROPN PUNCT': [14, 2],\n",
       " 'fix NOUN NOUN': [126, 20],\n",
       " 'fix NOUN NOUN ADP ADJ NOUN': [13, 2],\n",
       " 'fix NOUN NOUN ADP NOUN': [13, 9],\n",
       " 'fix NOUN NOUN ADP NOUN NOUN': [11, 9],\n",
       " 'fix NOUN NOUN ADP NOUN NOUN PUNCT': [11, 0],\n",
       " 'fix NOUN NOUN ADP PROPN': [9, 2],\n",
       " 'fix NOUN NOUN NOUN': [37, 5],\n",
       " 'fix NOUN NOUN NOUN NOUN': [8, 5],\n",
       " 'fix NOUN NOUN NOUN PUNCT': [25, 2],\n",
       " 'fix NOUN NOUN PUNCT': [45, 7],\n",
       " 'fix NOUN PUNCT': [36, 6],\n",
       " 'fix PROPN': [14, 2],\n",
       " 'fix PROPN NOUN': [8, 6],\n",
       " 'fix PROPN NOUN NOUN': [13, 1],\n",
       " 'fix PROPN NOUN NOUN PUNCT': [15, 0],\n",
       " 'fix PUNCT NUM PUNCT': [29, 0],\n",
       " 'fix VERB NOUN': [30, 5],\n",
       " 'fix VERB NOUN NOUN': [12, 2],\n",
       " 'fix VERB PUNCT': [12, 1],\n",
       " 'git PUNCT NOUN PUNCT NOUN PUNCT NUM ADJ NOUN': [66, 0],\n",
       " 'git PUNCT NOUN PUNCT NOUN PUNCT NUM NUM': [235, 0],\n",
       " 'make NOUN ADJ': [10, 1],\n",
       " 'merge': [18, 0],\n",
       " 'merge ADJ NOUN PUNCT NOUN PUNCT NOUN PUNCT': [41, 0],\n",
       " 'merge ADJ NOUN PUNCT NOUN PUNCT NOUN PUNCT ADP ADJ': [18, 0],\n",
       " 'merge ADJ NOUN PUNCT NOUN PUNCT NOUN PUNCT ADP NOUN': [21, 0],\n",
       " 'merge NOUN': [77, 0],\n",
       " 'merge NOUN ADP NOUN': [12, 0],\n",
       " 'merge NOUN NOUN NOUN NUM ADP ADP NOUN': [0, 16],\n",
       " 'merge NOUN NOUN NOUN NUM ADP NOUN': [0, 13],\n",
       " 'merge NOUN NOUN NOUN NUM ADP NOUN PUNCT NOUN': [0, 121],\n",
       " 'merge NOUN NOUN NOUN NUM ADP NOUN PUNCT NOUN PUNCT NOUN': [0, 66],\n",
       " 'merge NOUN NOUN NOUN NUM ADP NOUN PUNCT NOUN PUNCT NOUN PUNCT NOUN': [0, 46],\n",
       " 'merge NOUN NOUN NOUN NUM ADP NOUN PUNCT NOUN PUNCT NOUN PUNCT NOUN PUNCT NOUN': [0,\n",
       "  47],\n",
       " 'merge NOUN NOUN NOUN NUM ADP NOUN PUNCT NOUN PUNCT NOUN PUNCT NOUN PUNCT NOUN PUNCT NOUN': [0,\n",
       "  29],\n",
       " 'merge NOUN NOUN NOUN NUM ADP NOUN PUNCT NOUN PUNCT NUM': [0, 30],\n",
       " 'merge NOUN NOUN NOUN NUM ADP NUM': [0, 12],\n",
       " 'merge NOUN NOUN NOUN NUM ADP NUM PUNCT NOUN': [0, 22],\n",
       " 'merge NOUN NOUN NOUN NUM ADP PROPN PUNCT NOUN': [0, 21],\n",
       " 'merge NOUN NOUN NOUN NUM ADP PROPN PUNCT NOUN PUNCT NUM': [0, 12],\n",
       " 'merge NOUN NOUN NOUN NUM ADP SYM SYM NOUN': [0, 14],\n",
       " 'merge NOUN NOUN PUNCT': [24, 1],\n",
       " 'merge NOUN PUNCT NOUN': [11, 0],\n",
       " 'merge NOUN PUNCT NOUN PUNCT': [520, 1],\n",
       " 'merge NOUN PUNCT NOUN PUNCT ADP ADJ PUNCT NOUN': [40, 0],\n",
       " 'merge NOUN PUNCT NOUN PUNCT ADP NOUN': [579, 3],\n",
       " 'merge NOUN PUNCT NOUN PUNCT ADP NOUN ADP NOUN': [47, 0],\n",
       " 'merge NOUN PUNCT NOUN PUNCT ADP NOUN ADP NOUN PUNCT NOUN': [106, 0],\n",
       " 'merge NOUN PUNCT NOUN PUNCT ADP NOUN NOUN PUNCT': [14, 0],\n",
       " 'merge NOUN PUNCT NOUN PUNCT ADP NOUN PUNCT NOUN': [18, 0],\n",
       " 'merge NOUN PUNCT NOUN PUNCT ADP PROPN': [41, 2],\n",
       " 'merge NOUN PUNCT NOUN PUNCT ADP PROPN ADP NOUN PUNCT NOUN': [14, 0],\n",
       " 'merge NOUN PUNCT NOUN PUNCT ADP PUNCT ADV ADP NOUN': [47, 0],\n",
       " 'merge NOUN PUNCT NOUN PUNCT ADP PUNCT NOUN': [152, 4],\n",
       " 'merge NOUN PUNCT NOUN PUNCT ADP PUNCT NOUN ADP NOUN': [14, 0],\n",
       " 'merge NOUN PUNCT NOUN PUNCT ADP PUNCT X': [18, 1],\n",
       " 'merge NOUN PUNCT NOUN PUNCT ADP SYM NOUN': [75, 4],\n",
       " 'merge NOUN PUNCT NOUN PUNCT ADP SYM NOUN NOUN': [21, 0],\n",
       " 'merge NOUN PUNCT NOUN PUNCT ADP SYM SYM NOUN': [94, 0],\n",
       " 'merge NOUN PUNCT NOUN PUNCT ADP VERB': [25, 0],\n",
       " 'merge NOUN PUNCT NOUN PUNCT ADP X': [52, 8],\n",
       " 'merge NOUN PUNCT NOUN PUNCT NOUN PUNCT': [181, 2],\n",
       " 'merge NOUN PUNCT NOUN PUNCT NOUN PUNCT ADP ADJ': [21, 0],\n",
       " 'merge NOUN PUNCT NOUN PUNCT NOUN PUNCT ADP NOUN': [41, 0],\n",
       " 'merge NOUN PUNCT VERB PUNCT': [18, 0],\n",
       " 'merge PROPN': [36, 0],\n",
       " 'merge X': [17, 0],\n",
       " 'more ADJ NOUN': [46, 0],\n",
       " 'more ADJ NOUN NOUN': [31, 0],\n",
       " 'more ADJ NOUN NOUN PUNCT': [15, 0],\n",
       " 'more ADJ NOUN PUNCT': [17, 2],\n",
       " 'more NOUN': [30, 0],\n",
       " 'more NOUN NOUN': [16, 0],\n",
       " 'more VERB': [18, 0],\n",
       " 'release NOUN': [19, 3],\n",
       " 'release NUM': [52, 1],\n",
       " 'release NUM PUNCT': [24, 0],\n",
       " 'remove ADJ NOUN': [141, 22],\n",
       " 'remove ADJ NOUN ADP NOUN': [9, 2],\n",
       " 'remove ADJ NOUN ADP NOUN NOUN': [7, 4],\n",
       " 'remove ADJ NOUN ADP NOUN PUNCT': [11, 0],\n",
       " 'remove ADJ NOUN NOUN': [57, 13],\n",
       " 'remove ADJ NOUN NOUN PUNCT': [26, 1],\n",
       " 'remove ADJ NOUN PUNCT': [52, 4],\n",
       " 'remove DET ADJ NOUN': [17, 2],\n",
       " 'remove DET ADJ NOUN PUNCT': [13, 0],\n",
       " 'remove DET NOUN NOUN': [13, 1],\n",
       " 'remove NOUN': [72, 4],\n",
       " 'remove NOUN ADP NOUN': [17, 2],\n",
       " 'remove NOUN ADP NOUN NOUN': [16, 3],\n",
       " 'remove NOUN NOUN': [74, 6],\n",
       " 'remove NOUN NOUN NOUN': [10, 2],\n",
       " 'remove NOUN NOUN NOUN PUNCT': [11, 0],\n",
       " 'remove NOUN NOUN PUNCT': [18, 1],\n",
       " 'remove NOUN PUNCT': [21, 0],\n",
       " 'remove PROPN': [14, 0],\n",
       " 'remove VERB NOUN': [18, 2],\n",
       " 'up ADP NUM': [27, 0],\n",
       " 'update': [10, 2],\n",
       " 'update ADJ NOUN': [10, 2],\n",
       " 'update ADJ NOUN PUNCT': [24, 2],\n",
       " 'update DET NOUN': [19, 2],\n",
       " 'update DET NOUN NOUN': [11, 1],\n",
       " 'update DET NOUN PUNCT': [10, 1],\n",
       " 'update NOUN': [397, 44],\n",
       " 'update NOUN ADP ADJ NOUN': [12, 3],\n",
       " 'update NOUN ADP NOUN': [15, 0],\n",
       " 'update NOUN ADP NOUN NOUN': [11, 2],\n",
       " 'update NOUN ADP NUM': [36, 2],\n",
       " 'update NOUN ADP NUM NOUN': [10, 2],\n",
       " 'update NOUN ADP NUM PUNCT': [12, 3],\n",
       " 'update NOUN CCONJ NOUN': [32, 0],\n",
       " 'update NOUN NOUN': [118, 12],\n",
       " 'update NOUN NOUN ADP NUM': [9, 2],\n",
       " 'update NOUN NOUN NOUN': [23, 3],\n",
       " 'update NOUN NOUN NOUN PUNCT': [20, 1],\n",
       " 'update NOUN NOUN PUNCT': [46, 4],\n",
       " 'update NOUN PUNCT': [51, 21],\n",
       " 'update PROPN': [48, 16],\n",
       " 'update PROPN ADP NUM': [20, 0],\n",
       " 'update PROPN NOUN ADP NUM PUNCT': [27, 0],\n",
       " 'update PROPN NOUN ADP VERB NOUN PUNCT': [15, 0],\n",
       " 'update PROPN PUNCT': [31, 3],\n",
       " 'update PROPN VERB PUNCT': [12, 0],\n",
       " 'version NOUN': [14, 6],\n",
       " 'version NOUN ADP NUM': [192, 12]}"
      ]
     },
     "execution_count": 35,
     "metadata": {},
     "output_type": "execute_result"
    }
   ],
   "source": [
    "counts"
   ]
  },
  {
   "cell_type": "code",
   "execution_count": 36,
   "metadata": {},
   "outputs": [],
   "source": [
    "file = open('/home/dkbrz/git_commits/top_schemes.txt', 'w')\n",
    "for key in sorted(counts, key=lambda x: sum(counts[x]), reverse=True):\n",
    "    print('{}\\t{}\\t{}'.format(counts[key][0], counts[key][1], key), file=file)\n",
    "file.close()"
   ]
  },
  {
   "cell_type": "code",
   "execution_count": 37,
   "metadata": {},
   "outputs": [
    {
     "name": "stdout",
     "output_type": "stream",
     "text": [
      "579\t3\tmerge NOUN PUNCT NOUN PUNCT ADP NOUN\r\n",
      "520\t1\tmerge NOUN PUNCT NOUN PUNCT\r\n",
      "397\t44\tupdate NOUN\r\n",
      "235\t0\tgit PUNCT NOUN PUNCT NOUN PUNCT NUM NUM\r\n",
      "192\t12\tversion NOUN ADP NUM\r\n",
      "188\t10\tadd NOUN NOUN\r\n",
      "181\t2\tmerge NOUN PUNCT NOUN PUNCT NOUN PUNCT\r\n",
      "141\t22\tremove ADJ NOUN\r\n",
      "152\t4\tmerge NOUN PUNCT NOUN PUNCT ADP PUNCT NOUN\r\n",
      "148\t3\tadd NOUN\r\n"
     ]
    }
   ],
   "source": [
    "! head /home/dkbrz/git_commits/top_schemes.txt"
   ]
  },
  {
   "cell_type": "code",
   "execution_count": 38,
   "metadata": {},
   "outputs": [],
   "source": [
    "before, after = 0, 0 \n",
    "for key in counts:\n",
    "    before += counts[key][0]\n",
    "    after += counts[key][1]"
   ]
  },
  {
   "cell_type": "code",
   "execution_count": 39,
   "metadata": {},
   "outputs": [
    {
     "data": {
      "text/plain": [
       "(7659, 1026)"
      ]
     },
     "execution_count": 39,
     "metadata": {},
     "output_type": "execute_result"
    }
   ],
   "source": [
    "before, after"
   ]
  },
  {
   "cell_type": "code",
   "execution_count": 40,
   "metadata": {},
   "outputs": [
    {
     "data": {
      "text/plain": [
       "(0.14396616541353383, 0.2106776180698152)"
      ]
     },
     "execution_count": 40,
     "metadata": {},
     "output_type": "execute_result"
    }
   ],
   "source": [
    "b, a = 53200, 4870\n",
    "before/b, after/a"
   ]
  }
 ],
 "metadata": {
  "kernelspec": {
   "display_name": "Python 3",
   "language": "python",
   "name": "python3"
  },
  "language_info": {
   "codemirror_mode": {
    "name": "ipython",
    "version": 3
   },
   "file_extension": ".py",
   "mimetype": "text/x-python",
   "name": "python",
   "nbconvert_exporter": "python",
   "pygments_lexer": "ipython3",
   "version": "3.6.7"
  }
 },
 "nbformat": 4,
 "nbformat_minor": 2
}

{
 "cells": [
  {
   "cell_type": "code",
   "execution_count": 1,
   "metadata": {},
   "outputs": [],
   "source": [
    "import warnings\n",
    "warnings.filterwarnings(\"ignore\")\n",
    "from collections import defaultdict\n",
    "from tqdm.autonotebook import tqdm\n",
    "#import pandas as pd\n",
    "import mysql.connector\n",
    "import codecs\n",
    "codecs.register(lambda name: codecs.lookup('utf8') if name == 'utf8mb4' else None)\n",
    "import re\n",
    "import conllu"
   ]
  },
  {
   "cell_type": "code",
   "execution_count": 2,
   "metadata": {},
   "outputs": [],
   "source": [
    "db = mysql.connector.connect(\n",
    "  host=\"localhost\",\n",
    "  user=\"root\",\n",
    "  passwd='password',\n",
    "  #database='commits_db',\n",
    "  database='pruned_commits_db2',\n",
    "  charset='utf8mb4')\n",
    "\n",
    "cur = db.cursor()"
   ]
  },
  {
   "cell_type": "code",
   "execution_count": 3,
   "metadata": {},
   "outputs": [],
   "source": [
    "def yield_pos_short():\n",
    "    #mycursor.execute('SELECT conllu, language FROM C LEFT JOIN R ON C.repo_id=R.gh_id LIMIT 1000;')\n",
    "    cur.execute('SELECT conllu FROM C')\n",
    "    text = cur.fetchone()\n",
    "    while text:\n",
    "        #doc = conllu.parse(text[0])\n",
    "        doc = re.findall('sent_id', text[0])\n",
    "        if len(doc) == 1:\n",
    "            doc = conllu.parse(text[0])\n",
    "            if len(doc[0].tokens) <= 20:\n",
    "                yield ' '.join([i['upostag'] for i in doc[0].tokens]), ' '.join([i['deprel'] for i in doc[0].tokens])\n",
    "        text = cur.fetchone()"
   ]
  },
  {
   "cell_type": "code",
   "execution_count": 4,
   "metadata": {},
   "outputs": [
    {
     "data": {
      "application/vnd.jupyter.widget-view+json": {
       "model_id": "1acb6dabb03f4f06b45dfc13b26953da",
       "version_major": 2,
       "version_minor": 0
      },
      "text/plain": [
       "HBox(children=(IntProgress(value=1, bar_style='info', max=1), HTML(value='')))"
      ]
     },
     "metadata": {},
     "output_type": "display_data"
    },
    {
     "name": "stdout",
     "output_type": "stream",
     "text": [
      "\n"
     ]
    }
   ],
   "source": [
    "file = open('/home/glznv/pos_short_commits2.txt', 'w')\n",
    "file2 = open('/home/glznv/rel_short_commits2.txt', 'w')\n",
    "for text in tqdm(yield_pos_short()):\n",
    "    print(text[0], file=file)\n",
    "    print(text[1], file=file2)"
   ]
  },
  {
   "cell_type": "code",
   "execution_count": 5,
   "metadata": {},
   "outputs": [],
   "source": [
    "def yield_2plus_short(first, latter):\n",
    "    #mycursor.execute('SELECT conllu, language FROM C LEFT JOIN R ON C.repo_id=R.gh_id LIMIT 1000;')\n",
    "    cur.execute('SELECT conllu FROM C')\n",
    "    text = cur.fetchone()\n",
    "    while text:\n",
    "        #doc = conllu.parse(text[0])\n",
    "        doc = re.findall('sent_id', text[0])\n",
    "        if len(doc) > 1:\n",
    "            doc = conllu.parse(text[0])\n",
    "            if len(doc[0]) > 1:\n",
    "                f = ' '.join([i['deprel'] for i in doc[0].tokens])\n",
    "                s = '\\n'.join([' '.join([i['deprel'] for i in d.tokens]) for d in doc[1:]])\n",
    "                print(f, file=first)\n",
    "                print(s, file=latter)\n",
    "                yield 1\n",
    "        text = cur.fetchone()"
   ]
  },
  {
   "cell_type": "code",
   "execution_count": 6,
   "metadata": {},
   "outputs": [
    {
     "data": {
      "application/vnd.jupyter.widget-view+json": {
       "model_id": "fe4c4094a35e475abbf270530add86ee",
       "version_major": 2,
       "version_minor": 0
      },
      "text/plain": [
       "HBox(children=(IntProgress(value=1, bar_style='info', max=1), HTML(value='')))"
      ]
     },
     "metadata": {},
     "output_type": "display_data"
    },
    {
     "name": "stdout",
     "output_type": "stream",
     "text": [
      "\n"
     ]
    }
   ],
   "source": [
    "first = open('/home/glznv/2plus_0.txt', 'w')\n",
    "latter = open('/home/glznv/2plus_next.txt', 'w')\n",
    "for text in tqdm(yield_2plus_short(first, latter)):\n",
    "    pass"
   ]
  },
  {
   "cell_type": "markdown",
   "metadata": {},
   "source": [
    "## по сортированному файлу"
   ]
  },
  {
   "cell_type": "code",
   "execution_count": 4,
   "metadata": {},
   "outputs": [
    {
     "data": {
      "application/vnd.jupyter.widget-view+json": {
       "model_id": "6c386d1b331149069fa4cae33b1e2a71",
       "version_major": 2,
       "version_minor": 0
      },
      "text/plain": [
       "HBox(children=(IntProgress(value=1, bar_style='info', max=1), HTML(value='')))"
      ]
     },
     "metadata": {},
     "output_type": "display_data"
    },
    {
     "name": "stdout",
     "output_type": "stream",
     "text": [
      "\n"
     ]
    }
   ],
   "source": [
    "text = ''\n",
    "count = 0\n",
    "file = open('/home/dkbrz/git_commits/count_by_commit.txt','w')\n",
    "for line in tqdm(open('/home/dkbrz/git_commits/sorted_commits.txt')):\n",
    "    current = line.strip()\n",
    "    if current == text:\n",
    "        count += 1\n",
    "    else:\n",
    "        if count > 1:\n",
    "            print('{}\\t{}'.format(count, line), file=file)\n",
    "        text = current\n",
    "        count = 1"
   ]
  },
  {
   "cell_type": "code",
   "execution_count": 5,
   "metadata": {},
   "outputs": [],
   "source": [
    "! sort -g -r /home/dkbrz/git_commits/count_by_commit.txt > /home/dkbrz/git_commits/sorted_count_by_commit.txt"
   ]
  },
  {
   "cell_type": "code",
   "execution_count": 6,
   "metadata": {},
   "outputs": [
    {
     "data": {
      "text/plain": [
       "10024"
      ]
     },
     "execution_count": 6,
     "metadata": {},
     "output_type": "execute_result"
    }
   ],
   "source": [
    "ord('✨')"
   ]
  },
  {
   "cell_type": "code",
   "execution_count": 7,
   "metadata": {},
   "outputs": [
    {
     "data": {
      "text/plain": [
       "False"
      ]
     },
     "execution_count": 7,
     "metadata": {},
     "output_type": "execute_result"
    }
   ],
   "source": [
    "'✨'.isalpha()"
   ]
  },
  {
   "cell_type": "code",
   "execution_count": 65,
   "metadata": {},
   "outputs": [],
   "source": [
    "emojis = '🚀✨🐛🎉⚠️📝🌴🎨🚨📦🔥⬆️👍🛠🔧📖💄💰👌♻️🚧🦄🔖😄📚💥😊➕🙈💡💯👷😎💎💅🚫✏️🏻😅❤️🏗🏼😢🎸🤖⚡😀🔀🚑😉🆑👾🤔⚡️🙌🛠️🐞☕️🙏🙄👼😱👻💚👀✔️👋🐬💪😬😂👏🆙🌈😭🌐🌐🌟🍺😁🚒➡️💫📄🙂🐳👉😃🐘😞📱🍻❌🤓😳🐕✂️🏽📌🐎😇🚚📜🐶🤦‍♂️✍️🐀❄️🤞🤫😈✌️😓🔍🆕🐣👊🤗🐝😍🤦👕🐜📺🎁🎩🍕🌹🤷‍♂️🐙😆🖍🔒🔔😒📈😡💀🎃📋🍾🐱☀️✈️💬😜🔩💃🎆📃🖌🔪🎳🚮👽🤙💻🐍😕🏄🛀⭐️👮🤘🖼🚜🍿🍇🔮📰🏷😋😩🚿🎊🗑🏁⚙️🤕👯🔐🔡🤠'\n",
    "emojis = set(emojis)"
   ]
  },
  {
   "cell_type": "code",
   "execution_count": 66,
   "metadata": {},
   "outputs": [
    {
     "data": {
      "application/vnd.jupyter.widget-view+json": {
       "model_id": "0432e2858c6047d5b444efb1f8fedba2",
       "version_major": 2,
       "version_minor": 0
      },
      "text/plain": [
       "HBox(children=(IntProgress(value=1, bar_style='info', max=1), HTML(value='')))"
      ]
     },
     "metadata": {},
     "output_type": "display_data"
    },
    {
     "name": "stdout",
     "output_type": "stream",
     "text": [
      "\n"
     ]
    }
   ],
   "source": [
    "file = open('/home/dkbrz/git_commits/emoji_indexed.txt','w')\n",
    "for key, line in tqdm(enumerate(open('/home/dkbrz/git_commits/all_commits.txt'))):\n",
    "    if len(set(line) & emojis) > 0:\n",
    "        print('{}\\t{}'.format(key, line.rstrip('\\n')), file=file)"
   ]
  },
  {
   "cell_type": "code",
   "execution_count": 67,
   "metadata": {},
   "outputs": [
    {
     "name": "stdout",
     "output_type": "stream",
     "text": [
      "51964 /home/dkbrz/git_commits/emoji_indexed.txt\r\n"
     ]
    }
   ],
   "source": [
    "! wc -l /home/dkbrz/git_commits/emoji_indexed.txt"
   ]
  },
  {
   "cell_type": "markdown",
   "metadata": {},
   "source": [
    "## по месяцам (леммы)"
   ]
  },
  {
   "cell_type": "code",
   "execution_count": 1,
   "metadata": {},
   "outputs": [
    {
     "name": "stderr",
     "output_type": "stream",
     "text": [
      "/home/dkbrz/.local/lib/python3.6/site-packages/tqdm/autonotebook/__init__.py:14: TqdmExperimentalWarning: Using `tqdm.autonotebook.tqdm` in notebook mode. Use `tqdm.tqdm` instead to force console mode (e.g. in jupyter console)\n",
      "  \" (e.g. in jupyter console)\", TqdmExperimentalWarning)\n"
     ]
    }
   ],
   "source": [
    "import os\n",
    "import numpy as np\n",
    "import re\n",
    "from tqdm.autonotebook import tqdm\n",
    "from collections import defaultdict"
   ]
  },
  {
   "cell_type": "code",
   "execution_count": 2,
   "metadata": {},
   "outputs": [],
   "source": [
    "PATH = '/home/dkbrz/git_commits/by_month/'\n",
    "files = os.listdir(PATH)\n",
    "files.sort()"
   ]
  },
  {
   "cell_type": "code",
   "execution_count": 3,
   "metadata": {},
   "outputs": [],
   "source": [
    "reg = re.compile('^.*[a-zа-яA-Z0-9].*$')"
   ]
  },
  {
   "cell_type": "code",
   "execution_count": 4,
   "metadata": {},
   "outputs": [
    {
     "data": {
      "application/vnd.jupyter.widget-view+json": {
       "model_id": "56edabc21a4741169e326907d78dfec8",
       "version_major": 2,
       "version_minor": 0
      },
      "text/plain": [
       "HBox(children=(IntProgress(value=0, max=230), HTML(value='')))"
      ]
     },
     "metadata": {},
     "output_type": "display_data"
    },
    {
     "name": "stdout",
     "output_type": "stream",
     "text": [
      "\n"
     ]
    }
   ],
   "source": [
    "years = {str(i):i-1999 for i in range(1999, 2020)}\n",
    "count_years = {key: 0 for key in years}\n",
    "count = defaultdict(lambda: np.zeros(len(years)))\n",
    "for file in tqdm(files):\n",
    "    k = 0\n",
    "    for line in open(PATH+file):\n",
    "        words = line.strip().split()\n",
    "        for word in words:\n",
    "            if not word.isalpha() and not word.isnumeric() and not re.match(reg, word):\n",
    "                use = True\n",
    "                for letter in word:\n",
    "                    if letter.isalpha() or letter.isnumeric():\n",
    "                        use = False\n",
    "                if use:\n",
    "                    count[word][years[file[:4]]] += 1\n",
    "        k += len(words)\n",
    "    count_years[file[:4]] += k"
   ]
  },
  {
   "cell_type": "code",
   "execution_count": 5,
   "metadata": {},
   "outputs": [],
   "source": [
    "file = open('punct_emo.txt', 'w')\n",
    "for key in sorted(count, key=lambda x: sum(count[x]), reverse=True):\n",
    "    print('{}\\t{}\\t{}'.format(key, '\\t'.join(str(i) for i in count[key]), int(sum(count[key]))), file=file)"
   ]
  },
  {
   "cell_type": "code",
   "execution_count": null,
   "metadata": {},
   "outputs": [],
   "source": [
    "count = set()\n",
    "for key in sorted(count, key=lambda x: sum(count[x]), reverse=True):\n"
   ]
  },
  {
   "cell_type": "code",
   "execution_count": 6,
   "metadata": {},
   "outputs": [
    {
     "data": {
      "text/plain": [
       "{'1999': 10423409,\n",
       " '2000': 5001750,\n",
       " '2001': 7093462,\n",
       " '2002': 9120736,\n",
       " '2003': 10720248,\n",
       " '2004': 13784612,\n",
       " '2005': 17273498,\n",
       " '2006': 22259701,\n",
       " '2007': 27436316,\n",
       " '2008': 33422393,\n",
       " '2009': 45673067,\n",
       " '2010': 59400388,\n",
       " '2011': 74414502,\n",
       " '2012': 100737548,\n",
       " '2013': 108847139,\n",
       " '2014': 136580541,\n",
       " '2015': 166952766,\n",
       " '2016': 182919794,\n",
       " '2017': 184662363,\n",
       " '2018': 154761269,\n",
       " '2019': 63406}"
      ]
     },
     "execution_count": 6,
     "metadata": {},
     "output_type": "execute_result"
    }
   ],
   "source": [
    "count_years"
   ]
  },
  {
   "cell_type": "markdown",
   "metadata": {},
   "source": [
    "## w2v on emoji"
   ]
  },
  {
   "cell_type": "code",
   "execution_count": 2,
   "metadata": {},
   "outputs": [],
   "source": [
    "import os\n",
    "import numpy as np\n",
    "import re\n",
    "from tqdm.autonotebook import tqdm\n",
    "from collections import defaultdict"
   ]
  },
  {
   "cell_type": "code",
   "execution_count": 2,
   "metadata": {},
   "outputs": [],
   "source": [
    "PATH = '/home/dkbrz/git_commits/by_month/'\n",
    "files = os.listdir(PATH)\n",
    "files.sort()"
   ]
  },
  {
   "cell_type": "code",
   "execution_count": 3,
   "metadata": {},
   "outputs": [],
   "source": [
    "emojis = '✨🐛🎉⚠️📝🌴🎨🚨📦🔥⬆️👍🛠🔧📖💄💰👌♻️🚧🦄🔖😄📚💥😊➕🙈💡💯👷😎💎💅🚫✏️🏻😅❤️🏗🏼😢🎸🤖⚡😀🔀🚑😉🆑👾🤔⚡️🙌🛠️🐞☕️🙏🙄👼😱👻💚👀✔️👋🐬💪😬😂👏🆙🌈😭🌐🌐🌟🍺😁🚒➡️💫📄🙂🐳👉😃🐘😞📱🍻❌🤓😳🐕✂️🏽📌🐎😇🚚📜🐶🤦‍♂️✍️🐀❄️🤞🤫😈✌️😓🔍🆕🐣👊🤗🐝😍🤦👕🐜📺🎁🎩🍕🌹🤷‍♂️🐙😆🖍🔒🔔😒📈😡💀🎃📋🍾🐱☀️✈️💬😜🔩💃🎆📃🖌🔪🎳🚮👽🤙💻🐍😕🏄🛀⭐️👮🤘🖼🚜🍿🍇🔮📰🏷😋😩🚿🎊🗑🏁⚙️🤕👯🔐🔡🤠'\n",
    "emojis = set(emojis)"
   ]
  },
  {
   "cell_type": "code",
   "execution_count": 4,
   "metadata": {},
   "outputs": [
    {
     "data": {
      "text/plain": [
       "181"
      ]
     },
     "execution_count": 4,
     "metadata": {},
     "output_type": "execute_result"
    }
   ],
   "source": [
    "len(emojis)"
   ]
  },
  {
   "cell_type": "code",
   "execution_count": 6,
   "metadata": {},
   "outputs": [
    {
     "data": {
      "application/vnd.jupyter.widget-view+json": {
       "model_id": "381f8c5f1f1043bd806bddcb471fa087",
       "version_major": 2,
       "version_minor": 0
      },
      "text/plain": [
       "HBox(children=(IntProgress(value=0, max=230), HTML(value='')))"
      ]
     },
     "metadata": {},
     "output_type": "display_data"
    }
   ],
   "source": [
    "outp = open('/home/dkbrz/git_commits/emoji_tokenized.txt', 'w')\n",
    "for file in tqdm(files):\n",
    "    k = 0\n",
    "    for line in open(PATH+file):\n",
    "        if len(set(line)&emojis) > 0:\n",
    "            print(line.rstrip(), file=outp)"
   ]
  },
  {
   "cell_type": "code",
   "execution_count": 42,
   "metadata": {},
   "outputs": [],
   "source": [
    "with open('/home/dkbrz/GitHub/Git_Commits/data/punct_emoji_100.txt') as f:\n",
    "    all_punct_emoji = set([i.strip() for i in f.readlines()])"
   ]
  },
  {
   "cell_type": "code",
   "execution_count": 11,
   "metadata": {},
   "outputs": [
    {
     "data": {
      "application/vnd.jupyter.widget-view+json": {
       "model_id": "c2e5e7cae17d4f42b108e6a282f89988",
       "version_major": 2,
       "version_minor": 0
      },
      "text/plain": [
       "HBox(children=(IntProgress(value=0, max=230), HTML(value='')))"
      ]
     },
     "metadata": {},
     "output_type": "display_data"
    }
   ],
   "source": [
    "outp = open('/home/dkbrz/git_commits/puct_emoji_tokenized.txt', 'w')\n",
    "for file in tqdm(files):\n",
    "    k = 0\n",
    "    for line in open(PATH+file):\n",
    "        if len(set(line.split())&all_punct_emoji) > 0:\n",
    "            print(line.rstrip(), file=outp)"
   ]
  },
  {
   "cell_type": "code",
   "execution_count": 8,
   "metadata": {},
   "outputs": [],
   "source": [
    "from gensim.models import Word2Vec, KeyedVectors"
   ]
  },
  {
   "cell_type": "code",
   "execution_count": 2,
   "metadata": {},
   "outputs": [],
   "source": [
    "w2v = Word2Vec(workers=8, size=300, seed=23, min_count=100)"
   ]
  },
  {
   "cell_type": "code",
   "execution_count": 3,
   "metadata": {},
   "outputs": [],
   "source": [
    "fname = '/home/dkbrz/git_commits/w2v.txt'\n",
    "read_from = '/home/dkbrz/git_commits/puct_emoji_tokenized.txt'"
   ]
  },
  {
   "cell_type": "code",
   "execution_count": null,
   "metadata": {},
   "outputs": [],
   "source": [
    "k = 0\n",
    "w = 0\n",
    "for line in tqdm(open(read_from), leave=False):\n",
    "    w += len(line.split())\n",
    "    k += 1"
   ]
  },
  {
   "cell_type": "code",
   "execution_count": 16,
   "metadata": {},
   "outputs": [
    {
     "data": {
      "text/plain": [
       "(1192093667, 109712151)"
      ]
     },
     "execution_count": 16,
     "metadata": {},
     "output_type": "execute_result"
    }
   ],
   "source": [
    "w, k"
   ]
  },
  {
   "cell_type": "code",
   "execution_count": 5,
   "metadata": {},
   "outputs": [],
   "source": [
    "w2v.build_vocab(corpus_file=read_from)"
   ]
  },
  {
   "cell_type": "code",
   "execution_count": 6,
   "metadata": {},
   "outputs": [],
   "source": [
    "w2v.train(total_examples=109712151, total_words=1192093667, corpus_file=read_from, epochs=5)\n",
    "w2v.wv.save_word2vec_format(fname, binary=False)"
   ]
  },
  {
   "cell_type": "code",
   "execution_count": 9,
   "metadata": {},
   "outputs": [
    {
     "name": "stderr",
     "output_type": "stream",
     "text": [
      "/home/dkbrz/.local/lib/python3.6/site-packages/ipykernel_launcher.py:1: DeprecationWarning: Call to deprecated `most_similar` (Method will be removed in 4.0.0, use self.wv.most_similar() instead).\n",
      "  \"\"\"Entry point for launching an IPython kernel.\n"
     ]
    },
    {
     "data": {
      "text/plain": [
       "[('864370', 0.6342700123786926),\n",
       " ('🛠', 0.5593626499176025),\n",
       " ('♻️', 0.5426015853881836),\n",
       " ('ethutil', 0.5161137580871582),\n",
       " ('bisheng', 0.5109307169914246),\n",
       " ('☕️', 0.5087130665779114),\n",
       " ('vue2', 0.49076223373413086),\n",
       " ('RangeInput', 0.4764140546321869),\n",
       " (':hammer', 0.4621356427669525),\n",
       " ('🎨', 0.4584771692752838),\n",
       " ('Chore', 0.4573122262954712),\n",
       " ('🔧', 0.45454877614974976),\n",
       " ('ScadaWeb', 0.453567236661911),\n",
       " ('🏗', 0.45043933391571045),\n",
       " ('bulma', 0.447346031665802),\n",
       " ('🚧', 0.445270299911499),\n",
       " ('fossa', 0.44386500120162964),\n",
       " ('atag', 0.4390007257461548),\n",
       " ('verdaccio', 0.438517689704895),\n",
       " ('代码优化', 0.43749111890792847),\n",
       " ('⚡️', 0.43518564105033875),\n",
       " ('vue.j', 0.43363258242607117),\n",
       " ('💄', 0.43136635422706604),\n",
       " ('object.assign', 0.4292186498641968),\n",
       " ('davezuko', 0.4291931986808777),\n",
       " ('thaiat', 0.4289606213569641),\n",
       " ('sassdoc', 0.4278797507286072),\n",
       " ('DragDrop', 0.42762380838394165),\n",
       " ('WorkflowManager', 0.4269627332687378),\n",
       " ('重构', 0.425419420003891)]"
      ]
     },
     "execution_count": 9,
     "metadata": {},
     "output_type": "execute_result"
    }
   ],
   "source": [
    "w2v.most_similar('🔨', topn=30)"
   ]
  },
  {
   "cell_type": "code",
   "execution_count": 17,
   "metadata": {},
   "outputs": [],
   "source": [
    "emojis = '✨🐛🎉⚠️📝🌴🎨🚨📦🔥⬆️👍🛠🔧📖💄💰👌♻️🚧🦄🔖😄📚💥😊➕🙈💡💯👷😎💎💅🚫✏️🏻😅❤️🏗🏼😢🎸🤖⚡😀🔀🚑😉🆑👾🤔⚡️🙌🛠️🐞☕️🙏🙄👼😱'\n",
    "emoji_list = list(i for i in emojis if i in w2v)"
   ]
  },
  {
   "cell_type": "code",
   "execution_count": 38,
   "metadata": {},
   "outputs": [],
   "source": [
    "del emoji_list[4]"
   ]
  },
  {
   "cell_type": "code",
   "execution_count": 9,
   "metadata": {},
   "outputs": [],
   "source": [
    "fname = '/home/dkbrz/git_commits/w2v.txt'\n",
    "w2v = KeyedVectors.load_word2vec_format(fname)"
   ]
  },
  {
   "cell_type": "code",
   "execution_count": 19,
   "metadata": {},
   "outputs": [
    {
     "data": {
      "text/plain": [
       "array([[ 0.89275664, -0.9771429 ,  0.17954372, ..., -0.37635317,\n",
       "        -1.3328407 , -0.21707453],\n",
       "       [ 1.2907588 , -0.05571625,  0.65226895, ...,  1.1993257 ,\n",
       "        -0.2649231 ,  0.25218734],\n",
       "       [-0.48747796, -0.6738561 ,  0.02082444, ...,  0.2431335 ,\n",
       "        -0.7310669 ,  0.18412556],\n",
       "       ...,\n",
       "       [-0.004308  , -0.12246145, -0.03529505, ...,  0.03885159,\n",
       "         0.03680814,  0.0140079 ],\n",
       "       [-0.22283861, -0.03105228, -0.23583402, ...,  0.24067996,\n",
       "        -0.11466268,  0.28086954],\n",
       "       [-0.09332228, -0.26033074, -0.08999555, ...,  0.12110756,\n",
       "        -0.14039265,  0.19083859]], dtype=float32)"
      ]
     },
     "execution_count": 19,
     "metadata": {},
     "output_type": "execute_result"
    }
   ],
   "source": [
    "w2v[emoji_list]"
   ]
  },
  {
   "cell_type": "code",
   "execution_count": 10,
   "metadata": {},
   "outputs": [],
   "source": [
    "from sklearn.decomposition import PCA"
   ]
  },
  {
   "cell_type": "code",
   "execution_count": 40,
   "metadata": {},
   "outputs": [],
   "source": [
    "import matplotlib.pyplot as plt\n",
    "%matplotlib inline"
   ]
  },
  {
   "cell_type": "code",
   "execution_count": 57,
   "metadata": {},
   "outputs": [],
   "source": [
    "with open('/home/dkbrz/GitHub/Git_Commits/data/punct_emoji_100.txt') as f:\n",
    "    all_pe = [i.strip() for i in f.readlines()]"
   ]
  },
  {
   "cell_type": "code",
   "execution_count": 58,
   "metadata": {},
   "outputs": [],
   "source": [
    "pca = PCA(n_components=2)\n",
    "pca = pca.fit_transform(w2v[all_pe][:100])"
   ]
  },
  {
   "cell_type": "code",
   "execution_count": 59,
   "metadata": {},
   "outputs": [
    {
     "data": {
      "text/plain": [
       "1227"
      ]
     },
     "execution_count": 59,
     "metadata": {},
     "output_type": "execute_result"
    }
   ],
   "source": [
    "len(all_pe)"
   ]
  },
  {
   "cell_type": "code",
   "execution_count": 62,
   "metadata": {},
   "outputs": [],
   "source": [
    "short = all_pe[:100]"
   ]
  },
  {
   "cell_type": "code",
   "execution_count": 64,
   "metadata": {},
   "outputs": [
    {
     "data": {
      "image/png": "[encoded data removed]",
      "text/plain": [
       "<Figure size 936x936 with 1 Axes>"
      ]
     },
     "metadata": {
      "needs_background": "light"
     },
     "output_type": "display_data"
    }
   ],
   "source": [
    "plt.figure(figsize=(13,13))\n",
    "\n",
    "x, y = [pca[key, 0] for key, word in enumerate(short)], [pca[key, 1] for key, word in enumerate(short)]\n",
    "labels = [word for word in short]\n",
    "plt.scatter(x, y)\n",
    "for i, word in enumerate(labels):\n",
    "        plt.annotate(word, alpha=0.5, xy=(x[i], y[i]), xytext=(5, 2),\n",
    "                     textcoords='offset points', ha='right', va='bottom', size=20)"
   ]
  },
  {
   "cell_type": "markdown",
   "metadata": {},
   "source": [
    "# Word frequency by month"
   ]
  },
  {
   "cell_type": "code",
   "execution_count": 3,
   "metadata": {},
   "outputs": [],
   "source": [
    "import os\n",
    "import numpy as np\n",
    "import re\n",
    "from tqdm.autonotebook import tqdm\n",
    "from collections import defaultdict"
   ]
  },
  {
   "cell_type": "code",
   "execution_count": 4,
   "metadata": {},
   "outputs": [],
   "source": [
    "PATH = '/home/dkbrz/git_commits/by_month/'\n",
    "files = os.listdir(PATH)\n",
    "files.sort()"
   ]
  },
  {
   "cell_type": "code",
   "execution_count": 5,
   "metadata": {},
   "outputs": [
    {
     "data": {
      "text/plain": [
       "230"
      ]
     },
     "execution_count": 5,
     "metadata": {},
     "output_type": "execute_result"
    }
   ],
   "source": [
    "len(files)"
   ]
  },
  {
   "cell_type": "code",
   "execution_count": 6,
   "metadata": {},
   "outputs": [
    {
     "data": {
      "application/vnd.jupyter.widget-view+json": {
       "model_id": "4b9659d7fc2643d4b0b98b21ec69c4c1",
       "version_major": 2,
       "version_minor": 0
      },
      "text/plain": [
       "HBox(children=(IntProgress(value=1, bar_style='info', max=1), HTML(value='')))"
      ]
     },
     "metadata": {},
     "output_type": "display_data"
    },
    {
     "name": "stdout",
     "output_type": "stream",
     "text": [
      "\n"
     ]
    }
   ],
   "source": [
    "counts = np.zeros(230)\n",
    "\n",
    "cur.execute('SELECT lemma FROM lemmas')\n",
    "list_of_words = {i[0]:np.zeros(230) for i in cur.fetchall()}\n",
    "\n",
    "for key, file in tqdm(enumerate(files)):\n",
    "    k = 0\n",
    "    for line in open(PATH+file):\n",
    "        words = line.strip().split()\n",
    "        for word in words:\n",
    "            if word in list_of_words:\n",
    "                list_of_words[word][key] += 1\n",
    "        k += len(words)\n",
    "    counts[key] = k"
   ]
  },
  {
   "cell_type": "code",
   "execution_count": 7,
   "metadata": {
    "scrolled": false
   },
   "outputs": [],
   "source": [
    "file=open('counts.txt', 'w')\n",
    "for i in counts:\n",
    "    print(i, file=file)"
   ]
  },
  {
   "cell_type": "code",
   "execution_count": 8,
   "metadata": {},
   "outputs": [],
   "source": [
    "file = open('by_month.txt', 'w')\n",
    "for word in sorted(list_of_words, key=lambda x: sum(list_of_words[x]), reverse=True):\n",
    "    print('{}\\t{}\\t{}'.format(word, sum(list_of_words[word]), '\\t'.join([str(i) for i in list_of_words[word]])), file=file)"
   ]
  },
  {
   "cell_type": "code",
   "execution_count": 9,
   "metadata": {},
   "outputs": [],
   "source": [
    "file = open('by_month_IPM.txt', 'w')\n",
    "for word in sorted(list_of_words, key=lambda x: sum(list_of_words[x]), reverse=True):\n",
    "    print('{}\\t{}'.format(word, '\\t'.join([str(i*1000000/counts[key]) for key, i in enumerate(list_of_words[word])])), file=file)"
   ]
  },
  {
   "cell_type": "code",
   "execution_count": 10,
   "metadata": {},
   "outputs": [],
   "source": [
    "IPM = {word:list_of_words[word]/counts*1000000 for word in list_of_words}"
   ]
  },
  {
   "cell_type": "code",
   "execution_count": 11,
   "metadata": {},
   "outputs": [],
   "source": [
    "SQRT = {word: np.std(IPM[word][:-3]) for word in IPM}"
   ]
  },
  {
   "cell_type": "code",
   "execution_count": 12,
   "metadata": {},
   "outputs": [
    {
     "name": "stdout",
     "output_type": "stream",
     "text": [
      "svn 6160.87633560139\n",
      "git 4862.858612533443\n",
      "id 4568.443646408983\n",
      "merge 3432.0414915936462\n",
      "request 2745.0470378873156\n",
      "pull 2664.558339818681\n",
      "from 2313.658689869051\n",
      "update 2038.566832715145\n",
      "file 1911.1372243383375\n",
      "path 1542.1093203567614\n",
      "info 1536.3841864379747\n",
      "property 1528.8508658874846\n",
      "by 1468.1563375258775\n",
      "the 1461.689014987385\n",
      "add 1426.2239623162409\n",
      "fix 1364.1508929046554\n",
      "kind 1352.7346763994094\n",
      "to 1259.57294864792\n",
      "sign 1219.0231579274541\n",
      "test 1209.4426822853823\n",
      "off 1202.3565003822735\n",
      "branch 1161.4959968572014\n",
      "master 1047.9049049640612\n",
      "review 940.3873614737803\n",
      "be 894.3683751299532\n",
      "in 863.8025057034562\n",
      "new 858.3357768596796\n",
      "into 803.7815146228677\n",
      "trunk 794.5908227752321\n",
      "for 781.0658333458243\n",
      "bug 747.013508939917\n",
      "message 739.7916091273248\n",
      "likewise 732.0364581203434\n",
      "commit 659.1847838055712\n",
      "of 628.0204451577862\n",
      "issue 618.309045002137\n",
      "change 617.2633223795549\n",
      "revision 605.9945593838362\n",
      "on 599.6013159672077\n",
      "empty 573.2656741893137\n",
      "do 524.2375641121109\n",
      "not 523.8168781329482\n",
      "and 518.4527882416484\n",
      "am 487.7195488593319\n",
      "log 484.40451667657385\n",
      "line 471.03858691256556\n",
      "this 449.27791047734365\n",
      "function 395.1597601283973\n",
      "fixe 391.58087343428315\n",
      "use 390.2306746064376\n",
      "version 389.2564468397744\n",
      "doc 374.9049475112287\n",
      "it 370.2364862032791\n",
      "when 363.2274315906346\n",
      "remove 356.25056614443554\n",
      "translation 351.7145844559463\n",
      "action 347.79092546722785\n",
      "originally 318.9234120923671\n",
      "now 317.17899895659633\n",
      "workout 312.2467938770991\n",
      "release 310.9076269374276\n",
      "flag 296.31450696742274\n",
      "with 293.64230679624\n",
      "some 292.1006776647247\n",
      "that 287.17195519022374\n",
      "build 286.0313847437575\n",
      "rename 282.5841814449246\n",
      "committed 279.75146903014365\n",
      "as 279.2200669190388\n",
      "none 269.4987178197187\n",
      "openstack 262.62045009960815\n",
      "define 259.4420797069779\n",
      "url 258.0247273364181\n",
      "project 257.01354600010404\n",
      "if 256.07016664113354\n",
      "support 252.8618029602421\n",
      "mcs 244.16339245983136\n",
      "we 241.6049057525138\n",
      "remote 236.08157085537064\n",
      "work 236.03373752664547\n",
      "table 234.93928668678964\n",
      "feature 232.48320732523683\n",
      "import 230.8113781503915\n",
      "turn 230.46561837528307\n",
      "dev 230.1192184019934\n",
      "call 225.6658636212375\n",
      "package 224.67610930766133\n",
      "comment 222.9591807666605\n",
      "develop 222.18858076993843\n",
      "former 215.7982449936515\n",
      "bzr 214.35545261512542\n",
      "revid 212.02103810433243\n",
      "api 210.31223569393586\n",
      "de 205.51021006996277\n",
      "ok 203.26541279741144\n",
      "conflict 202.3683564705246\n",
      "plugin 197.35125798152436\n",
      "include 197.1933214375389\n",
      "link 194.86587262850463\n",
      "pr 194.71711434539264\n",
      "face 192.9066555367955\n",
      "mode 189.8480045499975\n",
      "problem 188.05090390125247\n",
      "tracking 188.01933691216328\n",
      "example 186.77230056768965\n",
      "vc 186.67233976648407\n",
      "error 185.07672595510272\n",
      "dependency 181.99665790520464\n",
      "variable 180.73966709575154\n",
      "make 178.15373110036106\n",
      "number 177.78201871868393\n",
      "improve 177.19023306929788\n",
      "modify 175.4624434025197\n",
      "method 174.8363840119275\n",
      "config 173.7576952032687\n",
      "first 172.64266227656415\n",
      "patch 172.6289907392985\n",
      "mysql 168.58287642961284\n",
      "user 167.22269672714438\n",
      "page 166.63202660682924\n",
      "via 166.3524252416487\n",
      "author 165.2712178625079\n",
      "run 164.95744819667948\n",
      "delete 164.730572164844\n",
      "more 163.6771414548828\n",
      "le 162.70704903055682\n",
      "have 162.34793756825817\n",
      "type 162.0909557511056\n",
      "buffer 161.9109701696193\n",
      "refactor 161.60830914253575\n",
      "unix 158.62108891158607\n",
      "automated 157.60606681078562\n",
      "create 157.22283582666415\n",
      "here 153.4286664343307\n",
      "svnmerge 152.3850558386241\n",
      "date 151.44157764734493\n",
      "stream 150.93353317010357\n",
      "readme 150.92813898502362\n",
      "source 149.15414121618164\n",
      "increment 145.70815957027048\n",
      "module 144.65351906696756\n",
      "move 144.23860714164\n",
      "bump 144.12569756928104\n",
      "event 143.3576046369167\n",
      "connect 143.34151683244295\n",
      "can 142.4350673403185\n",
      "f 141.46992589068918\n",
      "closes 140.95700631003456\n",
      "so 140.14214305195352\n",
      "compile 139.69060828636734\n",
      "differential 139.2205206717821\n",
      "macro 138.61590017140531\n",
      "feat 138.48251412735783\n",
      "class 137.63414861318014\n",
      "image 137.4010089484695\n",
      "code 136.3837637370229\n",
      "bit 136.18057392000986\n",
      "ndb 135.74714326613986\n",
      "chore 135.42381992488174\n",
      "open 135.16627937734043\n",
      "note 134.44637217003483\n",
      "default 134.3186252837169\n",
      "service 133.53200436844367\n",
      "unit 133.1185083520594\n",
      "app 131.81611793601817\n",
      "argument 131.65294135229593\n",
      "ddeeb 131.55077922993843\n",
      "extra 131.19278015199149\n",
      "translate 129.157610901603\n",
      "copyright 128.9565893007071\n",
      "view 128.80379167231155\n",
      "allow 128.4170449469407\n",
      "simonmar 126.4274325091222\n",
      "m 126.22202776117994\n",
      "set 125.04758122129326\n",
      "bk 124.82225303803816\n",
      "skip 124.0834474629944\n",
      "component 123.70765236410637\n",
      "lmp 123.67063711875832\n",
      "transfer 123.15913998552345\n",
      "up 122.96637823340534\n",
      "but 122.84703701459473\n",
      "get 121.74912730603032\n",
      "cd 121.37840207427467\n",
      "thanks 121.35626070923031\n",
      "will 121.33422261342535\n",
      "tramp 121.18770655108736\n",
      "compiler 120.70777495295877\n",
      "ci 118.67403806293214\n",
      "instead 118.49739674316747\n",
      "task 117.20814061860658\n",
      "header 117.13953187873301\n",
      "python 116.60880402600468\n",
      "upgrade 116.5589599091835\n",
      "list 115.22457587021195\n",
      "neptunus 115.08410504806142\n",
      "result 114.92032184310558\n",
      "only 113.60755537921976\n",
      "data 113.15219097241048\n",
      "name 112.98667235301525\n",
      "option 112.71975728696387\n",
      "stuff 112.47931783431004\n",
      "enable 111.95017762474973\n",
      "script 111.84207408957458\n",
      "state 111.52358720871243\n",
      "travis 110.73322786026701\n",
      "warning 110.54502014329299\n",
      "cc 109.50103650086824\n",
      "cvs 109.21844670411313\n",
      "revert 109.13519483444206\n",
      "bibtex 108.93004900126328\n",
      "fe 108.27256233122732\n",
      "template 108.21774002137643\n",
      "summary 107.60714029441564\n",
      "also 107.13785792559565\n",
      "node 106.75675749593161\n",
      "c 106.64489758397698\n",
      "return 105.96868247218353\n",
      "model 105.95940983922543\n",
      "prototype 105.66050597738678\n",
      "button 105.38062464611751\n",
      "server 104.59897126634439\n",
      "see 104.49242424612628\n",
      "fail 104.41902050467526\n",
      "check 104.09612057330862\n",
      "style 103.55253503714664\n",
      "take 103.05598527177645\n",
      "string 103.00754495185468\n",
      "origin 102.75132693951258\n",
      "show 102.57739948073285\n",
      "v 102.39095705092096\n",
      "lock 102.15553797893197\n",
      "about 101.97080370089871\n",
      "typo 101.13985210543683\n",
      "you 101.13561058814884\n",
      "need 101.09804614260861\n",
      "ch 100.8054075474573\n",
      "case 99.88582809285502\n",
      "window 99.75375341458371\n",
      "entry 99.57007204836387\n",
      "out 99.36321909767952\n",
      "fbshipit 98.33317705254686\n",
      "manager 97.81984012447876\n",
      "bottle 97.55396695774967\n",
      "value 97.09898389887582\n",
      "field 96.95477403616364\n",
      "block 96.53874224509386\n",
      "should 96.21064207435721\n",
      "char 96.00468677239779\n",
      "handle 95.96212237841137\n",
      "auto 95.33378949933446\n",
      "base 94.6095140017925\n",
      "crash 94.52180665045456\n",
      "arg 94.45003199305529\n",
      "at 93.52630605692521\n",
      "client 93.08735652188595\n",
      "print 93.03295992458573\n",
      "after 92.80138866769562\n",
      "spec 92.13903935607524\n",
      "b 92.037165047867\n",
      "which 92.02104561090502\n",
      "object 91.16473785440974\n",
      "close 91.11593173368988\n",
      "filter 90.7113530020941\n",
      "no 90.53446926528514\n",
      "command 89.346289611529\n",
      "core 88.81946658559421\n",
      "one 88.6101449839974\n",
      "orig 88.58571412405114\n",
      "all 88.44372162311598\n",
      "they 87.89130356336928\n",
      "last 87.85381196129623\n",
      "key 87.26359476361883\n",
      "zip 87.05553362833844\n",
      "updated 86.75575576503059\n",
      "struct 86.58418187909346\n",
      "configuration 86.52412163433044\n",
      "than 86.45510423982746\n",
      "directory 86.43838348003571\n",
      "icon 86.28557609334455\n",
      "device 86.24618389885411\n",
      "help 85.84611514021769\n",
      "documentation 85.66439565012176\n",
      "custom 84.9941673196926\n",
      "require 84.804578586338\n",
      "implement 84.59022348442402\n",
      "pass 84.55951657081373\n",
      "frame 84.20655538914335\n",
      "math 83.89025155005133\n",
      "cache 83.86161854120266\n",
      "reviewer 83.05320975499615\n",
      "swift 82.34402590734804\n",
      "content 81.73637380788308\n",
      "setting 81.3661801741557\n",
      "report 80.84996068483345\n",
      "character 80.74834584005607\n",
      "my 80.46547218577062\n",
      "calc 80.2770685982167\n",
      "insert 80.1962369200345\n",
      "install 80.0766845782589\n",
      "cleanup 79.81422360046994\n",
      "license 79.68300182057827\n",
      "docker 79.0148242974618\n",
      "upstream 78.52468051805795\n",
      "submit 78.2931898005978\n",
      "org 78.29132382008756\n",
      "charset 78.03728006183678\n",
      "nyc 77.79882909722485\n",
      "ensure 77.51500947705699\n",
      "start 77.47417457497187\n",
      "logic 77.46485308445024\n",
      "web 77.21648768488014\n",
      "row 77.09390000739654\n",
      "golang 76.65216186114095\n",
      "changelog 76.31190470008916\n",
      "font 75.72331019367815\n",
      "or 75.28899057816464\n",
      "latest 74.80495909275474\n",
      "x 74.67018518017457\n",
      "integration 74.62947511092091\n",
      "switch 74.44237415118123\n",
      "document 74.26826633019787\n",
      "container 74.16480948268187\n",
      "introduce 73.94408972127862\n",
      "estimate 73.6106575899849\n",
      "too 73.38972947211958\n",
      "end 73.37459726106422\n",
      "hour 73.01325118314836\n",
      "system 72.65348209354396\n",
      "mg 72.63101593019726\n",
      "int 72.1534969086339\n",
      "load 71.99787758278248\n",
      "backend 71.5056816460804\n",
      "upload 71.2753331103001\n",
      "resource 71.12625537417165\n",
      "rather 70.84880473416077\n",
      "context 70.46560699227336\n",
      "query 70.38967907441221\n",
      "follow 70.34987874018583\n",
      "testing 70.31856383029937\n",
      "mnc 70.17896285877835\n",
      "platform 69.77855063228415\n",
      "ours 69.45590262645776\n",
      "time 69.4472522954241\n",
      "currently 69.42339232321157\n",
      "gnus 69.26727461047034\n",
      "render 69.0309839664089\n",
      "warn 68.89629406445182\n",
      "status 68.85074688582668\n",
      "driver 68.79082808275922\n",
      "main 68.66004997783598\n",
      "go 68.4194798353262\n",
      "routine 68.39946959984849\n",
      "react 68.2804485059494\n",
      "wrong 68.0903527060677\n",
      "const 67.70910598105422\n",
      "dep 67.33536157552412\n",
      "statement 66.59297314316733\n",
      "library 66.59283253963908\n",
      "domain 66.52382428036697\n",
      "sql 66.20740491821608\n",
      "address 66.1719655124749\n",
      "tree 66.1637004303782\n",
      "column 66.13412973901025\n",
      "group 65.5365135160051\n",
      "theme 65.42062090336604\n",
      "clos 65.33239784082684\n",
      "instruction 65.26150086681356\n",
      "original 65.23169859321173\n",
      "unused 65.04341345501939\n",
      "missing 64.80696948384252\n",
      "css 64.76781706977705\n",
      "apply 64.7221765012012\n",
      "section 64.61773421888623\n",
      "mvdir 64.55321391714517\n",
      "hang 64.54905043431812\n",
      "instance 64.51512495695353\n",
      "put 64.43030240817755\n",
      "color 64.4106888609744\n",
      "helper 64.1641797657773\n",
      "resolve 64.15324177921363\n",
      "jesse 64.03336570574194\n",
      "initial 64.02282204007064\n",
      "prepare 63.93812238947405\n",
      "order 63.827326289997146\n",
      "cause 63.74240522254804\n",
      "would 63.60086422584262\n",
      "search 63.572219332449734\n",
      "form 63.55622506713273\n",
      "exception 63.46612434915103\n",
      "ticket 63.32515202148377\n",
      "head 63.20577431946762\n",
      "long 63.16964416930956\n",
      "folder 63.015786430830794\n",
      "development 62.96491159660987\n",
      "find 62.894802938821904\n",
      "memory 62.3300215163943\n",
      "definition 62.281061688072896\n",
      "next 62.08082798691762\n",
      "plan 62.07121387158187\n",
      "pointer 62.03322336998719\n",
      "host 62.00900521195449\n",
      "tag 61.88929505011405\n",
      "just 61.36213414653572\n",
      "diff 61.32952345029579\n",
      "implementation 61.283957692342995\n",
      "repo 61.27426914769195\n",
      "lint 61.203946310190936\n",
      "doublewrite 61.14129882264471\n",
      "minor 61.06209579895494\n",
      "notification 60.975536404779206\n",
      "there 60.89991358337038\n",
      "formerly 60.832837443575855\n",
      "rmail 60.64958638664469\n",
      "menu 60.55993771625081\n",
      "modified 60.54509805550637\n",
      "validation 60.37365219700779\n",
      "same 60.18245423845886\n",
      "manual 60.11854957600434\n",
      "sample 59.979543804879626\n",
      "other 59.93457817484547\n",
      "disable 59.834196346503546\n",
      "clean 59.70432803199247\n",
      "exist 59.46644466419653\n",
      "store 59.44884227830641\n",
      "multiple 59.018827241127916\n",
      "sync 58.904915774577326\n",
      "layout 58.80891616038832\n",
      "index 58.59048578779218\n",
      "small 58.534147610175495\n",
      "migration 58.31218211439013\n",
      "controller 57.72405363645849\n",
      "href 57.4936230534238\n",
      "completion 57.358635468925655\n",
      "bundle 57.256907604964056\n",
      "download 57.24373617225924\n",
      "display 57.18314617158199\n",
      "yet 57.14702815047859\n",
      "size 57.09359504686484\n",
      "reference 56.970501893284464\n",
      "github 56.951972741651076\n",
      "description 56.704247919926\n",
      "thread 56.70337844874982\n",
      "pick 56.626758843836065\n",
      "job 56.58317202000942\n",
      "torrent 56.48459879006436\n",
      "json 56.25279136417422\n",
      "copyfrom 56.16657895053979\n",
      "thing 56.14104353254138\n",
      "gcc 56.12854079973396\n",
      "accelerate 56.06635741046855\n",
      "ref 55.94142868291036\n",
      "because 55.88195337018973\n",
      "engine 55.7744028721529\n",
      "before 55.75694915545506\n",
      "admin 55.69856238676229\n",
      "http 55.548693072727076\n",
      "tool 55.48181317576278\n",
      "during 55.46009416076018\n",
      "response 55.45805226510294\n",
      "coding 55.30628816452108\n",
      "replace 55.18565170186798\n",
      "process 54.79736061704757\n",
      "parse 54.783382270387946\n",
      "better 54.60544640318924\n",
      "failure 54.49830249563163\n",
      "category 54.38810665496741\n",
      "debug 54.13835797763607\n",
      "fixing 54.11662548525928\n",
      "avoid 54.1042308793437\n",
      "p 54.00385613064389\n",
      "map 53.98712312291807\n",
      "still 53.984691984526876\n",
      "metadata 53.809213553429544\n",
      "badge 53.67637623749782\n",
      "declaration 53.57325099204972\n",
      "oops 53.569129594562156\n",
      "prevent 53.56015419327016\n",
      "format 53.43274772729688\n",
      "slime 53.37530163855372\n",
      "stable 53.31840975172457\n",
      "input 53.052681953464244\n",
      "parameter 52.78567502609146\n",
      "andrea 52.76122213516343\n",
      "drop 52.69480720556399\n",
      "byte 52.48679284299188\n",
      "forget 52.47910980665096\n",
      "iteration 52.26082339099332\n",
      "storage 52.18866982261308\n",
      "such 52.172820118909314\n",
      "edit 52.13135480294556\n",
      "ignore 52.10676775886252\n",
      "widget 52.07600116139702\n",
      "output 52.01893344379735\n",
      "provide 51.990926537540794\n",
      "provider 51.95245211612687\n",
      "read 51.92301563760891\n",
      "element 51.91164163104337\n",
      "null 51.83980195861301\n",
      "rev 51.70962333120248\n",
      "configure 51.64939629415226\n",
      "since 51.37496210997443\n",
      "queue 51.15357611211734\n",
      "connection 51.13329696400229\n",
      "correct 50.96800097891098\n",
      "extension 50.90859215920205\n",
      "deprecate 50.874385206469235\n",
      "target 50.674218326024786\n",
      "profile 50.639241495403816\n",
      "write 50.42875666744486\n",
      "hook 50.42531470407387\n",
      "generate 50.37198255060452\n",
      "free 50.29292273766536\n",
      "shellback 50.28367980018389\n",
      "coverage 50.16237111719715\n",
      "timeout 50.153849835558404\n",
      "program 50.09481893843515\n",
      "et 50.082820011316386\n",
      "checkout 50.073772482467184\n",
      "behavior 50.051672478738055\n",
      "po 49.96443312579428\n",
      "what 49.86123024979942\n",
      "step 49.84240399969939\n",
      "keyword 49.780677806590575\n",
      "cherry 49.77501974151134\n",
      "exit 49.762988576055655\n",
      "attribute 49.74199770160947\n",
      "port 49.694429437562256\n",
      "item 49.63273624977226\n",
      "submodule 49.60359909015739\n",
      "try 49.48768727219997\n",
      "product 49.37467412161561\n",
      "elmo 49.333194110651874\n",
      "network 49.25432920923658\n",
      "cast 49.249318929256994\n",
      "level 49.23525540350412\n",
      "few 49.225435386472185\n",
      "text 49.1588706200408\n",
      "void 49.10983685707386\n",
      "break 49.057479917061954\n",
      "old 48.95548502271962\n",
      "right 48.936591539658\n",
      "javascript 48.80150426621366\n",
      "str 48.69661846651955\n",
      "regexp 48.55149575713951\n",
      "rule 48.50876487073864\n",
      "parent 48.48804992557262\n",
      "tab 48.47346698653073\n",
      "array 48.42937713251012\n",
      "delet 48.40061790000928\n",
      "where 48.355032349265564\n",
      "route 48.295880818733295\n",
      "label 48.26737658586932\n",
      "like 48.22702973510609\n",
      "account 48.1711017298915\n",
      "trigger 47.801524610617555\n",
      "again 47.64642144878471\n",
      "mouse 47.59041572812151\n",
      "editor 47.53762030903266\n",
      "layer 47.50624039969678\n",
      "la 47.402870483577054\n",
      "similarly 47.30436784220241\n",
      "reflect 47.25279828827854\n",
      "comp 47.08504588824416\n",
      "publish 47.084882217598995\n",
      "sqlith 47.03494776140079\n",
      "j 46.99100931288879\n",
      "really 46.87190704372038\n",
      "mave 46.835344447241\n",
      "guide 46.793079026239546\n",
      "dict 46.76421545178333\n",
      "share 46.718093024948864\n",
      "html 46.666628447605675\n",
      "related 46.637014710683644\n",
      "interface 46.617695893911964\n",
      "performance 46.601899706238164\n",
      "send 46.44565135421881\n",
      "copy 46.395631291113006\n",
      "cluster 46.38229134630738\n",
      "bugteam 46.32087254661301\n",
      "rid 46.27385353403295\n",
      "slave 46.27093502496517\n",
      "due 46.231501857566464\n",
      "checkintest 46.21157204810496\n",
      "hide 46.19624742149074\n",
      "jb 46.1667412119924\n",
      "param 46.05285174096463\n",
      "clang 45.976862109077885\n",
      "single 45.89962219731576\n",
      "comint 45.85816084648335\n",
      "reduce 45.836934511338406\n",
      "sun 45.813486806213994\n",
      "pour 45.7671254396933\n",
      "twice 45.67178652715147\n",
      "ifdef 45.62169254548419\n",
      "wl 45.61983770651116\n",
      "npm 45.569016927304794\n",
      "post 45.53613710862763\n",
      "linux 45.48784077384036\n",
      "register 45.401927223084904\n",
      "consider 45.380350186832054\n",
      "point 45.36516201837066\n",
      "part 45.36140174542412\n",
      "compilation 45.35402975485586\n",
      "endpoint 45.2769408817287\n",
      "structure 45.244589169493985\n",
      "select 45.231254469485705\n",
      "improvement 45.14299999412488\n",
      "etc 45.10032573440988\n",
      "testcase 45.01558663401096\n",
      "gitignore 44.96367605419049\n",
      "docstring 44.88860094559634\n",
      "syntax 44.75401448824569\n",
      "bot 44.737857921269324\n",
      "resume 44.7326336209366\n",
      "look 44.555987118327145\n",
      "while 44.53522900806331\n",
      "space 44.3189317956964\n",
      "solution 44.267005653463684\n",
      "these 44.21950499053181\n",
      "startup 44.146419787269295\n",
      "separate 44.109955715061986\n",
      "leak 43.985019895726154\n",
      "noteworthy 43.93512210715259\n",
      "ibuffer 43.931668347039036\n",
      "virtual 43.888526673764304\n",
      "nick 43.794589369506475\n",
      "msgid 43.74411647047517\n",
      "rrt 43.72173543134958\n",
      "checkin 43.71626617832826\n",
      "local 43.70253663746286\n",
      "unsigned 43.67491999679202\n",
      "constant 43.65337633297548\n",
      "requirement 43.57772562334573\n",
      "msgstr 43.56403895205124\n",
      "usage 43.47857111739119\n",
      "unnecessary 43.46111238041424\n",
      "its 43.4042447786064\n",
      "symbol 43.38150396489827\n",
      "innodb 43.08271735900482\n",
      "callback 42.94763727276339\n",
      "two 42.82249931598098\n",
      "alter 42.799464582296174\n",
      "framework 42.75897137424215\n",
      "handler 42.689520682474416\n",
      "session 42.51597826087365\n",
      "database 42.49035529790449\n",
      "without 42.418676107430606\n",
      "length 42.38488626396328\n",
      "application 42.37075550260454\n",
      "far 42.328913323146764\n",
      "little 42.28744251716343\n",
      "language 42.21328692440673\n",
      "save 42.21077177530623\n",
      "stop 42.15081722071708\n",
      "sure 42.1496978158743\n",
      "patchset 42.11654263323492\n",
      "dot 42.054199910258085\n",
      "alist 41.93386973702148\n",
      "i 41.92138141251788\n",
      "previous 41.811297478451\n",
      "mention 41.68260682970917\n",
      "handling 41.678172428498314\n",
      "title 41.6410139122974\n",
      "properly 41.55792295445401\n",
      "automatic 41.5402624808968\n",
      "back 41.4950167633015\n",
      "kernel 41.45834956982675\n",
      "site 41.33530624455778\n",
      "gem 41.271362420660346\n",
      "committe 41.24304501021665\n",
      "asset 41.18140842794123\n",
      "future 41.07693644981336\n",
      "rw 41.00969570201918\n",
      "fbe 40.98208803704012\n",
      "runtime 40.946700919925895\n",
      "fixed 40.91913078044924\n",
      "demo 40.910273276701076\n",
      "src 40.86591184094814\n",
      "member 40.816733018388575\n",
      "diary 40.636904717031946\n",
      "browser 40.59857666176599\n",
      "adjust 40.55846230870376\n",
      "access 40.44189705796273\n",
      "signal 40.4254618495324\n",
      "record 40.269233789891075\n",
      "verilog 40.219202963542024\n",
      "conversion 40.09188736260459\n",
      "magic 40.048603607295696\n",
      "join 40.03398456954227\n",
      "gtk 39.98223518888888\n",
      "way 39.923499436815035\n",
      "cli 39.9051780440191\n",
      "media 39.88824577111377\n",
      "sysdep 39.88374202066731\n",
      "xx 39.85866012040316\n",
      "any 39.77618442910455\n",
      "region 39.76532408632193\n",
      "snapshot 39.59355286284903\n",
      "under 39.552023379716196\n",
      "annotation 39.51218000918626\n",
      "operation 39.4826908715266\n",
      "optimization 39.412880731062785\n",
      "location 39.346436645274665\n",
      "flow 39.28981092354791\n",
      "detail 39.25090117654033\n",
      "refactoring 39.22926988647456\n",
      "board 39.19050062970322\n",
      "true 39.16741158860649\n",
      "makefile 39.034824702505986\n",
      "recentf 38.99178443025539\n",
      "track 38.95601486460912\n",
      "sof 38.906614375207454\n",
      "indent 38.85373294507761\n",
      "invalid 38.848866087727615\n",
      "convert 38.846228828966126\n",
      "think 38.831608472259475\n",
      "binary 38.819138816312396\n",
      "allout 38.761485933391455\n",
      "tuple 38.755000443973834\n",
      "mail 38.744768760085705\n",
      "volume 38.72887682261995\n",
      "isearch 38.6489500526257\n",
      "procedure 38.633637351595404\n",
      "gallium 38.52168244688132\n",
      "ispell 38.44693337144337\n",
      "specific 38.374182907627834\n",
      "msm 38.35609777753822\n",
      "verify 38.350788924658914\n",
      "android 38.308163807824066\n",
      "yasm 38.24410783076198\n",
      "reset 38.24131834508887\n",
      "year 38.23479710668568\n",
      "lisp 38.211013110137415\n",
      "false 38.06658212774029\n",
      "each 38.039833374888985\n",
      "different 37.98611744225426\n",
      "quote 37.88437465535399\n",
      "util 37.67779777340789\n",
      "gud 37.67619467288733\n",
      "binlog 37.620129211782306\n",
      "previously 37.56403846165984\n",
      "internal 37.51357566987727\n",
      "another 37.50487927278128\n",
      "available 37.34250713114606\n",
      "accept 37.33968541486318\n",
      "mfx 37.33962877380689\n",
      "prop 37.313952615095324\n",
      "match 37.294702918368934\n",
      "throw 37.246412418223386\n",
      "gold 37.2170670405248\n",
      "renam 37.21090068496855\n",
      "environment 37.199571388707405\n",
      "transaction 37.19116530363351\n",
      "various 37.17725620472493\n",
      "extract 37.16795352799308\n",
      "lot 37.13259494458779\n",
      "hack 37.06827527897616\n",
      "unknown 37.05826020458131\n",
      "expect 37.00295389196616\n",
      "permission 36.86459238509082\n",
      "topic 36.848143345439084\n",
      "packet 36.758217163861566\n",
      "collection 36.74965040392232\n",
      "locale 36.736698244942126\n",
      "dire 36.71051361577768\n",
      "migrate 36.681904382347966\n",
      "declare 36.673736756890214\n",
      "per 36.62556774566656\n",
      "re 36.577068030012086\n",
      "through 36.566257713452295\n",
      "stack 36.49390279974012\n",
      "give 36.46269980332461\n",
      "ada 36.34014350099293\n",
      "libgimp 36.337324053205535\n",
      "blocked 36.28793565410965\n",
      "suffix 36.18430429096281\n",
      "eliminate 36.1770630419579\n",
      "correctly 36.13488204686442\n",
      "common 36.041288103243055\n",
      "mesa 36.038126192622805\n",
      "video 35.81137978263981\n",
      "var 35.7934866632743\n",
      "repair 35.7804208100668\n",
      "well 35.752031442645205\n",
      "dialog 35.746361644744766\n",
      "candidate 35.69608187192419\n",
      "batch 35.648454122440086\n",
      "calendar 35.57764394587626\n",
      "net 35.5537403014187\n",
      "metric 35.465297938399246\n",
      "arm 35.427723320383684\n",
      "public 35.39106954649158\n",
      "easier 35.35752584306894\n",
      "bar 35.30299239870226\n",
      "condition 35.243809506839874\n",
      "channel 35.19977964864673\n",
      "know 35.14449136294772\n",
      "then 35.073340053666655\n",
      "subselect 34.95413106918275\n",
      "how 34.888711941254996\n",
      "oc 34.871048561778004\n",
      "expose 34.78078182167263\n",
      "ediff 34.685463297326926\n",
      "dans 34.6835007278432\n",
      "cv 34.675036034475376\n",
      "eclair 34.66642649066843\n",
      "operator 34.58993775093648\n",
      "ui 34.54281303017208\n",
      "scope 34.53896474712238\n",
      "dir 34.538069915557195\n",
      "benchmark 34.50379686601848\n",
      "perl 34.49917273036229\n",
      "cursor 34.4472183993132\n",
      "native 34.41698429012777\n",
      "animation 34.41524352476228\n",
      "suite 34.38691545786723\n",
      "mark 34.37988283983726\n",
      "benefit 34.3405336321062\n",
      "java 34.3330018413507\n",
      "op 34.3310857703521\n",
      "en 34.32194259479796\n",
      "partition 34.25799311951855\n",
      "information 34.257940946123746\n",
      "position 34.1919975828434\n",
      "always 34.1889444612151\n",
      "current 34.119188193691464\n",
      "screen 34.073190733257675\n",
      "hash 34.06140993300801\n",
      "basic 34.0201914016759\n",
      "lib 34.01763901756896\n",
      "initialize 33.911060263764206\n",
      "feedback 33.90374310352502\n",
      "home 33.878266606425356\n",
      "pilot 33.86684976384822\n",
      "however 33.82351637255511\n",
      "static 33.821819824430364\n",
      "game 33.78951169794979\n",
      "wait 33.78124609813504\n",
      "cost 33.769427975377766\n",
      "monitor 33.763136831175146\n",
      "integrate 33.709848975899675\n",
      "duplicate 33.6992000242332\n",
      "root 33.62696132135304\n",
      "dissector 33.6210618265414\n",
      "website 33.618783849399826\n",
      "namespace 33.58271237725032\n",
      "split 33.54661104462193\n",
      "regenerate 33.52809704998084\n",
      "hotfix 33.45130197357398\n",
      "email 33.41415799222738\n",
      "generic 33.28204635117494\n",
      "signature 33.22533617399183\n",
      "place 33.21555435138587\n",
      "schema 33.15176440651408\n",
      "already 33.135128327766736\n",
      "push 33.12476692293596\n",
      "buill 33.08556378845465\n",
      "py 33.049147827212146\n",
      "init 33.01993732079807\n",
      "activity 32.96976377040612\n",
      "global 32.95930045612412\n",
      "tweak 32.91180490547447\n",
      "export 32.8591442668525\n",
      "click 32.84055144432287\n",
      "may 32.787917360816955\n",
      "marker 32.777830636134844\n",
      "security 32.76225156940399\n",
      "fast 32.75879254036753\n",
      "ability 32.729796253246306\n",
      "say 32.72272084504672\n",
      "k 32.69748176945248\n",
      "markup 32.678982447113256\n",
      "kill 32.6224782329203\n",
      "increase 32.57755873793125\n",
      "async 32.43068221570402\n",
      "count 32.42717273322279\n",
      "ac 32.38127567803446\n",
      "longer 32.36402653084247\n",
      "tty 32.31938037590929\n",
      "polly 32.282484877929946\n",
      "speed 32.260634934842614\n",
      "e 32.233475817440926\n",
      "multibyte 32.222666951469854\n",
      "worker 32.16169174795843\n",
      "deploy 32.10860736450957\n",
      "comparison 32.09813443949136\n",
      "even 32.018459395377015\n",
      "autoconf 31.983132503042103\n",
      "s 31.980526404164973\n",
      "keep 31.9712823767095\n",
      "agent 31.955061654161657\n",
      "klp 31.893286900590432\n",
      "beta 31.859368054184475\n",
      "between 31.842499462365367\n",
      "mar 31.699861719782348\n",
      "env 31.696424209874348\n",
      "pool 31.659201447968613\n",
      "possible 31.64854791128303\n",
      "creation 31.58106830132235\n",
      "additional 31.50534884034195\n",
      "parser 31.50425373369947\n",
      "t 31.49849670795952\n",
      "nil 31.47391729680222\n",
      "progress 31.4338809309471\n",
      "history 31.410028284599882\n",
      "markdown 31.406774709108383\n",
      "cloud 31.399609968897977\n",
      "repository 31.36477953660049\n",
      "correction 31.33840883594937\n",
      "qt 31.314602540676976\n",
      "andy 31.304104606046128\n",
      "io 31.26884025492145\n",
      "preview 31.264721604906896\n",
      "temporary 31.203575669518184\n",
      "could 31.201730168665186\n",
      "unknow 31.160244500715415\n",
      "describe 31.154438307749825\n",
      "please 31.125476886500532\n",
      "limit 31.12001036258561\n",
      "bogus 31.000693736723118\n",
      "around 30.97100643588319\n",
      "external 30.955480983166336\n",
      "control 30.932682567032963\n",
      "role 30.85356114804205\n",
      "raise 30.794819528152733\n",
      "background 30.677908652790503\n",
      "double 30.613870101590113\n",
      "whitespace 30.567470706498103\n",
      "override 30.56588861997294\n",
      "spell 30.522633474709995\n",
      "eshell 30.519280662611084\n",
      "console 30.494799024241996\n",
      "ca 30.44837851643581\n",
      "builder 30.337074586072838\n",
      "panne 30.328036944402857\n",
      "entity 30.2997921270614\n",
      "both 30.291252592308027\n",
      "box 30.27136706082074\n",
      "h 30.266590953717042\n",
      "expression 30.265977903705007\n",
      "incorrect 30.24053074283635\n",
      "legacy 30.221053596436175\n",
      "fill 30.198960261559005\n",
      "devel 30.168703725745466\n",
      "boot 30.163087730909638\n",
      "story 30.093968880129715\n",
      "carbon 30.065986178426808\n",
      "approve 30.061249138090623\n",
      "obtain 30.03829620113204\n",
      "wip 30.01101643860909\n",
      "panel 29.965415942714046\n",
      "force 29.959333192168636\n",
      "skin 29.932098791527928\n",
      "assertion 29.911723015773635\n",
      "own 29.88247570965927\n",
      "specify 29.83934893006207\n",
      "seem 29.816055789453387\n",
      "stat 29.789484466155685\n",
      "player 29.7781086265754\n",
      "notice 29.734921504296647\n",
      "cmake 29.72680743185111\n",
      "xml 29.52377134073411\n",
      "he 29.490921627678492\n",
      "couple 29.41896418703072\n",
      "opencog 29.41212036995639\n",
      "fication 29.409366823204635\n",
      "utf 29.394997752093385\n",
      "obsolete 29.375437110803365\n",
      "codereview 29.372113542449494\n",
      "formula 29.342113111442355\n",
      "ruby 29.311758887816033\n",
      "policy 29.306577341872725\n",
      "encoding 29.282638120372283\n",
      "height 29.27075765254079\n",
      "actually 29.24401131929863\n",
      "xscheme 29.23179561277242\n",
      "news 29.220945700410304\n",
      "bugfix 29.212092805641266\n",
      "mobile 29.18412926829148\n",
      "tcl 29.180167446992346\n",
      "deprecation 29.17906497782178\n",
      "derive 29.09583752138545\n",
      "dashboard 29.087362999192216\n",
      "standard 29.061069455477515\n",
      "pattern 29.059659953893057\n",
      "foreign 29.02875083667252\n",
      "range 28.980880861680326\n",
      "webpack 28.946995867367946\n",
      "scroll 28.946549948873006\n",
      "subject 28.936832026299292\n",
      "man 28.91247819145778\n",
      "lead 28.91215667571653\n",
      "localization 28.894325057661913\n",
      "ic 28.891123124399268\n",
      "prefix 28.89071297590565\n",
      "highlight 28.87664920875099\n",
      "embed 28.851640209599775\n",
      "depot 28.828550005390564\n",
      "mono 28.816685897947618\n",
      "collation 28.760628184013292\n",
      "committer 28.732820898940357\n",
      "os 28.724375459918974\n",
      "less 28.723426894687254\n",
      "formatte 28.721058781488157\n",
      "loop 28.675126810417567\n",
      "sci 28.636822744270166\n",
      "constructor 28.631916730543246\n",
      "sequence 28.546481478409646\n",
      "sort 28.53034232195172\n",
      "emac 28.52694019910409\n",
      "adzilla 28.513610764464396\n",
      "selection 28.50082889664514\n",
      "flush 28.480774253832934\n",
      "changeset 28.480606188408654\n",
      "nixpkg 28.47690399596489\n",
      "idle 28.402731392402316\n",
      "alias 28.40264712064215\n",
      "charmap 28.392895133100797\n",
      "fontset 28.355733993691743\n",
      "quail 28.341590749980696\n",
      "db 28.309640946125842\n",
      "primary 28.28477664157476\n",
      "login 28.23704733535303\n",
      "socket 28.22368545742274\n",
      "gdb 28.215976249506078\n",
      "over 28.18446969520251\n",
      "sgml 28.182205778410687\n",
      "graph 28.142365892062212\n",
      "many 28.113171132992683\n",
      "execute 28.073998838246226\n",
      "mysqld 28.04032314477227\n",
      "least 28.028300077037755\n",
      "modal 28.005314697479815\n",
      "innobase 27.9965344274449\n",
      "side 27.99483269858236\n",
      "extend 27.986960054364282\n",
      "much 27.954377481880247\n",
      "ba 27.897910126530125\n",
      "elf 27.890267227372536\n",
      "overflow 27.88125903181847\n",
      "failing 27.814295642585343\n",
      "book 27.752573553538003\n",
      "full 27.738936331933306\n",
      "vector 27.598843148254364\n",
      "password 27.56814164257141\n",
      "protocol 27.560010922743977\n",
      "functionality 27.538946230601695\n",
      "malloc 27.50034705718606\n",
      "word 27.47843492231208\n",
      "unicode 27.413120875974133\n",
      "predicate 27.397904981993264\n",
      "auth 27.38458169202102\n",
      "contributor 27.38405824982236\n",
      "scan 27.3514418310234\n",
      "chrome 27.332547458936034\n",
      "mirror 27.314415066231515\n",
      "debian 27.222003386636622\n",
      "forward 27.21519151342424\n",
      "regression 27.20093775817585\n",
      "sdk 27.129223646080412\n",
      "di 27.117267861099094\n",
      "loading 27.098965579913276\n",
      "psql 27.097758625052162\n",
      "want 27.09613849151268\n",
      "speedbar 27.07417557233007\n",
      "fetch 27.057401694441058\n",
      "slot 27.050663300484516\n",
      "idlwave 27.04417053062505\n",
      "tables 27.036739669059052\n",
      "bootstrap 26.97529295491019\n",
      "optional 26.90992317801926\n",
      "validate 26.890644199168396\n",
      "yes 26.83491090748523\n",
      "private 26.83145534918085\n",
      "suggest 26.81533021531045\n",
      "cosmetic 26.787203955807293\n",
      "contain 26.737828742247416\n",
      "bitmap 26.72190188447616\n",
      "top 26.611887089701238\n",
      "semantic 26.598658430885603\n",
      "toplevel 26.597760284758323\n",
      "clause 26.585736269113156\n",
      "dl 26.571100719329618\n",
      "simplify 26.5159380530363\n",
      "redirect 26.515751971823995\n",
      "filename 26.507898351278026\n",
      "vendor 26.476176432356315\n",
      "proxy 26.47160091870842\n",
      "smtpmail 26.419075413723036\n",
      "attempt 26.403917370065162\n",
      "installation 26.26928660344735\n",
      "generator 26.263843737486205\n",
      "pmail 26.258712262221426\n",
      "replication 26.24846502990775\n",
      "several 26.206790280758142\n",
      "proper 26.191573415708753\n",
      "whether 26.15909782812862\n",
      "prompt 26.158977621104697\n",
      "restore 26.0842743296209\n",
      "shell 26.062452078667185\n",
      "must 25.9776042452532\n",
      "mac 25.91365638557381\n",
      "distribution 25.912248676160164\n",
      "shader 25.910611954144475\n",
      "assert 25.90666992725769\n",
      "faq 25.874549034469467\n",
      "cell 25.85460027063242\n",
      "undefin 25.818410979922096\n",
      "effect 25.794119586496045\n",
      "usb 25.757640778054125\n",
      "flex 25.74468573327572\n",
      "ditto 25.74430906888606\n",
      "deployment 25.70112765327587\n",
      "stage 25.700320654385347\n",
      "fringe 25.689031571120605\n",
      "complete 25.62468547427686\n",
      "texture 25.59595545049298\n",
      "llvm 25.579554957803595\n",
      "rail 25.577807072424008\n",
      "cperl 25.57212520625363\n",
      "subclass 25.56973009594718\n",
      "probably 25.555466164453605\n",
      "timestamp 25.52331312855768\n",
      "explain 25.467218543284527\n",
      "metze 25.43409645218668\n",
      "docs 25.395414875616794\n",
      "let 25.389915776115355\n",
      "recent 25.365028913767112\n",
      "happen 25.35425585086584\n",
      "rangerrick 25.257219975586743\n",
      "dump 25.254612393168326\n",
      "sp 25.20297460673281\n",
      "simple 25.196034791999317\n",
      "silver 25.155705539432372\n",
      "refresh 25.14017221372842\n",
      "perlio 25.14001211609677\n",
      "idea 25.123223450997923\n",
      "selector 25.09059575380442\n",
      "pipeline 25.07040576992297\n",
      "grid 25.042946408731662\n",
      "allocate 25.041899039658553\n"
     ]
    }
   ],
   "source": [
    "for word in sorted(SQRT, key=SQRT.get, reverse=True):\n",
    "    if SQRT[word] > 25:\n",
    "        print(word, SQRT[word])\n",
    "    else:\n",
    "        break"
   ]
  },
  {
   "cell_type": "code",
   "execution_count": 14,
   "metadata": {},
   "outputs": [],
   "source": [
    "import matplotlib.pyplot as plt\n",
    "%matplotlib inline"
   ]
  },
  {
   "cell_type": "code",
   "execution_count": 24,
   "metadata": {},
   "outputs": [
    {
     "name": "stdout",
     "output_type": "stream",
     "text": [
      "release 310.9076269374276\n"
     ]
    },
    {
     "data": {
      "image/png": "[encoded data removed]",
      "text/plain": [
       "<Figure size 432x288 with 1 Axes>"
      ]
     },
     "metadata": {
      "needs_background": "light"
     },
     "output_type": "display_data"
    }
   ],
   "source": [
    "word = 'release'\n",
    "print(word, SQRT[word])\n",
    "plt.plot(range(230),list_of_words[word])\n",
    "plt.show()"
   ]
  }
 ],
 "metadata": {
  "kernelspec": {
   "display_name": "Python 3",
   "language": "python",
   "name": "python3"
  },
  "language_info": {
   "codemirror_mode": {
    "name": "ipython",
    "version": 3
   },
   "file_extension": ".py",
   "mimetype": "text/x-python",
   "name": "python",
   "nbconvert_exporter": "python",
   "pygments_lexer": "ipython3",
   "version": "3.6.7"
  }
 },
 "nbformat": 4,
 "nbformat_minor": 2
}

{
 "cells": [
  {
   "cell_type": "markdown",
   "metadata": {},
   "source": [
    "# База коммитов с гитхаба\n",
    "\n",
    "Основной код по обкачке лежит [здесь](https://github.com/dkbrz/Git_Commits/blob/master/Git.ipynb)"
   ]
  },
  {
   "cell_type": "code",
   "execution_count": 4,
   "metadata": {},
   "outputs": [],
   "source": [
    "from tqdm import tqdm_notebook as tqdm"
   ]
  },
  {
   "cell_type": "code",
   "execution_count": 2,
   "metadata": {},
   "outputs": [],
   "source": [
    "password = 'password'"
   ]
  },
  {
   "cell_type": "markdown",
   "metadata": {},
   "source": [
    "## Помещение базы из sqlite-файла на локальный MySQL сервер\n",
    "\n",
    "**старая база**\n",
    "\n",
    "Была в виде sqlite-файла, потому что в тот момент это было удобно"
   ]
  },
  {
   "cell_type": "code",
   "execution_count": 5,
   "metadata": {},
   "outputs": [],
   "source": [
    "import sqlite3\n",
    "con = sqlite3.connect('/home/glznv/DB.db')\n",
    "cur = con.cursor()"
   ]
  },
  {
   "cell_type": "markdown",
   "metadata": {},
   "source": [
    "**новая база**"
   ]
  },
  {
   "cell_type": "code",
   "execution_count": 6,
   "metadata": {},
   "outputs": [],
   "source": [
    "import mysql.connector\n",
    "\n",
    "mydb = mysql.connector.connect(\n",
    "  host=\"localhost\",\n",
    "  user=\"root\",\n",
    "  passwd=password,\n",
    "  database=\"commits_db\",\n",
    "  charset='utf8mb4')\n",
    "\n",
    "mycursor = mydb.cursor()\n",
    "\n",
    "import codecs\n",
    "codecs.register(lambda name: codecs.lookup('utf8') if name == 'utf8mb4' else None)"
   ]
  },
  {
   "cell_type": "code",
   "execution_count": 8,
   "metadata": {},
   "outputs": [
    {
     "data": {
      "text/plain": [
       "[('character_set_client', 'utf8mb4'),\n",
       " ('character_set_connection', 'utf8mb4'),\n",
       " ('character_set_database', 'utf8mb4'),\n",
       " ('character_set_filesystem', 'binary'),\n",
       " ('character_set_results', 'utf8mb4'),\n",
       " ('character_set_server', 'utf8mb4'),\n",
       " ('character_set_system', 'utf8'),\n",
       " ('collation_connection', 'utf8mb4_general_ci'),\n",
       " ('collation_database', 'utf8mb4_general_ci'),\n",
       " ('collation_server', 'utf8mb4_general_ci')]"
      ]
     },
     "execution_count": 8,
     "metadata": {},
     "output_type": "execute_result"
    }
   ],
   "source": [
    "# проверка кодировок\n",
    "mycursor.execute('SHOW VARIABLES WHERE Variable_name LIKE \"character\\_set\\_%\" OR Variable_name LIKE \"collation%\";')\n",
    "mycursor.fetchall()"
   ]
  },
  {
   "cell_type": "markdown",
   "metadata": {},
   "source": [
    "**данные юзеров**"
   ]
  },
  {
   "cell_type": "code",
   "execution_count": 8,
   "metadata": {},
   "outputs": [],
   "source": [
    "cur.execute('SELECT * FROM U')\n",
    "data = cur.fetchall()"
   ]
  },
  {
   "cell_type": "code",
   "execution_count": 9,
   "metadata": {},
   "outputs": [
    {
     "data": {
      "text/plain": [
       "630193"
      ]
     },
     "execution_count": 9,
     "metadata": {},
     "output_type": "execute_result"
    }
   ],
   "source": [
    "len(data)"
   ]
  },
  {
   "cell_type": "code",
   "execution_count": 10,
   "metadata": {},
   "outputs": [
    {
     "data": {
      "text/plain": [
       "(49, 1180335, 'kachick', 'そのへん', 226, 91, None, 245, '2011-11-08 10:38:32')"
      ]
     },
     "execution_count": 10,
     "metadata": {},
     "output_type": "execute_result"
    }
   ],
   "source": [
    "data[48]"
   ]
  },
  {
   "cell_type": "code",
   "execution_count": 11,
   "metadata": {},
   "outputs": [],
   "source": [
    "mycursor.executemany('INSERT INTO U \\\n",
    "(id, gh_id, login, location, pub_repos, followers, private_repos,following, created_at) \\\n",
    "VALUES (%s,%s,%s,%s,%s,%s,%s,%s,%s)', data)"
   ]
  },
  {
   "cell_type": "code",
   "execution_count": 12,
   "metadata": {},
   "outputs": [],
   "source": [
    "mydb.commit()"
   ]
  },
  {
   "cell_type": "markdown",
   "metadata": {},
   "source": [
    "**данные репозиториев**"
   ]
  },
  {
   "cell_type": "code",
   "execution_count": 7,
   "metadata": {},
   "outputs": [],
   "source": [
    "cur.execute('SELECT * FROM R')\n",
    "data = cur.fetchall()"
   ]
  },
  {
   "cell_type": "code",
   "execution_count": 8,
   "metadata": {},
   "outputs": [
    {
     "data": {
      "text/plain": [
       "79422"
      ]
     },
     "execution_count": 8,
     "metadata": {},
     "output_type": "execute_result"
    }
   ],
   "source": [
    "len(data)"
   ]
  },
  {
   "cell_type": "code",
   "execution_count": 9,
   "metadata": {},
   "outputs": [],
   "source": [
    "mycursor.executemany('INSERT INTO R \\\n",
    "(id, gh_id, owner, name, language, ncommits, created_at,\\\n",
    "updated_at, size, stars, subs, watchers, network_count, has_wiki,\\\n",
    "languages_url) \\\n",
    "VALUES (%s,%s,%s,%s,%s,%s,%s,%s,%s,%s,%s,%s,%s,%s,%s)', data)"
   ]
  },
  {
   "cell_type": "code",
   "execution_count": 10,
   "metadata": {},
   "outputs": [],
   "source": [
    "mydb.commit()"
   ]
  },
  {
   "cell_type": "markdown",
   "metadata": {},
   "source": [
    "**данные коммитов**"
   ]
  },
  {
   "cell_type": "code",
   "execution_count": 11,
   "metadata": {},
   "outputs": [
    {
     "data": {
      "text/plain": [
       "<sqlite3.Cursor at 0x7f39fc4cc260>"
      ]
     },
     "execution_count": 11,
     "metadata": {},
     "output_type": "execute_result"
    }
   ],
   "source": [
    "cur.execute('SELECT * FROM C')"
   ]
  },
  {
   "cell_type": "code",
   "execution_count": 12,
   "metadata": {
    "scrolled": false
   },
   "outputs": [
    {
     "name": "stdout",
     "output_type": "stream",
     "text": [
      "||||||||||||||||||||||||||||||||||||||||||||||||||||||||||||||||||||||||||"
     ]
    }
   ],
   "source": [
    "stop = False\n",
    "data = cur.fetchmany(100000)\n",
    "k = 0\n",
    "while not stop:\n",
    "    mycursor.executemany('INSERT INTO C \\\n",
    "    (id, user, repo_id, text, date) \\\n",
    "    VALUES (%s,%s,%s,%s,%s)', data)\n",
    "    k += 1\n",
    "    if k % 10 == 0: print ('|', end='')\n",
    "    mydb.commit()\n",
    "    data = cur.fetchmany(100000)\n",
    "    if len(data) == 0:\n",
    "        stop = True"
   ]
  },
  {
   "cell_type": "markdown",
   "metadata": {},
   "source": [
    "## Индексы\n",
    "\n",
    "Для более быстрого поиска нужны несколько индексов\n",
    "\n",
    "1. С: text, repo_id, user, date\n",
    "2. U: login\n",
    "3. R: "
   ]
  },
  {
   "cell_type": "markdown",
   "metadata": {},
   "source": [
    "## Что делать с базой\n",
    "\n",
    "### Часть 1. Функция типа apply в pandas. Вариант линейный"
   ]
  },
  {
   "cell_type": "code",
   "execution_count": 6,
   "metadata": {},
   "outputs": [],
   "source": [
    "mydb2 = mysql.connector.connect(\n",
    "  host=\"localhost\",\n",
    "  user=\"root\",\n",
    "  passwd=password,\n",
    "  database=\"commits_db\",\n",
    "  charset='utf8mb4')\n",
    "\n",
    "updatecursor = mydb2.cursor()"
   ]
  },
  {
   "cell_type": "code",
   "execution_count": 7,
   "metadata": {},
   "outputs": [],
   "source": [
    "n_rows = {'C': 74352960, 'R': 79422, 'U':630193}"
   ]
  },
  {
   "cell_type": "code",
   "execution_count": 8,
   "metadata": {},
   "outputs": [],
   "source": [
    "def apply(table, source, target, function, k=10000, start=0):\n",
    "    global mydb, mycursor, updatecursor, n_rows\n",
    "    n = n_rows[table]\n",
    "    update = 'UPDATE {} SET {}=%s WHERE id=%s'.format(table, target)     \n",
    "    cur = start\n",
    "    for _ in tqdm(range(start, n, k)):\n",
    "        \n",
    "        request = 'SELECT id, {} FROM {} WHERE id >= {} AND id < {}'.format(source, table, cur, cur + k)\n",
    "        mycursor.execute(request)\n",
    "        data = mycursor.fetchall()\n",
    "        result = []\n",
    "        \n",
    "        for i in tqdm(data, leave=False, desc=str(cur)):\n",
    "            result.append(tuple([function(i[1]), i[0]]))\n",
    "        updatecursor.executemany(update, result)\n",
    "        mydb2.commit()\n",
    "        \n",
    "        cur += k"
   ]
  },
  {
   "cell_type": "code",
   "execution_count": null,
   "metadata": {},
   "outputs": [],
   "source": [
    "%%time \n",
    "apply('C', 'text', 'len_char', len, k=100, start=0)\n",
    "#16682000"
   ]
  },
  {
   "cell_type": "code",
   "execution_count": 11,
   "metadata": {},
   "outputs": [],
   "source": [
    "def len_words(text):\n",
    "    return len(text.split())"
   ]
  },
  {
   "cell_type": "code",
   "execution_count": null,
   "metadata": {},
   "outputs": [],
   "source": [
    "apply('C', 'text', 'len_word', len_words, k=100, start=0)"
   ]
  },
  {
   "cell_type": "code",
   "execution_count": 8,
   "metadata": {},
   "outputs": [],
   "source": [
    "import matplotlib.pyplot as plt\n",
    "%matplotlib inline"
   ]
  },
  {
   "cell_type": "code",
   "execution_count": 9,
   "metadata": {},
   "outputs": [],
   "source": [
    "import pandas as pd"
   ]
  },
  {
   "cell_type": "code",
   "execution_count": 14,
   "metadata": {},
   "outputs": [],
   "source": [
    "def len_description(start=0, stop=200000):\n",
    "    mycursor.execute('SELECT len_word, len_char FROM C WHERE id >= {} AND id <= {}'.format(start, stop))\n",
    "    data = pd.DataFrame(mycursor.fetchall())\n",
    "    data.columns = ['len_word','len_char']\n",
    "    return data"
   ]
  },
  {
   "cell_type": "code",
   "execution_count": 15,
   "metadata": {},
   "outputs": [],
   "source": [
    "data = len_description()"
   ]
  },
  {
   "cell_type": "code",
   "execution_count": 16,
   "metadata": {},
   "outputs": [
    {
     "data": {
      "text/html": [
       "<div>\n",
       "<style scoped>\n",
       "    .dataframe tbody tr th:only-of-type {\n",
       "        vertical-align: middle;\n",
       "    }\n",
       "\n",
       "    .dataframe tbody tr th {\n",
       "        vertical-align: top;\n",
       "    }\n",
       "\n",
       "    .dataframe thead th {\n",
       "        text-align: right;\n",
       "    }\n",
       "</style>\n",
       "<table border=\"1\" class=\"dataframe\">\n",
       "  <thead>\n",
       "    <tr style=\"text-align: right;\">\n",
       "      <th></th>\n",
       "      <th>len_word</th>\n",
       "      <th>len_char</th>\n",
       "    </tr>\n",
       "  </thead>\n",
       "  <tbody>\n",
       "    <tr>\n",
       "      <th>0</th>\n",
       "      <td>11</td>\n",
       "      <td>84</td>\n",
       "    </tr>\n",
       "    <tr>\n",
       "      <th>1</th>\n",
       "      <td>2</td>\n",
       "      <td>14</td>\n",
       "    </tr>\n",
       "    <tr>\n",
       "      <th>2</th>\n",
       "      <td>34</td>\n",
       "      <td>203</td>\n",
       "    </tr>\n",
       "    <tr>\n",
       "      <th>3</th>\n",
       "      <td>9</td>\n",
       "      <td>78</td>\n",
       "    </tr>\n",
       "    <tr>\n",
       "      <th>4</th>\n",
       "      <td>142</td>\n",
       "      <td>822</td>\n",
       "    </tr>\n",
       "  </tbody>\n",
       "</table>\n",
       "</div>"
      ],
      "text/plain": [
       "   len_word  len_char\n",
       "0        11        84\n",
       "1         2        14\n",
       "2        34       203\n",
       "3         9        78\n",
       "4       142       822"
      ]
     },
     "execution_count": 16,
     "metadata": {},
     "output_type": "execute_result"
    }
   ],
   "source": [
    "data.head()"
   ]
  },
  {
   "cell_type": "code",
   "execution_count": 53,
   "metadata": {},
   "outputs": [
    {
     "data": {
      "text/plain": [
       "5     19216\n",
       "6     16885\n",
       "7     16326\n",
       "4     16123\n",
       "8     14108\n",
       "9     12168\n",
       "3     12091\n",
       "10    10687\n",
       "11     9654\n",
       "2      8228\n",
       "Name: len_word, dtype: int64"
      ]
     },
     "execution_count": 53,
     "metadata": {},
     "output_type": "execute_result"
    }
   ],
   "source": [
    "data.len_word.value_counts().head(10)"
   ]
  },
  {
   "cell_type": "code",
   "execution_count": 44,
   "metadata": {},
   "outputs": [
    {
     "data": {
      "image/png": "[encoded data removed]",
      "text/plain": [
       "<Figure size 432x288 with 1 Axes>"
      ]
     },
     "metadata": {
      "needs_background": "light"
     },
     "output_type": "display_data"
    }
   ],
   "source": [
    "k = 60\n",
    "data.len_word[data.len_word<k].plot.hist(bins=k, color='red')\n",
    "plt.xlim((0, k))\n",
    "plt.xlabel('Length (word)')\n",
    "plt.title('Commit length distribution (words)');"
   ]
  },
  {
   "cell_type": "code",
   "execution_count": 45,
   "metadata": {},
   "outputs": [
    {
     "data": {
      "image/png": "[encoded data removed]",
      "text/plain": [
       "<Figure size 432x288 with 1 Axes>"
      ]
     },
     "metadata": {
      "needs_background": "light"
     },
     "output_type": "display_data"
    }
   ],
   "source": [
    "k = 250\n",
    "data.len_char[data.len_char<k].plot.kde(color='red')\n",
    "plt.xlim((0, k))\n",
    "plt.xlabel('Length (characters)')\n",
    "plt.title('Commit length distribution (characters)');"
   ]
  },
  {
   "cell_type": "code",
   "execution_count": 50,
   "metadata": {},
   "outputs": [
    {
     "data": {
      "image/png": "[encoded data removed]",
      "text/plain": [
       "<Figure size 432x288 with 1 Axes>"
      ]
     },
     "metadata": {
      "needs_background": "light"
     },
     "output_type": "display_data"
    }
   ],
   "source": [
    "data.plot.scatter('len_word', 'len_char', color='orange')\n",
    "plt.xlim((0, 3000))\n",
    "plt.ylim((0, 20000))\n",
    "plt.title('Distribution of commit length')\n",
    "plt.xlabel('Length in words')\n",
    "plt.ylabel('Length in characters');"
   ]
  },
  {
   "cell_type": "code",
   "execution_count": 52,
   "metadata": {},
   "outputs": [
    {
     "data": {
      "text/html": [
       "<div>\n",
       "<style scoped>\n",
       "    .dataframe tbody tr th:only-of-type {\n",
       "        vertical-align: middle;\n",
       "    }\n",
       "\n",
       "    .dataframe tbody tr th {\n",
       "        vertical-align: top;\n",
       "    }\n",
       "\n",
       "    .dataframe thead th {\n",
       "        text-align: right;\n",
       "    }\n",
       "</style>\n",
       "<table border=\"1\" class=\"dataframe\">\n",
       "  <thead>\n",
       "    <tr style=\"text-align: right;\">\n",
       "      <th></th>\n",
       "      <th>len_word</th>\n",
       "      <th>len_char</th>\n",
       "    </tr>\n",
       "  </thead>\n",
       "  <tbody>\n",
       "    <tr>\n",
       "      <th>len_word</th>\n",
       "      <td>1.000000</td>\n",
       "      <td>0.958559</td>\n",
       "    </tr>\n",
       "    <tr>\n",
       "      <th>len_char</th>\n",
       "      <td>0.958559</td>\n",
       "      <td>1.000000</td>\n",
       "    </tr>\n",
       "  </tbody>\n",
       "</table>\n",
       "</div>"
      ],
      "text/plain": [
       "          len_word  len_char\n",
       "len_word  1.000000  0.958559\n",
       "len_char  0.958559  1.000000"
      ]
     },
     "execution_count": 52,
     "metadata": {},
     "output_type": "execute_result"
    }
   ],
   "source": [
    "data.corr()"
   ]
  },
  {
   "cell_type": "code",
   "execution_count": 46,
   "metadata": {},
   "outputs": [],
   "source": [
    "from utils import *\n",
    "\n",
    "UD = Model('./data/english-ewt-ud-2.3-181115.udpipe')\n",
    "\n",
    "def conllu(text):\n",
    "        #text = ' '.join(tknzr.tokenize(text))\n",
    "        sentences = UD.tokenize(text)\n",
    "        for s in sentences:\n",
    "            UD.tag(s)\n",
    "            UD.parse(s)\n",
    "        conllu = UD.write(sentences, \"conllu\")\n",
    "        return conllu"
   ]
  },
  {
   "cell_type": "code",
   "execution_count": 10,
   "metadata": {},
   "outputs": [],
   "source": [
    "#from nltk.tokenize import TweetTokenizer\n",
    "#tknzr = TweetTokenizer()"
   ]
  },
  {
   "cell_type": "code",
   "execution_count": 13,
   "metadata": {},
   "outputs": [
    {
     "name": "stdout",
     "output_type": "stream",
     "text": [
      "# newdoc\n",
      "# newpar\n",
      "# sent_id = 1\n",
      "# text = I like :))\n",
      "1\tI\tI\tPRON\tPRP\tCase=Nom|Number=Sing|Person=1|PronType=Prs\t2\tnsubj\t_\t_\n",
      "2\tlike\tlike\tVERB\tVBP\tMood=Ind|Tense=Pres|VerbForm=Fin\t0\troot\t_\t_\n",
      "3\t:)\t:)\tSYM\tNFP\t_\t2\tdiscourse\t_\tSpaceAfter=No\n",
      "4\t)\t)\tPUNCT\t-RRB-\t_\t2\tpunct\t_\t_\n",
      "\n",
      "# sent_id = 2\n",
      "# text = http://web.com\n",
      "1\thttp://web.com\thttp://web.com\tX\tADD\t_\t0\troot\t_\tSpaceAfter=No\n",
      "\n",
      "\n"
     ]
    }
   ],
   "source": [
    "print(conllu('I like :)) http://web.com'))"
   ]
  },
  {
   "cell_type": "code",
   "execution_count": null,
   "metadata": {},
   "outputs": [],
   "source": [
    "%%time \n",
    "apply('C', 'text', 'conllu', conllu, k=1000, start=16682000)\n",
    "#16682000skl = "
   ]
  },
  {
   "cell_type": "markdown",
   "metadata": {},
   "source": [
    "Всё работает, но очень долго"
   ]
  },
  {
   "cell_type": "markdown",
   "metadata": {},
   "source": [
    "## Статистика (в процессе)"
   ]
  },
  {
   "cell_type": "code",
   "execution_count": 9,
   "metadata": {},
   "outputs": [],
   "source": [
    "import matplotlib.pyplot as plt\n",
    "%matplotlib inline\n",
    "import pandas as pd"
   ]
  },
  {
   "cell_type": "code",
   "execution_count": 10,
   "metadata": {},
   "outputs": [],
   "source": [
    "def language_stat():\n",
    "    mycursor.execute('SELECT count(language), language, LEFT(created_at, 4) \\\n",
    "FROM R GROUP BY language, LEFT(created_at, 4) ORDER BY language, LEFT(created_at, 4)')\n",
    "    df = pd.DataFrame(mycursor.fetchall())\n",
    "    df.columns = ['n', 'lang', 'year']\n",
    "    return df"
   ]
  },
  {
   "cell_type": "code",
   "execution_count": 11,
   "metadata": {},
   "outputs": [],
   "source": [
    "df = language_stat()"
   ]
  },
  {
   "cell_type": "code",
   "execution_count": 12,
   "metadata": {},
   "outputs": [
    {
     "data": {
      "text/html": [
       "<div>\n",
       "<style scoped>\n",
       "    .dataframe tbody tr th:only-of-type {\n",
       "        vertical-align: middle;\n",
       "    }\n",
       "\n",
       "    .dataframe tbody tr th {\n",
       "        vertical-align: top;\n",
       "    }\n",
       "\n",
       "    .dataframe thead th {\n",
       "        text-align: right;\n",
       "    }\n",
       "</style>\n",
       "<table border=\"1\" class=\"dataframe\">\n",
       "  <thead>\n",
       "    <tr style=\"text-align: right;\">\n",
       "      <th></th>\n",
       "      <th>n</th>\n",
       "      <th>lang</th>\n",
       "      <th>year</th>\n",
       "    </tr>\n",
       "  </thead>\n",
       "  <tbody>\n",
       "    <tr>\n",
       "      <th>926</th>\n",
       "      <td>1</td>\n",
       "      <td>Yacc</td>\n",
       "      <td>2015</td>\n",
       "    </tr>\n",
       "    <tr>\n",
       "      <th>927</th>\n",
       "      <td>1</td>\n",
       "      <td>YARA</td>\n",
       "      <td>2014</td>\n",
       "    </tr>\n",
       "    <tr>\n",
       "      <th>928</th>\n",
       "      <td>1</td>\n",
       "      <td>YARA</td>\n",
       "      <td>2015</td>\n",
       "    </tr>\n",
       "    <tr>\n",
       "      <th>929</th>\n",
       "      <td>2</td>\n",
       "      <td>YARA</td>\n",
       "      <td>2016</td>\n",
       "    </tr>\n",
       "    <tr>\n",
       "      <th>930</th>\n",
       "      <td>1</td>\n",
       "      <td>YASnippet</td>\n",
       "      <td>2010</td>\n",
       "    </tr>\n",
       "  </tbody>\n",
       "</table>\n",
       "</div>"
      ],
      "text/plain": [
       "     n       lang  year\n",
       "926  1       Yacc  2015\n",
       "927  1       YARA  2014\n",
       "928  1       YARA  2015\n",
       "929  2       YARA  2016\n",
       "930  1  YASnippet  2010"
      ]
     },
     "execution_count": 12,
     "metadata": {},
     "output_type": "execute_result"
    }
   ],
   "source": [
    "df.tail()"
   ]
  },
  {
   "cell_type": "code",
   "execution_count": 13,
   "metadata": {},
   "outputs": [
    {
     "data": {
      "text/html": [
       "<div>\n",
       "<style scoped>\n",
       "    .dataframe tbody tr th:only-of-type {\n",
       "        vertical-align: middle;\n",
       "    }\n",
       "\n",
       "    .dataframe tbody tr th {\n",
       "        vertical-align: top;\n",
       "    }\n",
       "\n",
       "    .dataframe thead th {\n",
       "        text-align: right;\n",
       "    }\n",
       "</style>\n",
       "<table border=\"1\" class=\"dataframe\">\n",
       "  <thead>\n",
       "    <tr style=\"text-align: right;\">\n",
       "      <th></th>\n",
       "      <th>n</th>\n",
       "    </tr>\n",
       "    <tr>\n",
       "      <th>lang</th>\n",
       "      <th></th>\n",
       "    </tr>\n",
       "  </thead>\n",
       "  <tbody>\n",
       "    <tr>\n",
       "      <th>JavaScript</th>\n",
       "      <td>17480</td>\n",
       "    </tr>\n",
       "    <tr>\n",
       "      <th>Python</th>\n",
       "      <td>8689</td>\n",
       "    </tr>\n",
       "    <tr>\n",
       "      <th>Java</th>\n",
       "      <td>8357</td>\n",
       "    </tr>\n",
       "    <tr>\n",
       "      <th>Objective-C</th>\n",
       "      <td>3890</td>\n",
       "    </tr>\n",
       "    <tr>\n",
       "      <th>PHP</th>\n",
       "      <td>3540</td>\n",
       "    </tr>\n",
       "    <tr>\n",
       "      <th>Go</th>\n",
       "      <td>3496</td>\n",
       "    </tr>\n",
       "    <tr>\n",
       "      <th>C++</th>\n",
       "      <td>3449</td>\n",
       "    </tr>\n",
       "    <tr>\n",
       "      <th>Ruby</th>\n",
       "      <td>3379</td>\n",
       "    </tr>\n",
       "    <tr>\n",
       "      <th>C</th>\n",
       "      <td>3202</td>\n",
       "    </tr>\n",
       "    <tr>\n",
       "      <th>Swift</th>\n",
       "      <td>2222</td>\n",
       "    </tr>\n",
       "  </tbody>\n",
       "</table>\n",
       "</div>"
      ],
      "text/plain": [
       "                 n\n",
       "lang              \n",
       "JavaScript   17480\n",
       "Python        8689\n",
       "Java          8357\n",
       "Objective-C   3890\n",
       "PHP           3540\n",
       "Go            3496\n",
       "C++           3449\n",
       "Ruby          3379\n",
       "C             3202\n",
       "Swift         2222"
      ]
     },
     "execution_count": 13,
     "metadata": {},
     "output_type": "execute_result"
    }
   ],
   "source": [
    "df.groupby('lang').sum().sort_values('n', ascending=False).head(10)"
   ]
  },
  {
   "cell_type": "code",
   "execution_count": 14,
   "metadata": {},
   "outputs": [],
   "source": [
    "import numpy as np"
   ]
  },
  {
   "cell_type": "code",
   "execution_count": 15,
   "metadata": {},
   "outputs": [],
   "source": [
    "def number_of_repos_by_language(df, data, size=(10, 5,)):\n",
    "    x = list(range(2007, 2019))\n",
    "    d = []\n",
    "    labels = []\n",
    "    \n",
    "    for key in data:\n",
    "        d += [df[df.lang==key].values]\n",
    "        labels += [data[key]]\n",
    "    y = np.zeros((len(d), len (x))).tolist()\n",
    "\n",
    "    for key, i in enumerate(d):\n",
    "        for j in i:\n",
    "            y[key][int(j[2])-2007] = j[0]\n",
    "\n",
    "    plt.figure(figsize=size)\n",
    "    for key, i in enumerate(y):\n",
    "        plt.plot(x, i, label=labels[key])\n",
    "    plt.legend()\n",
    "    plt.title('Number of repositories')\n",
    "    plt.xlabel('Year')\n",
    "    plt.ylabel('Number of repositories');"
   ]
  },
  {
   "cell_type": "code",
   "execution_count": 16,
   "metadata": {},
   "outputs": [
    {
     "data": {
      "image/png": "[encoded data removed]",
      "text/plain": [
       "<Figure size 864x576 with 1 Axes>"
      ]
     },
     "metadata": {
      "needs_background": "light"
     },
     "output_type": "display_data"
    }
   ],
   "source": [
    "data = {'JavaScript':'JS', \n",
    "        'Python':'Python',\n",
    "        'Java':'Java',\n",
    "        'Objective-C':'Obj-C',\n",
    "        'PHP':'PHP',\n",
    "        'Go':'Go',\n",
    "        'C++':'C++',\n",
    "        'Ruby':'Ruby',\n",
    "        'C':'C',\n",
    "        'Swift':'Swift'\n",
    "       }\n",
    "number_of_repos_by_language(df, data, size=(12, 8,))"
   ]
  },
  {
   "cell_type": "code",
   "execution_count": 42,
   "metadata": {},
   "outputs": [],
   "source": [
    "def get_repo_commit_timeline(name, owner):\n",
    "    mycursor.execute('SELECT gh_id FROM R WHERE name = %s AND owner = %s', (name, owner,))\n",
    "    repo_id = mycursor.fetchone()[0]\n",
    "    mycursor.execute('SELECT count(id), LEFT(date, 7) FROM C WHERE repo_id = %s \\\n",
    "    GROUP BY LEFT(date, 7) ORDER BY LEFT(date, 7)', (repo_id,))\n",
    "    df = pd.DataFrame(mycursor.fetchall())\n",
    "    df.columns = ['n', 'month']\n",
    "    \n",
    "    x = list(range(0, skl.shape[0]))\n",
    "    ticks = skl.month.values\n",
    "    y = skl.n.values\n",
    "\n",
    "    plt.figure(figsize=(12, 6))\n",
    "    plt.plot(x, y, color='green')\n",
    "    plt.title('Number of commits in {}/{} repository through time'.format(owner, name))\n",
    "    plt.xlabel('Month')\n",
    "    plt.ylabel('Number of commits')\n",
    "    plt.xticks(x[::3], ticks[::3], rotation=90);"
   ]
  },
  {
   "cell_type": "code",
   "execution_count": 43,
   "metadata": {},
   "outputs": [
    {
     "name": "stdout",
     "output_type": "stream",
     "text": [
      "CPU times: user 29.2 ms, sys: 0 ns, total: 29.2 ms\n",
      "Wall time: 124 ms\n"
     ]
    },
    {
     "data": {
      "image/png": "[encoded data removed]",
      "text/plain": [
       "<Figure size 864x432 with 1 Axes>"
      ]
     },
     "metadata": {
      "needs_background": "light"
     },
     "output_type": "display_data"
    }
   ],
   "source": [
    "%%time\n",
    "get_repo_commit_timeline('scikit-learn', 'scikit-learn')"
   ]
  },
  {
   "cell_type": "markdown",
   "metadata": {},
   "source": [
    "## Обработка информации разметки"
   ]
  },
  {
   "cell_type": "code",
   "execution_count": 61,
   "metadata": {},
   "outputs": [],
   "source": [
    "MAP = {'token':1, 'lemma':2, 'upos':3, 'xpos':4, 'morpho':5, 'head':6, 'rel':7}"
   ]
  },
  {
   "cell_type": "code",
   "execution_count": 52,
   "metadata": {},
   "outputs": [],
   "source": [
    "def connlu_parse(conllu, out='gensim', mode='lemma'):\n",
    "    sentences = [i.split('\\n') for i in conllu.strip().split('\\n\\n')]\n",
    "    result = []\n",
    "    for sent in sentences:\n",
    "        result.append([])\n",
    "        for token in sent:\n",
    "            tk = token.split('\\t')\n",
    "            if len(tk) == 10:\n",
    "                result[-1].append(tk[MAP[mode]])\n",
    "    if out == 'space':\n",
    "        pass\n",
    "    elif out == 'gensim':\n",
    "        return result"
   ]
  },
  {
   "cell_type": "code",
   "execution_count": 55,
   "metadata": {},
   "outputs": [],
   "source": [
    "text = conllu('He likes :)) www.twitter.com... And other things')"
   ]
  },
  {
   "cell_type": "code",
   "execution_count": 57,
   "metadata": {},
   "outputs": [
    {
     "data": {
      "text/plain": [
       "[['he', 'like', ':)', ')', 'www.twitter.com', '...'],\n",
       " ['and', 'other', 'thing']]"
      ]
     },
     "execution_count": 57,
     "metadata": {},
     "output_type": "execute_result"
    }
   ],
   "source": [
    "connlu_parse(text, mode='lemma')"
   ]
  },
  {
   "cell_type": "code",
   "execution_count": 58,
   "metadata": {},
   "outputs": [
    {
     "data": {
      "text/plain": [
       "[['PRP', 'VBZ', 'NFP', '-RRB-', 'ADD', '.'], ['CC', 'JJ', 'NNS']]"
      ]
     },
     "execution_count": 58,
     "metadata": {},
     "output_type": "execute_result"
    }
   ],
   "source": [
    "connlu_parse(text, mode='xpos')"
   ]
  },
  {
   "cell_type": "code",
   "execution_count": 59,
   "metadata": {},
   "outputs": [
    {
     "data": {
      "text/plain": [
       "[['PRON', 'VERB', 'SYM', 'PUNCT', 'X', 'PUNCT'], ['CCONJ', 'ADJ', 'NOUN']]"
      ]
     },
     "execution_count": 59,
     "metadata": {},
     "output_type": "execute_result"
    }
   ],
   "source": [
    "connlu_parse(text, mode='upos')"
   ]
  },
  {
   "cell_type": "code",
   "execution_count": 62,
   "metadata": {},
   "outputs": [
    {
     "data": {
      "text/plain": [
       "[['nsubj', 'parataxis', 'punct', 'punct', 'root', 'punct'],\n",
       " ['cc', 'amod', 'root']]"
      ]
     },
     "execution_count": 62,
     "metadata": {},
     "output_type": "execute_result"
    }
   ],
   "source": [
    "connlu_parse(text, mode='rel')"
   ]
  },
  {
   "cell_type": "code",
   "execution_count": 66,
   "metadata": {},
   "outputs": [],
   "source": [
    "def get_some_connlu(start, stop, out='gensim', mode='lemma'):\n",
    "    mycursor.execute('SELECT conllu from C WHERE %s <= id AND id <= %s', (start, stop))\n",
    "    data = mycursor.fetchall()\n",
    "    for i in data:\n",
    "        yield connlu_parse(i[0], out=out, mode=mode)"
   ]
  },
  {
   "cell_type": "code",
   "execution_count": 68,
   "metadata": {},
   "outputs": [
    {
     "name": "stdout",
     "output_type": "stream",
     "text": [
      "[['merge', 'pull', 'request', '#', '183', 'from', 'bkeeper', '/', 'unmaintained'], ['clearly', 'state', 'the', 'project', 'status']]\n",
      "\n",
      "[['clarify', 'status']]\n",
      "\n",
      "[['fix', 'Tempfile', 'usage', 'under', 'ruby', '1.8.7'], ['there', 'be', 'no', 'third', 'argument', 'to', 'Tempfile#open', 'under', '1.8.7', '.'], ['the', 'default', 'mode', 'be', 'w', '+', 'which', 'should', 'be', 'fine', 'and', 'there', 'be', 'no', 'encoding', 'support', 'so', 'the', 'binary', 'flag', 'do', 'not', 'matter', '.']]\n",
      "\n",
      "[['merge', 'pull', 'request', '#', '157', 'from', 'github/atomic', '-object-write'], ['Atomic', 'object', 'write']]\n",
      "\n",
      "[['fsync', 'loose', 'object', 'before', 'move', 'into', 'place'], ['when', 'we', 'write', 'a', 'loose', 'object', 'to', 'disk', ',', 'we', 'simply', 'close', 'the', 'file', 'object', 'before', 'move', 'it', 'into', 'place', '.'], ['if', 'the', 'machine', 'crash', 'shortly', 'after', 'we', 'write', ',', 'the', 'contents', 'may', 'not', 'have', 'be', 'commit', 'to', 'disk', '(', 'depend', 'you', 'filesystem', ',', 'usually', 'the', 'metadata', 'be', ',', 'and', 'you', 'end', 'up', 'with', 'a', 'corrupt', ',', 'zero', '-', 'length', 'loose', 'object', 'file', ')', '.'], ['this', 'be', 'especially', 'bad', 'because', 'we', 'report', 'that', 'the', 'object', 'be', 'successfully', 'write', ',', 'which', 'mean', 'we', 'may', 'have', 'updated', 'ref', 'to', 'point', 'to', 'it', '.'], ['a', 'corrupt', 'object', 'at', 'that', 'point', 'mean', 'not', 'only', 'do', 'the', 'operation', 'fail', ',', 'but', 'the', 'repository', 'be', 'leave', 'in', 'a', 'corrupted', 'and', 'unusable', 'state', '.'], ['we', 'can', 'fix', 'this', 'by', 'call', 'fsync', 'on', 'the', 'object', 'file', 'before', 'link', 'it', 'into', 'place', '.'], ['between', 'this', 'and', 'the', 'previous', 'commit', ',', 'we', 'object', 'write', 'should', 'now', 'behave', 'exactly', 'like', \"git's\", 'internal', 'routine', '.']]\n",
      "\n",
      "[['make', 'object', 'write', 'atomic'], ['when', 'Grit', 'write', 'a', 'loose', 'object', 'via', 'the', 'LooseStorage', 'class', ',', 'it', 'just', 'open', 'the', 'object', 'file', 'and', 'start', 'writing', '.'], ['this', 'work', 'most', 'of', 'the', 'time', ',', 'but', 'can', 'be', 'a', 'problem', 'in', 'some', 'corner', 'case', ',', 'include', ':'], ['1', '.', 'if', 'another', 'process', 'try', 'to', 'write', 'the', 'same', 'object', 'simultaneously', ',', 'the', 'write', 'may', 'be', 'interleaved', 'and', 'the', 'object', 'can', 'be', 'corrupt', '.'], ['2', '.', 'if', 'another', 'process', 'try', 'to', 'read', 'the', 'object', 'simultaneously', ',', 'it', 'may', 'see', 'the', 'object', 'in', 'a', 'half', '-', 'write', 'state', '.'], ['3', '.', 'if', 'the', 'process', 'or', 'machine', 'crash', 'during', 'the', 'write', ',', 'we', 'may', 'leave', 'a', 'half', '-', 'write', 'corrupt', 'object', '.'], ['this', 'can', 'be', 'solve', 'by', 'write', 'the', 'object', 'to', 'a', 'temporary', 'file', 'and', 'link', 'it', 'into', 'place', '.'], ['this', 'be', 'the', 'same', 'strategy', 'use', 'by', 'git', 'itself', '.']]\n",
      "\n",
      "[['merge', 'pull', 'request', '#', '149', 'from', 'shepmaster', '/', 'patch', '-1'], ['correct', 'spelling', 'of', '\"', '\"', 'represent', '\"', '\"']]\n",
      "\n",
      "[['correct', 'spelling', 'of', '\"', '\"', 'represent', '\"', '\"']]\n",
      "\n",
      "[['merge', 'pull', 'request', '#', '140', 'from', 'sbryant/', 'fix_rev_parse'], ['fix', 'a', 'edge', 'case', 'in', 'rev_parse', '.']]\n",
      "\n",
      "[['fix', 'a', 'edge', 'case', 'in', 'rev_parse', '.'], ['make', 'sure', 'we', 'do', 'not', 'split', 'on', 'a', '`', 'ref:', 'path', \"'\", 'revision', '.']]\n",
      "\n"
     ]
    }
   ],
   "source": [
    "for i in get_some_connlu(1, 10):\n",
    "    print (i, end='\\n\\n')"
   ]
  },
  {
   "cell_type": "markdown",
   "metadata": {},
   "source": [
    "# Параллелизация (пока не получилось)"
   ]
  },
  {
   "cell_type": "markdown",
   "metadata": {},
   "source": [
    "## <Это первый вариант, не актуально>"
   ]
  },
  {
   "cell_type": "code",
   "execution_count": null,
   "metadata": {},
   "outputs": [],
   "source": [
    "import os\n",
    "import ipyparallel as ipp\n",
    "\n",
    "rc = ipp.Client()"
   ]
  },
  {
   "cell_type": "code",
   "execution_count": 11,
   "metadata": {},
   "outputs": [
    {
     "data": {
      "text/plain": [
       "3313"
      ]
     },
     "execution_count": 11,
     "metadata": {},
     "output_type": "execute_result"
    }
   ],
   "source": [
    "os.getpid()"
   ]
  },
  {
   "cell_type": "code",
   "execution_count": 12,
   "metadata": {},
   "outputs": [],
   "source": [
    "ar = rc[:].apply_async(os.getpid)\n",
    "pid_map = ar.get_dict()"
   ]
  },
  {
   "cell_type": "code",
   "execution_count": 14,
   "metadata": {},
   "outputs": [
    {
     "data": {
      "text/plain": [
       "{0: 3404, 1: 3406, 2: 3410, 3: 3421, 4: 3430, 5: 3434, 6: 3444}"
      ]
     },
     "execution_count": 14,
     "metadata": {},
     "output_type": "execute_result"
    }
   ],
   "source": [
    "pid_map"
   ]
  },
  {
   "cell_type": "code",
   "execution_count": 16,
   "metadata": {},
   "outputs": [],
   "source": [
    "import numpy as np"
   ]
  },
  {
   "cell_type": "code",
   "execution_count": 42,
   "metadata": {},
   "outputs": [],
   "source": [
    "def rd():\n",
    "    import numpy as np\n",
    "    print (np.random.choice([0,1,2,3,4,5,6]))"
   ]
  },
  {
   "cell_type": "code",
   "execution_count": null,
   "metadata": {},
   "outputs": [],
   "source": []
  },
  {
   "cell_type": "code",
   "execution_count": 43,
   "metadata": {},
   "outputs": [
    {
     "name": "stdout",
     "output_type": "stream",
     "text": [
      "<class 'tuple'>\n",
      "<class 'tuple'>\n",
      "<class 'tuple'>\n",
      "<class 'tuple'>\n"
     ]
    },
    {
     "data": {
      "application/vnd.jupyter.widget-view+json": {
       "model_id": "aa7ae5a1c8f9424c963a7714af331333",
       "version_major": 2,
       "version_minor": 0
      },
      "text/plain": [
       "HBox(children=(IntProgress(value=0, max=4), HTML(value='')))"
      ]
     },
     "metadata": {},
     "output_type": "display_data"
    },
    {
     "name": "stdout",
     "output_type": "stream",
     "text": [
      "\n",
      "CPU times: user 47.8 ms, sys: 16.3 ms, total: 64.2 ms\n",
      "Wall time: 2.12 s\n"
     ]
    }
   ],
   "source": [
    "%%time \n",
    "from multiprocessing import Pool\n",
    "import tqdm\n",
    "import time\n",
    "from IPython.display import clear_output\n",
    "clear_output()\n",
    "\n",
    "def _foo(*my_number):\n",
    "    print (type(my_number))\n",
    "    square = my_number[0] * my_number[0]\n",
    "    time.sleep(1)\n",
    "    #clear_output()\n",
    "    #print (square)\n",
    "    #clear_output()\n",
    "    return square \n",
    "\n",
    "if __name__ == '__main__':\n",
    "    with Pool(2) as p:\n",
    "        args = [[3,4], (4,5), (5,5), (6,5)]\n",
    "        #for i in tqdm.tqdm_notebook(p.imap(_foo, range(33)), total=33):\n",
    "        for i in tqdm.tqdm_notebook(p.starmap(_foo, args), total=len(args)):\n",
    "            #print (i)\n",
    "            #clear_output()\n",
    "            #print (i)\n",
    "            #clear_output()\n",
    "            pass"
   ]
  },
  {
   "cell_type": "code",
   "execution_count": null,
   "metadata": {},
   "outputs": [],
   "source": [
    "%%time \n",
    "from multiprocessing import Pool\n",
    "import tqdm\n",
    "import time\n",
    "from IPython.display import clear_output\n",
    "clear_output()\n",
    "\n",
    "def _foo(my_number):\n",
    "    square = my_number * my_number\n",
    "    time.sleep(1)\n",
    "    print (square)\n",
    "    clear_output()\n",
    "    return square \n",
    "\n",
    "if __name__ == '__main__':\n",
    "    with Pool(2) as p:\n",
    "        args = [()]\n",
    "        for i in tqdm.tqdm(p.imap(_foo, range(30)), total=30):\n",
    "            #print (i)\n",
    "            #clear_output()\n",
    "            print (i)\n",
    "            #clear_output()"
   ]
  },
  {
   "cell_type": "code",
   "execution_count": 27,
   "metadata": {},
   "outputs": [
    {
     "name": "stderr",
     "output_type": "stream",
     "text": [
      "Process ForkPoolWorker-202:\n",
      "Process ForkPoolWorker-204:\n",
      "Process ForkPoolWorker-203:\n",
      "Process ForkPoolWorker-201:\n",
      "Process ForkPoolWorker-206:\n",
      "Process ForkPoolWorker-208:\n",
      "Process ForkPoolWorker-205:\n",
      "Process ForkPoolWorker-207:\n",
      "Traceback (most recent call last):\n",
      "Traceback (most recent call last):\n",
      "Traceback (most recent call last):\n",
      "Traceback (most recent call last):\n",
      "  File \"/usr/lib/python3.6/multiprocessing/process.py\", line 258, in _bootstrap\n",
      "    self.run()\n",
      "Traceback (most recent call last):\n",
      "Traceback (most recent call last):\n",
      "  File \"/usr/lib/python3.6/multiprocessing/process.py\", line 258, in _bootstrap\n",
      "    self.run()\n",
      "  File \"/usr/lib/python3.6/multiprocessing/process.py\", line 258, in _bootstrap\n",
      "    self.run()\n",
      "Traceback (most recent call last):\n",
      "  File \"/usr/lib/python3.6/multiprocessing/process.py\", line 258, in _bootstrap\n",
      "    self.run()\n",
      "  File \"/usr/lib/python3.6/multiprocessing/process.py\", line 258, in _bootstrap\n",
      "    self.run()\n",
      "  File \"/usr/lib/python3.6/multiprocessing/process.py\", line 93, in run\n",
      "    self._target(*self._args, **self._kwargs)\n",
      "  File \"/usr/lib/python3.6/multiprocessing/process.py\", line 93, in run\n",
      "    self._target(*self._args, **self._kwargs)\n",
      "  File \"/usr/lib/python3.6/multiprocessing/process.py\", line 258, in _bootstrap\n",
      "    self.run()\n",
      "  File \"/usr/lib/python3.6/multiprocessing/process.py\", line 93, in run\n",
      "    self._target(*self._args, **self._kwargs)\n",
      "  File \"/usr/lib/python3.6/multiprocessing/process.py\", line 258, in _bootstrap\n",
      "    self.run()\n",
      "  File \"/usr/lib/python3.6/multiprocessing/pool.py\", line 108, in worker\n",
      "    task = get()\n",
      "  File \"/usr/lib/python3.6/multiprocessing/process.py\", line 93, in run\n",
      "    self._target(*self._args, **self._kwargs)\n",
      "  File \"/usr/lib/python3.6/multiprocessing/process.py\", line 93, in run\n",
      "    self._target(*self._args, **self._kwargs)\n",
      "  File \"/usr/lib/python3.6/multiprocessing/process.py\", line 93, in run\n",
      "    self._target(*self._args, **self._kwargs)\n",
      "  File \"/usr/lib/python3.6/multiprocessing/queues.py\", line 334, in get\n",
      "    with self._rlock:\n",
      "  File \"/usr/lib/python3.6/multiprocessing/pool.py\", line 108, in worker\n",
      "    task = get()\n",
      "  File \"/usr/lib/python3.6/multiprocessing/pool.py\", line 108, in worker\n",
      "    task = get()\n",
      "  File \"/usr/lib/python3.6/multiprocessing/pool.py\", line 108, in worker\n",
      "    task = get()\n",
      "  File \"/usr/lib/python3.6/multiprocessing/queues.py\", line 334, in get\n",
      "    with self._rlock:\n",
      "  File \"/usr/lib/python3.6/multiprocessing/process.py\", line 93, in run\n",
      "    self._target(*self._args, **self._kwargs)\n",
      "  File \"/usr/lib/python3.6/multiprocessing/pool.py\", line 108, in worker\n",
      "    task = get()\n",
      "  File \"/usr/lib/python3.6/multiprocessing/queues.py\", line 334, in get\n",
      "    with self._rlock:\n",
      "  File \"/usr/lib/python3.6/multiprocessing/pool.py\", line 108, in worker\n",
      "    task = get()\n",
      "  File \"/usr/lib/python3.6/multiprocessing/queues.py\", line 334, in get\n",
      "    with self._rlock:\n",
      "  File \"/usr/lib/python3.6/multiprocessing/queues.py\", line 334, in get\n",
      "    with self._rlock:\n",
      "  File \"/usr/lib/python3.6/multiprocessing/synchronize.py\", line 96, in __enter__\n",
      "    return self._semlock.__enter__()\n",
      "  File \"/usr/lib/python3.6/multiprocessing/synchronize.py\", line 96, in __enter__\n",
      "    return self._semlock.__enter__()\n",
      "  File \"/usr/lib/python3.6/multiprocessing/synchronize.py\", line 96, in __enter__\n",
      "    return self._semlock.__enter__()\n",
      "  File \"/usr/lib/python3.6/multiprocessing/synchronize.py\", line 96, in __enter__\n",
      "    return self._semlock.__enter__()\n",
      "  File \"/usr/lib/python3.6/multiprocessing/synchronize.py\", line 96, in __enter__\n",
      "    return self._semlock.__enter__()\n",
      "KeyboardInterrupt\n",
      "KeyboardInterrupt\n",
      "KeyboardInterrupt\n",
      "KeyboardInterrupt\n",
      "KeyboardInterrupt\n",
      "  File \"/usr/lib/python3.6/multiprocessing/pool.py\", line 108, in worker\n",
      "    task = get()\n",
      "  File \"/usr/lib/python3.6/multiprocessing/queues.py\", line 334, in get\n",
      "    with self._rlock:\n",
      "  File \"/usr/lib/python3.6/multiprocessing/queues.py\", line 334, in get\n",
      "    with self._rlock:\n",
      "  File \"/usr/lib/python3.6/multiprocessing/synchronize.py\", line 96, in __enter__\n",
      "    return self._semlock.__enter__()\n",
      "  File \"/usr/lib/python3.6/multiprocessing/synchronize.py\", line 96, in __enter__\n",
      "    return self._semlock.__enter__()\n",
      "KeyboardInterrupt\n",
      "KeyboardInterrupt\n",
      "Traceback (most recent call last):\n",
      "  File \"/usr/lib/python3.6/multiprocessing/process.py\", line 258, in _bootstrap\n",
      "    self.run()\n",
      "  File \"/usr/lib/python3.6/multiprocessing/process.py\", line 93, in run\n",
      "    self._target(*self._args, **self._kwargs)\n",
      "  File \"/usr/lib/python3.6/multiprocessing/pool.py\", line 108, in worker\n",
      "    task = get()\n",
      "  File \"/usr/lib/python3.6/multiprocessing/queues.py\", line 335, in get\n",
      "    res = self._reader.recv_bytes()\n",
      "  File \"/usr/lib/python3.6/multiprocessing/connection.py\", line 216, in recv_bytes\n",
      "    buf = self._recv_bytes(maxlength)\n",
      "  File \"/usr/lib/python3.6/multiprocessing/connection.py\", line 407, in _recv_bytes\n",
      "    buf = self._recv(4)\n",
      "  File \"/usr/lib/python3.6/multiprocessing/connection.py\", line 379, in _recv\n",
      "    chunk = read(handle, remaining)\n",
      "KeyboardInterrupt\n"
     ]
    },
    {
     "ename": "KeyboardInterrupt",
     "evalue": "",
     "output_type": "error",
     "traceback": [
      "\u001b[0;31m-------------------------------------------------\u001b[0m",
      "\u001b[0;31mKeyboardInterrupt\u001b[0mTraceback (most recent call last)",
      "\u001b[0;32m<ipython-input-27-a7998cbfdb5a>\u001b[0m in \u001b[0;36m<module>\u001b[0;34m\u001b[0m\n\u001b[1;32m     17\u001b[0m         \u001b[0;31m#for i, _ in tqdm(enumerate(p.imap_unordered(_foo, range(0, max_))), total=max_):\u001b[0m\u001b[0;34m\u001b[0m\u001b[0;34m\u001b[0m\u001b[0m\n\u001b[1;32m     18\u001b[0m         \u001b[0;31m#    pass\u001b[0m\u001b[0;34m\u001b[0m\u001b[0;34m\u001b[0m\u001b[0m\n\u001b[0;32m---> 19\u001b[0;31m         \u001b[0;32mfor\u001b[0m \u001b[0m_\u001b[0m\u001b[0;34m,\u001b[0m\u001b[0mi\u001b[0m \u001b[0;32min\u001b[0m \u001b[0mtqdm\u001b[0m\u001b[0;34m(\u001b[0m\u001b[0menumerate\u001b[0m\u001b[0;34m(\u001b[0m\u001b[0mp\u001b[0m\u001b[0;34m.\u001b[0m\u001b[0mmap\u001b[0m\u001b[0;34m(\u001b[0m\u001b[0mf\u001b[0m\u001b[0;34m,\u001b[0m \u001b[0;34m[\u001b[0m\u001b[0mtuple\u001b[0m\u001b[0;34m(\u001b[0m\u001b[0;34m[\u001b[0m\u001b[0mi\u001b[0m\u001b[0;34m]\u001b[0m\u001b[0;34m)\u001b[0m \u001b[0;32mfor\u001b[0m \u001b[0mi\u001b[0m \u001b[0;32min\u001b[0m \u001b[0mrange\u001b[0m\u001b[0;34m(\u001b[0m\u001b[0;36m10\u001b[0m\u001b[0;34m)\u001b[0m\u001b[0;34m]\u001b[0m\u001b[0;34m)\u001b[0m\u001b[0;34m)\u001b[0m\u001b[0;34m,\u001b[0m \u001b[0mtotal\u001b[0m \u001b[0;34m=\u001b[0m \u001b[0;36m10\u001b[0m\u001b[0;34m)\u001b[0m\u001b[0;34m:\u001b[0m\u001b[0;34m\u001b[0m\u001b[0m\n\u001b[0m\u001b[1;32m     20\u001b[0m             \u001b[0mprint\u001b[0m\u001b[0;34m(\u001b[0m\u001b[0mi\u001b[0m\u001b[0;34m)\u001b[0m\u001b[0;34m\u001b[0m\u001b[0m\n\u001b[1;32m     21\u001b[0m             \u001b[0mtime\u001b[0m\u001b[0;34m.\u001b[0m\u001b[0msleep\u001b[0m\u001b[0;34m(\u001b[0m\u001b[0;36m1\u001b[0m\u001b[0;34m)\u001b[0m\u001b[0;34m\u001b[0m\u001b[0m\n",
      "\u001b[0;32m~/.local/lib/python3.6/site-packages/tqdm/__init__.py\u001b[0m in \u001b[0;36mtqdm_notebook\u001b[0;34m(*args, **kwargs)\u001b[0m\n\u001b[1;32m     23\u001b[0m     \u001b[0;34m\"\"\"See tqdm._tqdm_notebook.tqdm_notebook for full documentation\"\"\"\u001b[0m\u001b[0;34m\u001b[0m\u001b[0m\n\u001b[1;32m     24\u001b[0m     \u001b[0;32mfrom\u001b[0m \u001b[0;34m.\u001b[0m\u001b[0m_tqdm_notebook\u001b[0m \u001b[0;32mimport\u001b[0m \u001b[0mtqdm_notebook\u001b[0m \u001b[0;32mas\u001b[0m \u001b[0m_tqdm_notebook\u001b[0m\u001b[0;34m\u001b[0m\u001b[0m\n\u001b[0;32m---> 25\u001b[0;31m     \u001b[0;32mreturn\u001b[0m \u001b[0m_tqdm_notebook\u001b[0m\u001b[0;34m(\u001b[0m\u001b[0;34m*\u001b[0m\u001b[0margs\u001b[0m\u001b[0;34m,\u001b[0m \u001b[0;34m**\u001b[0m\u001b[0mkwargs\u001b[0m\u001b[0;34m)\u001b[0m\u001b[0;34m\u001b[0m\u001b[0m\n\u001b[0m\u001b[1;32m     26\u001b[0m \u001b[0;34m\u001b[0m\u001b[0m\n\u001b[1;32m     27\u001b[0m \u001b[0;34m\u001b[0m\u001b[0m\n",
      "\u001b[0;32m~/.local/lib/python3.6/site-packages/tqdm/_tqdm.py\u001b[0m in \u001b[0;36m__new__\u001b[0;34m(cls, *args, **kwargs)\u001b[0m\n\u001b[1;32m    409\u001b[0m         \u001b[0;32mif\u001b[0m \u001b[0;34m\"_lock\"\u001b[0m \u001b[0;32mnot\u001b[0m \u001b[0;32min\u001b[0m \u001b[0mcls\u001b[0m\u001b[0;34m.\u001b[0m\u001b[0m__dict__\u001b[0m\u001b[0;34m:\u001b[0m\u001b[0;34m\u001b[0m\u001b[0m\n\u001b[1;32m    410\u001b[0m             \u001b[0mcls\u001b[0m\u001b[0;34m.\u001b[0m\u001b[0m_lock\u001b[0m \u001b[0;34m=\u001b[0m \u001b[0mTqdmDefaultWriteLock\u001b[0m\u001b[0;34m(\u001b[0m\u001b[0;34m)\u001b[0m\u001b[0;34m\u001b[0m\u001b[0m\n\u001b[0;32m--> 411\u001b[0;31m         \u001b[0;32mwith\u001b[0m \u001b[0mcls\u001b[0m\u001b[0;34m.\u001b[0m\u001b[0m_lock\u001b[0m\u001b[0;34m:\u001b[0m\u001b[0;34m\u001b[0m\u001b[0m\n\u001b[0m\u001b[1;32m    412\u001b[0m             \u001b[0mcls\u001b[0m\u001b[0;34m.\u001b[0m\u001b[0m_instances\u001b[0m\u001b[0;34m.\u001b[0m\u001b[0madd\u001b[0m\u001b[0;34m(\u001b[0m\u001b[0minstance\u001b[0m\u001b[0;34m)\u001b[0m\u001b[0;34m\u001b[0m\u001b[0m\n\u001b[1;32m    413\u001b[0m         \u001b[0;31m# Create the monitoring thread\u001b[0m\u001b[0;34m\u001b[0m\u001b[0;34m\u001b[0m\u001b[0m\n",
      "\u001b[0;32m~/.local/lib/python3.6/site-packages/tqdm/_tqdm.py\u001b[0m in \u001b[0;36m__enter__\u001b[0;34m(self)\u001b[0m\n\u001b[1;32m    104\u001b[0m \u001b[0;34m\u001b[0m\u001b[0m\n\u001b[1;32m    105\u001b[0m     \u001b[0;32mdef\u001b[0m \u001b[0m__enter__\u001b[0m\u001b[0;34m(\u001b[0m\u001b[0mself\u001b[0m\u001b[0;34m)\u001b[0m\u001b[0;34m:\u001b[0m\u001b[0;34m\u001b[0m\u001b[0m\n\u001b[0;32m--> 106\u001b[0;31m         \u001b[0mself\u001b[0m\u001b[0;34m.\u001b[0m\u001b[0macquire\u001b[0m\u001b[0;34m(\u001b[0m\u001b[0;34m)\u001b[0m\u001b[0;34m\u001b[0m\u001b[0m\n\u001b[0m\u001b[1;32m    107\u001b[0m \u001b[0;34m\u001b[0m\u001b[0m\n\u001b[1;32m    108\u001b[0m     \u001b[0;32mdef\u001b[0m \u001b[0m__exit__\u001b[0m\u001b[0;34m(\u001b[0m\u001b[0mself\u001b[0m\u001b[0;34m,\u001b[0m \u001b[0;34m*\u001b[0m\u001b[0mexc\u001b[0m\u001b[0;34m)\u001b[0m\u001b[0;34m:\u001b[0m\u001b[0;34m\u001b[0m\u001b[0m\n",
      "\u001b[0;32m~/.local/lib/python3.6/site-packages/tqdm/_tqdm.py\u001b[0m in \u001b[0;36macquire\u001b[0;34m(self)\u001b[0m\n\u001b[1;32m     97\u001b[0m     \u001b[0;32mdef\u001b[0m \u001b[0macquire\u001b[0m\u001b[0;34m(\u001b[0m\u001b[0mself\u001b[0m\u001b[0;34m)\u001b[0m\u001b[0;34m:\u001b[0m\u001b[0;34m\u001b[0m\u001b[0m\n\u001b[1;32m     98\u001b[0m         \u001b[0;32mfor\u001b[0m \u001b[0mlock\u001b[0m \u001b[0;32min\u001b[0m \u001b[0mself\u001b[0m\u001b[0;34m.\u001b[0m\u001b[0mlocks\u001b[0m\u001b[0;34m:\u001b[0m\u001b[0;34m\u001b[0m\u001b[0m\n\u001b[0;32m---> 99\u001b[0;31m             \u001b[0mlock\u001b[0m\u001b[0;34m.\u001b[0m\u001b[0macquire\u001b[0m\u001b[0;34m(\u001b[0m\u001b[0;34m)\u001b[0m\u001b[0;34m\u001b[0m\u001b[0m\n\u001b[0m\u001b[1;32m    100\u001b[0m \u001b[0;34m\u001b[0m\u001b[0m\n\u001b[1;32m    101\u001b[0m     \u001b[0;32mdef\u001b[0m \u001b[0mrelease\u001b[0m\u001b[0;34m(\u001b[0m\u001b[0mself\u001b[0m\u001b[0;34m)\u001b[0m\u001b[0;34m:\u001b[0m\u001b[0;34m\u001b[0m\u001b[0m\n",
      "\u001b[0;31mKeyboardInterrupt\u001b[0m: "
     ]
    }
   ],
   "source": [
    "from multiprocessing import Pool\n",
    "import time\n",
    "from tqdm import tqdm_notebook as tqdm\n",
    "\n",
    "def _foo(my_number):\n",
    "    for i in tqdm(range(0,10)):\n",
    "        time.sleep(0.5)\n",
    "        print (my_number)\n",
    "    #return square \n",
    "\n",
    "def f(x):\n",
    "    return x[0]*x[0]\n",
    "if __name__ == '__main__':\n",
    "    with Pool(processes=8) as p:\n",
    "        #max_ = 30\n",
    "        ##with tqdm(total=max_) as pbar:\n",
    "        #for i, _ in tqdm(enumerate(p.imap_unordered(_foo, range(0, max_))), total=max_):\n",
    "        #    pass\n",
    "        for _,i in tqdm(enumerate(p.map(f, [tuple([i]) for i in range(10)])), total = 10):\n",
    "            print(i)\n",
    "            time.sleep(1)"
   ]
  },
  {
   "cell_type": "code",
   "execution_count": 54,
   "metadata": {},
   "outputs": [],
   "source": [
    "import time\n",
    "import random"
   ]
  },
  {
   "cell_type": "code",
   "execution_count": 36,
   "metadata": {},
   "outputs": [],
   "source": [
    "from multiprocessing import Pool, TimeoutError\n",
    "import time\n",
    "import os\n",
    "\n",
    "def f():\n",
    "    #n = os.getpid()\n",
    "    for i in tqdm(range(0,100)):\n",
    "        time.sleep(random.randint(0,1))"
   ]
  },
  {
   "cell_type": "code",
   "execution_count": 28,
   "metadata": {},
   "outputs": [],
   "source": [
    "from tqdm import tqdm_notebook as tqdm\n",
    "import random"
   ]
  },
  {
   "cell_type": "code",
   "execution_count": null,
   "metadata": {},
   "outputs": [],
   "source": [
    "with Pool(processes=8) as pool:\n",
    "\n",
    "        ## evaluate \"f(20)\" asynchronously\n",
    "        #res = pool.apply_async(f, (20,))      # runs in *only* one process\n",
    "        #print(res.get(timeout=10000))             # prints \"400\"\n",
    "\n",
    "        ## evaluate \"os.getpid()\" asynchronously\n",
    "        #res = pool.apply_async(os.getpid, ()) # runs in *only* one process\n",
    "        #print(res.get(timeout=10000))             # prints the PID of that process\n",
    "\n",
    "        # launching multiple evaluations asynchronously *may* use more processes\n",
    "        multiple_results = [pool.apply_async(f, ()) for i in range(4)]\n",
    "        print([res.get(timeout=10000) for res in multiple_results])\n",
    "\n",
    "        # make a single worker sleep for 10 secs\n",
    "        res = pool.apply_async(time.sleep, (10,))\n",
    "        try:\n",
    "            print(res.get(timeout=10000))\n",
    "        except TimeoutError:\n",
    "            print(\"We lacked patience and got a multiprocessing.TimeoutError\")\n",
    "\n",
    "        print(\"For the moment, the pool remains available for more work\")\n",
    "\n",
    "    # exiting the 'with'-block has stopped the pool\n",
    "print(\"Now the pool is closed and no longer available\")"
   ]
  },
  {
   "cell_type": "markdown",
   "metadata": {},
   "source": [
    "#"
   ]
  },
  {
   "cell_type": "code",
   "execution_count": 1,
   "metadata": {},
   "outputs": [],
   "source": [
    "import mysql.connector\n",
    "from multiprocessing import Pool, TimeoutError\n",
    "import time\n",
    "import os\n",
    "from tqdm import tqdm_notebook as tqdm\n",
    "from funcs import *\n",
    "from IPython.display import clear_output\n",
    "clear_output()\n",
    "password = 'mandarinka'\n",
    "UD = Model('./english-ud-2.1-20180111.udpipe')\n",
    "\n",
    "pbar = None\n",
    "\n",
    "def conllu(text):\n",
    "        #text = ' '.join(tknzr.tokenize(text))\n",
    "        sentences = UD.tokenize(text)\n",
    "        for s in sentences:\n",
    "            UD.tag(s)\n",
    "            UD.parse(s)\n",
    "        conllu = UD.write(sentences, \"conllu\")\n",
    "        return conllu\n",
    "\n",
    "class ParDB:\n",
    "    def __init__(self, n_jobs=4):\n",
    "        self.nrows = {'C': 74352960, 'R': 79422, 'U':630193}\n",
    "        self.n_jobs = n_jobs\n",
    "        self.select_con = [mysql.connector.connect(host=\"localhost\",\n",
    "                                                   user=\"root\",\n",
    "                                                   passwd=password,\n",
    "                                                   database=\"commits_db\",\n",
    "                                                   charset='utf8mb4') for i in range(n_jobs)]\n",
    "        self.select_cur = [i.cursor() for i in self.select_con]\n",
    "        self.update_con = [mysql.connector.connect(host=\"localhost\",\n",
    "                                                   user=\"root\",\n",
    "                                                   passwd=password,\n",
    "                                                   database=\"commits_db\",\n",
    "                                                   charset='utf8mb4') for i in range(n_jobs)]\n",
    "        self.update_cur = [i.cursor() for i in self.update_con]\n",
    "        \n",
    "    def _one(self, start, job):\n",
    "        #start = arg[0]\n",
    "        #job = arg[1]\n",
    "        global pbar\n",
    "        request = 'SELECT id, {} FROM {} WHERE id >= {} LIMIT {}'.format(self.source, \n",
    "                                                                        self.table, \n",
    "                                                                        start, \n",
    "                                                                        self.k)\n",
    "        self.select_cur[job].execute(request)\n",
    "        data = self.select_cur[job].fetchall()\n",
    "        result = []\n",
    "        for i in data:\n",
    "            print (i)\n",
    "            result.append(tuple([self.function(i[1]), i[0]]))\n",
    "        self.update_cur[job].executemany(self.update, result)\n",
    "        self.update_con[job].commit()\n",
    "        return job\n",
    "        #print ('{}/{}'.format(start, self.nrows[self.table]))\n",
    "        #clear_output()\n",
    "    \n",
    "    def _yield_args(self):\n",
    "        for key, i in enumerate(range(self.start, self.nrows[self.table], self.k)):\n",
    "            yield (i, key % self.n_jobs)\n",
    "\n",
    "    def apply(self, table, source, target, function, k=10000, start=0, shared_model=None):\n",
    "        global pbar\n",
    "        self.table = table\n",
    "        self.source = source\n",
    "        self.target = target\n",
    "        self.function = function\n",
    "        self.k = k\n",
    "        self.start = start\n",
    "        self.update = 'UPDATE {} SET {}=%s WHERE id=%s'.format(table, target) \n",
    "        self.max_ = self.nrows[table] - start\n",
    "        \n",
    "        #pbar = tqdm(total=max_)\n",
    "        #args = list(self._yield_args())\n",
    "        #p = Pool(self.n_jobs)\n",
    "        #for i in tqdm(range(0, max_, self.k)):\n",
    "        #    #try:\n",
    "        #        A = args[i:i+self.k]\n",
    "        #        #print (i, A)\n",
    "        #        print(p.starmap(self._one, A))\n",
    "        #    #except:\n",
    "        #    #    print(args[i])\n",
    "        #    #    break\n",
    "        #p.close()\n",
    "        ##pbar.close()\n",
    "        #print ('This is the end...')"
   ]
  },
  {
   "cell_type": "code",
   "execution_count": 2,
   "metadata": {},
   "outputs": [],
   "source": [
    "DB = ParDB(n_jobs = 8)"
   ]
  },
  {
   "cell_type": "code",
   "execution_count": 3,
   "metadata": {},
   "outputs": [],
   "source": [
    "DB.apply('C', 'text', 'len_char', len, k=100, start=0)"
   ]
  },
  {
   "cell_type": "code",
   "execution_count": null,
   "metadata": {},
   "outputs": [],
   "source": [
    "        args = list(DB._yield_args())\n",
    "        p = Pool(DB.n_jobs)\n",
    "        for i in tqdm(range(0, DB.max_, DB.k)):\n",
    "            #try:\n",
    "                A = args[i:i+DB.k]\n",
    "                #print (i, A)\n",
    "                print(p.starmap(DB._one, A))\n",
    "            #except:\n",
    "            #    print(args[i])\n",
    "            #    break\n",
    "        p.close()\n",
    "        #pbar.close()\n",
    "        print ('This is the end...')"
   ]
  },
  {
   "cell_type": "code",
   "execution_count": null,
   "metadata": {},
   "outputs": [],
   "source": []
  },
  {
   "cell_type": "code",
   "execution_count": null,
   "metadata": {},
   "outputs": [],
   "source": [
    "DB.apply('C', 'text', 'conllu', conllu, k=1000, start=16682000)"
   ]
  },
  {
   "cell_type": "code",
   "execution_count": 1,
   "metadata": {},
   "outputs": [],
   "source": [
    "import mysql.connector\n",
    "from multiprocessing import Pool, TimeoutError\n",
    "import time\n",
    "import os\n",
    "from tqdm import tqdm_notebook as tqdm\n",
    "from funcs import *\n",
    "\n",
    "#UD = Model('./english-ud-2.1-20180111.udpipe')\n",
    "\n",
    "def conllu(text):\n",
    "        return text\n",
    "\n",
    "class ParDB:\n",
    "    def __init__(self):\n",
    "        pass\n",
    "        \n",
    "    def _one(self, start, job):\n",
    "        #global pbar\n",
    "        time.sleep(1)\n",
    "        #print (job, start)\n",
    "        return 1\n",
    "    \n",
    "    def _yield_args(self):\n",
    "        for i in range(0,1000):\n",
    "            yield (i, i % 8)\n",
    "\n",
    "    def apply(self):\n",
    "        #global pbar\n",
    "        max_ = 100000\n",
    "        pbar = tqdm(total=max_)\n",
    "        args = list(self._yield_args())\n",
    "        p = Pool(8)\n",
    "        p.starmap(self._one, args)\n",
    "        pool.close()\n",
    "        pbar.close()\n",
    "        print ('This is the end...')"
   ]
  },
  {
   "cell_type": "code",
   "execution_count": 2,
   "metadata": {},
   "outputs": [],
   "source": [
    "DB = ParDB()"
   ]
  },
  {
   "cell_type": "code",
   "execution_count": null,
   "metadata": {},
   "outputs": [],
   "source": [
    "DB.apply()"
   ]
  },
  {
   "cell_type": "code",
   "execution_count": null,
   "metadata": {},
   "outputs": [],
   "source": []
  },
  {
   "cell_type": "code",
   "execution_count": null,
   "metadata": {},
   "outputs": [],
   "source": []
  },
  {
   "cell_type": "code",
   "execution_count": null,
   "metadata": {},
   "outputs": [],
   "source": []
  },
  {
   "cell_type": "code",
   "execution_count": 1,
   "metadata": {},
   "outputs": [],
   "source": [
    "def conllu(text):\n",
    "        #text = ' '.join(tknzr.tokenize(text))\n",
    "        sentences = UD.tokenize(text)\n",
    "        for s in sentences:\n",
    "            UD.tag(s)\n",
    "            UD.parse(s)\n",
    "        conllu = UD.write(sentences, \"conllu\")\n",
    "        return conllu\n",
    "\n",
    "class ParDB:\n",
    "    def __init__(self, n_jobs=4):\n",
    "        self.nrows = {'C': 74352960, 'R': 79422, 'U':630193}\n",
    "        self.n_jobs = n_jobs\n",
    "        self.select_con = [mysql.connector.connect(host=\"localhost\",\n",
    "                                                   user=\"root\",\n",
    "                                                   passwd=password,\n",
    "                                                   database=\"commits_db\",\n",
    "                                                   charset='utf8mb4') for i in range(n_jobs)]\n",
    "        self.select_cur = [i.cursor() for i in self.select_con]\n",
    "        self.update_con = [mysql.connector.connect(host=\"localhost\",\n",
    "                                                   user=\"root\",\n",
    "                                                   passwd=password,\n",
    "                                                   database=\"commits_db\",\n",
    "                                                   charset='utf8mb4') for i in range(n_jobs)]\n",
    "        self.update_cur = [i.cursor() for i in self.update_con]\n",
    "    def _yield_args(self):\n",
    "        for key, i in enumerate(range(self.start, self.nrows[self.table], self.k)):\n",
    "            yield [i, key % self.n_jobs]\n",
    "        \n",
    "def _one(self, start, job):\n",
    "        #start = arg[0]\n",
    "        #job = arg[1]\n",
    "        global pbar\n",
    "        request = 'SELECT id, {} FROM {} WHERE id >= {} LIMIT {}'.format(self.source, \n",
    "                                                                        self.table, \n",
    "                                                                        start, \n",
    "                                                                        self.k)\n",
    "        self.select_cur[job].execute(request)\n",
    "        data = self.select_cur[job].fetchall()\n",
    "        result = []\n",
    "        for i in data:\n",
    "            print (i)\n",
    "            result.append(tuple([self.function(i[1]), i[0]]))\n",
    "        self.update_cur[job].executemany(self.update, result)\n",
    "        self.update_con[job].commit()\n",
    "        return job\n",
    "        #print ('{}/{}'.format(start, self.nrows[self.table]))\n",
    "        #clear_output()\n",
    "    \n",
    "\n",
    "def apply(self, table, source, target, function, k=10000, start=0, shared_model=None):\n",
    "        self.table = table\n",
    "        self.source = source\n",
    "        self.target = target\n",
    "        self.function = function\n",
    "        self.k = k\n",
    "        self.start = start\n",
    "        self.update = 'UPDATE {} SET {}=%s WHERE id=%s'.format(table, target) \n",
    "        self.max_ = self.nrows[table] - start\n",
    "        \n",
    "        pbar = tqdm(total=self.max_)\n",
    "        args = list(self._yield_args())\n",
    "        p = Pool(self.n_jobs)\n",
    "        for i in tqdm(range(0, self.max_, self.k)):\n",
    "            #try:\n",
    "                A = args[i:i+self.k]\n",
    "                B = [[self]+j for j in A]\n",
    "                #print (i, A)\n",
    "                print(p.starmap(_one, B))\n",
    "            #except:\n",
    "            #    print(args[i])\n",
    "            #    break\n",
    "        p.close()\n",
    "        #pbar.close()\n",
    "        print ('This is the end...')"
   ]
  },
  {
   "cell_type": "code",
   "execution_count": 2,
   "metadata": {},
   "outputs": [],
   "source": [
    "DB = ParDB(n_jobs = 8)"
   ]
  },
  {
   "cell_type": "code",
   "execution_count": null,
   "metadata": {},
   "outputs": [],
   "source": [
    "apply(DB, 'C', 'text', 'len_char', len, k=100, start=0)"
   ]
  },
  {
   "cell_type": "code",
   "execution_count": null,
   "metadata": {},
   "outputs": [],
   "source": []
  },
  {
   "cell_type": "code",
   "execution_count": null,
   "metadata": {},
   "outputs": [],
   "source": []
  },
  {
   "cell_type": "code",
   "execution_count": null,
   "metadata": {},
   "outputs": [],
   "source": []
  },
  {
   "cell_type": "code",
   "execution_count": 2,
   "metadata": {},
   "outputs": [],
   "source": [
    "from ipyparallel import Client\n",
    "rc = Client()\n",
    "rc.block = True\n",
    "dview = rc.load_balanced_view()"
   ]
  },
  {
   "cell_type": "code",
   "execution_count": 3,
   "metadata": {},
   "outputs": [],
   "source": [
    "%%px\n",
    "\n",
    "import mysql.connector\n",
    "password='password'\n",
    "mydb = mysql.connector.connect(\n",
    "  host=\"localhost\",\n",
    "  user=\"root\",\n",
    "  passwd=password,\n",
    "  database=\"commits_db\",\n",
    "  charset='utf8mb4')\n",
    "\n",
    "mycursor = mydb.cursor()\n",
    "\n",
    "mydb2 = mysql.connector.connect(\n",
    "  host=\"localhost\",\n",
    "  user=\"root\",\n",
    "  passwd=password,\n",
    "  database=\"commits_db\",\n",
    "  charset='utf8mb4')\n",
    "\n",
    "updatecursor = mydb2.cursor()"
   ]
  },
  {
   "cell_type": "code",
   "execution_count": 4,
   "metadata": {},
   "outputs": [],
   "source": [
    "%%px\n",
    "\n",
    "def _one(table, source, target, function, start, chunk=1000):\n",
    "    request = 'SELECT id, {} FROM {} WHERE id >= {} LIMIT {}'.format(source, table, start, chunk)\n",
    "    update = 'UPDATE {} SET {}=%s WHERE id=%s'.format(table, target) \n",
    "    mycursor.execute(request)\n",
    "    data = mycursor.fetchall()\n",
    "    result = []\n",
    "    for i in data:\n",
    "        result.append(tuple([function(i[1]), i[0]]))\n",
    "    updatecursor.executemany(update, result)\n",
    "    mydb2.commit()\n",
    "    return 1"
   ]
  },
  {
   "cell_type": "code",
   "execution_count": 5,
   "metadata": {},
   "outputs": [],
   "source": [
    "def _one(table, source, target, function, start, chunk=1000):\n",
    "    request = 'SELECT id, {} FROM {} WHERE id >= {} LIMIT {}'.format(source, table, start, chunk)\n",
    "    update = 'UPDATE {} SET {}=%s WHERE id=%s'.format(table, target) \n",
    "    mycursor.execute(request)\n",
    "    data = mycursor.fetchall()\n",
    "    result = []\n",
    "    for i in data:\n",
    "        result.append(tuple([function(i[1]), i[0]]))\n",
    "    updatecursor.executemany(update, result)\n",
    "    mydb2.commit()\n",
    "    return 1"
   ]
  },
  {
   "cell_type": "code",
   "execution_count": 6,
   "metadata": {},
   "outputs": [],
   "source": [
    "from tqdm import tqdm_notebook as tqdm\n",
    "nrows = {'C': 74352960, 'R': 79422, 'U':630193}"
   ]
  },
  {
   "cell_type": "code",
   "execution_count": 8,
   "metadata": {},
   "outputs": [
    {
     "data": {
      "application/vnd.jupyter.widget-view+json": {
       "model_id": "6b3717216bda4bd2b0cfef355b36af25",
       "version_major": 2,
       "version_minor": 0
      },
      "text/plain": [
       "HBox(children=(IntProgress(value=0, max=9295), HTML(value='')))"
      ]
     },
     "metadata": {},
     "output_type": "display_data"
    },
    {
     "name": "stdout",
     "output_type": "stream",
     "text": [
      "\n"
     ]
    }
   ],
   "source": [
    "apply(dview, 'C', 'text', 'char_len', len, 0, n_jobs=8, chunk=1000, group=100)"
   ]
  },
  {
   "cell_type": "code",
   "execution_count": 7,
   "metadata": {},
   "outputs": [],
   "source": [
    "%%px\n",
    "import sys\n",
    "sys.path.append('/home/glznv/GitHub/Git_Commits')\n",
    "from utils import *\n",
    "\n",
    "UD = Model('/home/glznv/GitHub/Git_Commits/data/english-ewt-ud-2.3-181115.udpipe')\n",
    "\n",
    "def conllu(text):\n",
    "        #text = ' '.join(tknzr.tokenize(text))\n",
    "        sentences = UD.tokenize(text)\n",
    "        for s in sentences:\n",
    "            UD.tag(s)\n",
    "            UD.parse(s)\n",
    "        conllu = UD.write(sentences, \"conllu\")\n",
    "        return conllu"
   ]
  },
  {
   "cell_type": "code",
   "execution_count": 8,
   "metadata": {},
   "outputs": [],
   "source": [
    "import sys\n",
    "sys.path.append('/home/glznv/GitHub/Git_Commits')\n",
    "from utils import *\n",
    "\n",
    "UD = Model('/home/glznv/GitHub/Git_Commits/data/english-ewt-ud-2.3-181115.udpipe')\n",
    "def conllu(text):\n",
    "        #text = ' '.join(tknzr.tokenize(text))\n",
    "        sentences = UD.tokenize(text)\n",
    "        for s in sentences:\n",
    "            UD.tag(s)\n",
    "            UD.parse(s)\n",
    "        conllu = UD.write(sentences, \"conllu\")\n",
    "        return conllu"
   ]
  },
  {
   "cell_type": "code",
   "execution_count": 9,
   "metadata": {},
   "outputs": [],
   "source": [
    "import time"
   ]
  },
  {
   "cell_type": "code",
   "execution_count": 10,
   "metadata": {},
   "outputs": [],
   "source": [
    "import math\n",
    "def apply(dview, table, source, target, function, start, n_jobs=8, chunk=1000, group=None):\n",
    "    def _yield_args():\n",
    "        for i in range(start, nrows[table], chunk):\n",
    "            yield i\n",
    "    if group is None:\n",
    "        group = n_jobs\n",
    "    args = _yield_args()\n",
    "    pbar = tqdm(total = nrows[table])\n",
    "    pbar.update(start)\n",
    "    n_iter = int(math.ceil((nrows[table] - start)/chunk/float(group)))\n",
    "    for i in range(n_iter):\n",
    "        starts = []\n",
    "        for _ in range(group):\n",
    "            try:\n",
    "                starts.append(next(args))\n",
    "            except StopIteration:\n",
    "                pass\n",
    "        k = len(starts)\n",
    "        results = dview.map(_one, [table]*k, [source]*k, [target]*k, [function]*k, starts, [chunk]*k) \n",
    "        #results = [1]*group\n",
    "        pbar.update(len(results)*chunk)\n",
    "        time.sleep(1)"
   ]
  },
  {
   "cell_type": "code",
   "execution_count": 11,
   "metadata": {},
   "outputs": [
    {
     "data": {
      "application/vnd.jupyter.widget-view+json": {
       "model_id": "725046bc64f24eccb17b7dc5719747f6",
       "version_major": 2,
       "version_minor": 0
      },
      "text/plain": [
       "HBox(children=(IntProgress(value=0, max=74352960), HTML(value='')))"
      ]
     },
     "metadata": {},
     "output_type": "display_data"
    }
   ],
   "source": [
    "apply(dview, 'C', 'text', 'conllu', conllu, 24000000, n_jobs=8, chunk=1000, group=100)"
   ]
  },
  {
   "cell_type": "markdown",
   "metadata": {},
   "source": [
    "## Small DB"
   ]
  },
  {
   "cell_type": "code",
   "execution_count": 1,
   "metadata": {},
   "outputs": [],
   "source": [
    "password = 'password'"
   ]
  },
  {
   "cell_type": "code",
   "execution_count": 2,
   "metadata": {},
   "outputs": [],
   "source": [
    "import mysql.connector\n",
    "\n",
    "mydb = mysql.connector.connect(\n",
    "  host=\"localhost\",\n",
    "  user=\"root\",\n",
    "  passwd=password,\n",
    "  database=\"small_commits_db\",\n",
    "  charset='utf8mb4')\n",
    "\n",
    "mycursor = mydb.cursor()\n",
    "\n",
    "import codecs\n",
    "codecs.register(lambda name: codecs.lookup('utf8') if name == 'utf8mb4' else None)\n",
    "\n",
    "con = mysql.connector.connect(\n",
    "  host=\"localhost\",\n",
    "  user=\"root\",\n",
    "  passwd=password,\n",
    "  database=\"commits_db\",\n",
    "  charset='utf8mb4')\n",
    "\n",
    "cur = con.cursor()"
   ]
  },
  {
   "cell_type": "code",
   "execution_count": 4,
   "metadata": {},
   "outputs": [],
   "source": [
    "cur.execute('SELECT * FROM U')\n",
    "data = cur.fetchall()\n",
    "mycursor.executemany('INSERT INTO U \\\n",
    "(id, gh_id, login, location, pub_repos, followers, private_repos,following, created_at) \\\n",
    "VALUES (%s,%s,%s,%s,%s,%s,%s,%s,%s)', data)"
   ]
  },
  {
   "cell_type": "code",
   "execution_count": 4,
   "metadata": {},
   "outputs": [],
   "source": [
    "mydb.rollback()"
   ]
  },
  {
   "cell_type": "code",
   "execution_count": 5,
   "metadata": {},
   "outputs": [],
   "source": [
    "mydb.commit()"
   ]
  },
  {
   "cell_type": "code",
   "execution_count": 6,
   "metadata": {},
   "outputs": [],
   "source": [
    "cur.execute('SELECT * FROM R')\n",
    "data = cur.fetchall()"
   ]
  },
  {
   "cell_type": "code",
   "execution_count": 7,
   "metadata": {},
   "outputs": [],
   "source": [
    "mycursor.executemany('INSERT INTO R \\\n",
    "(id, gh_id, owner, name, language, ncommits, created_at,\\\n",
    "updated_at, size, stars, subs, watchers, network_count, has_wiki,\\\n",
    "languages_url) \\\n",
    "VALUES (%s,%s,%s,%s,%s,%s,%s,%s,%s,%s,%s,%s,%s,%s,%s)', data)"
   ]
  },
  {
   "cell_type": "code",
   "execution_count": 8,
   "metadata": {},
   "outputs": [],
   "source": [
    "mydb.commit()"
   ]
  },
  {
   "cell_type": "code",
   "execution_count": 3,
   "metadata": {},
   "outputs": [],
   "source": [
    "from tqdm import tqdm_notebook as tqdm"
   ]
  },
  {
   "cell_type": "code",
   "execution_count": 4,
   "metadata": {},
   "outputs": [],
   "source": [
    "cur.execute('SELECT * FROM C LIMIT 2000000')"
   ]
  },
  {
   "cell_type": "code",
   "execution_count": 5,
   "metadata": {},
   "outputs": [
    {
     "data": {
      "application/vnd.jupyter.widget-view+json": {
       "model_id": "efec51c865404695a06d9668c78f6c22",
       "version_major": 2,
       "version_minor": 0
      },
      "text/plain": [
       "HBox(children=(IntProgress(value=0, max=2000), HTML(value='')))"
      ]
     },
     "metadata": {},
     "output_type": "display_data"
    },
    {
     "name": "stdout",
     "output_type": "stream",
     "text": [
      "\n"
     ]
    }
   ],
   "source": [
    "for i in tqdm(range(2000)):\n",
    "    data = cur.fetchmany(1000)\n",
    "    mycursor.executemany('INSERT INTO C \\\n",
    "    (id, user, repo_id, text, date, char_len, word_len, conllu) \\\n",
    "    VALUES (%s,%s,%s,%s,%s,%s,%s,%s)', data)\n",
    "    mydb.commit()"
   ]
  }
 ],
 "metadata": {
  "kernelspec": {
   "display_name": "Python 3",
   "language": "python",
   "name": "python3"
  },
  "language_info": {
   "codemirror_mode": {
    "name": "ipython",
    "version": 3
   },
   "file_extension": ".py",
   "mimetype": "text/x-python",
   "name": "python",
   "nbconvert_exporter": "python",
   "pygments_lexer": "ipython3",
   "version": "3.6.7"
  }
 },
 "nbformat": 4,
 "nbformat_minor": 2
}

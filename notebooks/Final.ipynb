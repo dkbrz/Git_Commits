{
 "cells": [
  {
   "cell_type": "markdown",
   "metadata": {},
   "source": [
    "# 2 Get commits"
   ]
  },
  {
   "cell_type": "code",
   "execution_count": null,
   "metadata": {
    "scrolled": false
   },
   "outputs": [
    {
     "name": "stdout",
     "output_type": "stream",
     "text": [
      "4073 docker-java/docker-java 1790\n"
     ]
    },
    {
     "data": {
      "application/vnd.jupyter.widget-view+json": {
       "model_id": "78245f96c048483c81935f746f4ca51a",
       "version_major": 2,
       "version_minor": 0
      },
      "text/plain": [
       "HBox(children=(IntProgress(value=1, bar_style='info', max=1), HTML(value='')))"
      ]
     },
     "metadata": {},
     "output_type": "display_data"
    }
   ],
   "source": [
    "get_commits()"
   ]
  },
  {
   "cell_type": "code",
   "execution_count": 1,
   "metadata": {},
   "outputs": [],
   "source": [
    "import re\n",
    "import time\n",
    "import datetime\n",
    "from tqdm import tqdm_notebook as tqdm\n",
    "from IPython.display import clear_output\n",
    "\n",
    "import sqlite3\n",
    "con = sqlite3.connect('git.db')\n",
    "write = con.cursor()\n",
    "get = con.cursor()\n",
    "\n",
    "from github import Github\n",
    "user = 'dkbrz'\n",
    "password = 'mandarinka24'\n",
    "g = Github(user, password)\n"
   ]
  },
  {
   "cell_type": "code",
   "execution_count": 23,
   "metadata": {},
   "outputs": [
    {
     "data": {
      "text/plain": [
       "34"
      ]
     },
     "execution_count": 23,
     "metadata": {},
     "output_type": "execute_result"
    }
   ],
   "source": [
    "(g.get_rate_limit().core.reset).minute"
   ]
  },
  {
   "cell_type": "code",
   "execution_count": 2,
   "metadata": {},
   "outputs": [],
   "source": [
    "class Repo:\n",
    "    \n",
    "    def __init__(self, R, count):\n",
    "        self.name = R.name\n",
    "        self.owner = R.owner.login\n",
    "        self.full = R.full_name\n",
    "        self.language = R.language\n",
    "        self.lang_url = R.languages_url\n",
    "        self.network = R.network_count\n",
    "        self.stars = R.stargazers_count\n",
    "        self.subs = R.subscribers_count\n",
    "        self.watch = R.watchers_count\n",
    "        self.created = R.created_at\n",
    "        self.updated = R.updated_at\n",
    "        self.size = R.size\n",
    "        self.has_wiki = int(R.has_wiki)\n",
    "        self.commit = count\n",
    "        \n",
    "    def __str__(self):\n",
    "        return 'INSERT into R (name, owner, full, language, lang_url, network, stars, subs, \\\n",
    "        watch, created, updated, size, wiki, n_commits) \\\n",
    "        VALUES (\\\"{}\\\",\\\"{}\\\",\\\"{}\\\",\\\"{}\\\",\\\"{}\\\",{},{},{},{},\\\"{}\\\",\\\"{}\\\",{},{},{})'.format(\n",
    "            str(self.name),\n",
    "            str(self.owner),\n",
    "            str(self.full),\n",
    "            str(self.language),\n",
    "            str(self.lang_url),\n",
    "            str(self.network),\n",
    "            str(self.stars),\n",
    "            str(self.subs),\n",
    "            str(self.watch),\n",
    "            str(self.created),\n",
    "            str(self.updated),\n",
    "            str(self.size),\n",
    "            str(self.has_wiki),\n",
    "            str(self.commit)\n",
    "            )\n",
    "\n",
    "class Commit:\n",
    "    \n",
    "    def __init__(self, C, name):\n",
    "        try:\n",
    "            self.user = C.author.login\n",
    "        except:\n",
    "            try:\n",
    "                self.user = C.committer.login\n",
    "            except:\n",
    "                self.user = ''\n",
    "        self.date = C.commit.author.date\n",
    "        self.message = C.commit.message.strip().replace('\"','\"\"').replace('\\'','\\'\\'').replace('\\\\','\\\\\\\\')\n",
    "        self.message = re.sub('-{2,}','\\-\\-', self.message)\n",
    "        self.repo = name\n",
    "        \n",
    "    def __str__(self):\n",
    "        return 'INSERT into C (user, full, date, message) \\\n",
    "        VALUES (\\\"{}\\\",\\\"{}\\\",\\\"{}\\\",\\\"{}\\\")'.format(\n",
    "            str(self.user),\n",
    "            str(self.repo),\n",
    "            str(self.date),\n",
    "            str(self.message)\n",
    "            )\n",
    "\n",
    "def get_commits():\n",
    "    global get, write\n",
    "    k = 0\n",
    "    for line in open('full.txt','r'):\n",
    "        name = line.strip()\n",
    "        clear_output()\n",
    "        try:\n",
    "            Rate = g.get_rate_limit().core\n",
    "            if Rate.remaining < 5:\n",
    "                time.sleep((Rate.reset - datetime.datetime.utcnow()).seconds+1)\n",
    "            R = g.get_repo(name)\n",
    "            C = R.get_commits()\n",
    "            count = C.totalCount\n",
    "            if R.fork:\n",
    "                print ('fork!')\n",
    "                break\n",
    "            else:\n",
    "                print (k, line.strip(), count)\n",
    "                if count > 480000: \n",
    "                    print ('Too much!')\n",
    "                    with open ('log.txt', 'a') as f:\n",
    "                        f.write('{}\\t{}\\n'.format(name, str(count)))\n",
    "                else:\n",
    "                    Rate = g.get_rate_limit().core\n",
    "                    if count // 100 + 3 >= Rate.remaining:\n",
    "                        print ('Well, lets wait!', str(Rate.reset))\n",
    "                        time.sleep((Rate.reset - datetime.datetime.utcnow()).seconds+1)\n",
    "                        C = R.get_commits()\n",
    "                    write.execute('BEGIN TRANSACTION;')\n",
    "                    C._PaginatedList__requester.per_page = 100\n",
    "                    if count > 50000:\n",
    "                        with open('./queries/{}.txt'.format(name.replace('/','-')), 'w') as statement:\n",
    "                            statement.write('BEGIN TRANSACTION;\\n')\n",
    "                            for commit in tqdm(C):\n",
    "                                query = str(Commit(commit, name))\n",
    "                                statement.write(re.sub('-{2,}','\\-\\-',query)+';\\n')\n",
    "                            #statement.write('END TRANSACTION;\\n')\n",
    "                    elif count > 10000:\n",
    "                        with open('insert.txt', 'w') as statement:\n",
    "                            for commit in tqdm(C):\n",
    "                                query = str(Commit(commit, name))\n",
    "                                statement.write(re.sub('-{2,}','\\-\\-',query)+';\\n')\n",
    "                        with open('insert.txt', 'r') as statement:\n",
    "                            query = statement.read()\n",
    "                            write.executescript(query)\n",
    "                            print ('Well done!')\n",
    "                            del query\n",
    "                    else:\n",
    "                        for commit in tqdm(C):\n",
    "                            query = str(Commit(commit, name))\n",
    "                            write.execute(query)\n",
    "                    query = str(Repo(R, count))\n",
    "                    write.execute(query)\n",
    "                    con.commit()     \n",
    "                    del C, R\n",
    "                k += 1\n",
    "        except:\n",
    "            con.rollback() \n",
    "            print ('Something is wrong! {}', name)\n",
    "            time.sleep(5)\n",
    "            with open ('except.txt','a') as f:\n",
    "                f.write(name+'\\n')"
   ]
  },
  {
   "cell_type": "code",
   "execution_count": null,
   "metadata": {},
   "outputs": [],
   "source": [
    "datetime.datetime.strptime('2012-09-04 21:54:08', '%Y-%m-%d %H:%M:%S')"
   ]
  },
  {
   "cell_type": "markdown",
   "metadata": {},
   "source": [
    "# 3 Get Users"
   ]
  },
  {
   "cell_type": "code",
   "execution_count": null,
   "metadata": {
    "collapsed": true
   },
   "outputs": [],
   "source": [
    "class User:\n",
    "    \n",
    "    def __init__(self, U):\n",
    "        self.user = U.author.login\n",
    "        self.date = U.created_at\n",
    "        self.location = U.location\n",
    "        self.private = U.owner_private_repos\n",
    "        self.public = U.public_repos\n",
    "        \n",
    "    def __str__(self):\n",
    "        return 'INSERT into U (user, date, location, private, public) \\\n",
    "        VALUES (\\\"{}\\\",\\\"{}\\\",\\\"{}\\\",{},{})'.format(\n",
    "            str(self.user),\n",
    "            str(self.date),\n",
    "            str(self.location),\n",
    "            str(self.private),\n",
    "            str(self.public)\n",
    "            )"
   ]
  },
  {
   "cell_type": "code",
   "execution_count": null,
   "metadata": {
    "collapsed": true
   },
   "outputs": [],
   "source": [
    "def get_users():\n",
    "    name_cur.execute('SELECT DISTINCT user FROM R')\n",
    "    name = name.fetchone()\n",
    "    k = 1\n",
    "    while name:\n",
    "        U = g.get_user(name[0])\n",
    "        Rate = g.get_rate_limit().core\n",
    "        query = str(User(U))\n",
    "        write.execute(query)\n",
    "        con.commit()\n",
    "        Rate = g.get_rate_limit().core\n",
    "        if Rate.remaining < 5:\n",
    "            time.sleep((Rate.reset - datetime.datetime.utcnow()).seconds+1)\n",
    "        if k % 1000: \n",
    "            print ('{}\\t{}'.format(k, str(datetime.datetime.now())[11:19]))\n",
    "        k += 1 "
   ]
  },
  {
   "cell_type": "markdown",
   "metadata": {},
   "source": [
    "# 1 Get repos"
   ]
  },
  {
   "cell_type": "code",
   "execution_count": 4,
   "metadata": {},
   "outputs": [],
   "source": [
    "import sqlite3\n",
    "con = sqlite3.connect('git.db')\n",
    "cur = con.cursor()\n",
    "\n",
    "import datetime\n",
    "\n",
    "from tqdm import tqdm_notebook as tqdm\n",
    "\n",
    "from github import Github\n",
    "\n",
    "g = Github(\"dkbrz\", \"mandarinka24\")\n",
    "\n",
    "import time\n",
    "from IPython.display import clear_output\n",
    "\n",
    "def dates():\n",
    "    for i in range(2012, 2019):\n",
    "        for j in range(1, 13):\n",
    "            w = '0'+str(j)\n",
    "            w = str(i)+'-'+w[-2:]\n",
    "            if w > '2012-10': \n",
    "                yield w\n",
    "\n",
    "def download_repo_info():\n",
    "    global g, con, cur\n",
    "    for date in tqdm(list(dates())):\n",
    "        try:\n",
    "            C = g.search_repositories('stars:>200 created:{}'.format(date), sort='stars', order='desc')\n",
    "            C._PaginatedList__requester.per_page = 100\n",
    "            count = C.totalCount\n",
    "            print (date, count)\n",
    "            Rate = g.get_rate_limit()\n",
    "            core = Rate.core\n",
    "            search = Rate.search\n",
    "            if count//100 + 3 >= search.remaining:\n",
    "                'Sleepy'\n",
    "                time.sleep((Rate.search.reset - datetime.datetime.utcnow()).seconds+1)\n",
    "            cur.execute('BEGIN TRANSACTION;')\n",
    "            for repo in C:\n",
    "                name = repo.full_name\n",
    "                query = 'INSERT into Repos (full, date) VALUES (\\\"{}\\\",\\\"{}\\\")'.format(str(name), str(date))\n",
    "                cur.execute(query)\n",
    "            con.commit()\n",
    "        except:\n",
    "            con.rollback()\n",
    "            time.sleep(10)\n",
    "            C = g.search_repositories('stars:>200 created:{}'.format(date), sort='stars', order='desc')\n",
    "            C._PaginatedList__requester.per_page = 100\n",
    "            count = C.totalCount\n",
    "            print (date, count)\n",
    "            Rate = g.get_rate_limit()\n",
    "            core = Rate.core\n",
    "            search = Rate.search\n",
    "            if count//100 + 3 >= search.remaining:\n",
    "                'Sleepy'\n",
    "                time.sleep((Rate.search.reset - datetime.datetime.utcnow()).seconds+1)\n",
    "            cur.execute('BEGIN TRANSACTION;')\n",
    "            for repo in C:\n",
    "                name = repo.full_name\n",
    "                query = 'INSERT into Repos (full, date) VALUES (\\\"{}\\\",\\\"{}\\\")'.format(str(name), str(date))\n",
    "                cur.execute(query)\n",
    "            con.commit()\n",
    "        clear_output()\n",
    "        clear_output()"
   ]
  },
  {
   "cell_type": "code",
   "execution_count": 5,
   "metadata": {},
   "outputs": [
    {
     "name": "stdout",
     "output_type": "stream",
     "text": [
      "\n"
     ]
    }
   ],
   "source": [
    "download_repo_info()"
   ]
  }
 ],
 "metadata": {
  "kernelspec": {
   "display_name": "Python 3",
   "language": "python",
   "name": "python3"
  },
  "language_info": {
   "codemirror_mode": {
    "name": "ipython",
    "version": 3
   },
   "file_extension": ".py",
   "mimetype": "text/x-python",
   "name": "python",
   "nbconvert_exporter": "python",
   "pygments_lexer": "ipython3",
   "version": "3.6.6"
  }
 },
 "nbformat": 4,
 "nbformat_minor": 2
}

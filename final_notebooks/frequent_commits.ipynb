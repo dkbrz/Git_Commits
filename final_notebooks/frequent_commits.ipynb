{
 "cells": [
  {
   "cell_type": "code",
   "execution_count": 1,
   "metadata": {},
   "outputs": [],
   "source": [
    "import warnings\n",
    "warnings.filterwarnings(\"ignore\")\n",
    "from collections import defaultdict\n",
    "from tqdm.autonotebook import tqdm\n",
    "#import pandas as pd\n",
    "import mysql.connector\n",
    "import codecs\n",
    "codecs.register(lambda name: codecs.lookup('utf8') if name == 'utf8mb4' else None)\n",
    "import re\n",
    "import conllu"
   ]
  },
  {
   "cell_type": "code",
   "execution_count": 2,
   "metadata": {},
   "outputs": [],
   "source": [
    "db = mysql.connector.connect(\n",
    "  host=\"localhost\",\n",
    "  user=\"root\",\n",
    "  passwd='password',\n",
    "  database='commits_db',\n",
    "  charset='utf8mb4')\n",
    "\n",
    "cur = db.cursor()"
   ]
  },
  {
   "cell_type": "code",
   "execution_count": 3,
   "metadata": {},
   "outputs": [],
   "source": [
    "def yield_pos_short():\n",
    "    #mycursor.execute('SELECT conllu, language FROM C LEFT JOIN R ON C.repo_id=R.gh_id LIMIT 1000;')\n",
    "    cur.execute('SELECT conllu FROM C')\n",
    "    text = cur.fetchone()\n",
    "    while text:\n",
    "        #doc = conllu.parse(text[0])\n",
    "        doc = re.findall('sent_id', text[0])\n",
    "        if len(doc) == 1:\n",
    "            doc = conllu.parse(text[0])\n",
    "            if len(doc[0].tokens) <= 20:\n",
    "                yield ' '.join([i['upostag'] for i in doc[0].tokens]), ' '.join([i['deprel'] for i in doc[0].tokens])\n",
    "        text = cur.fetchone()"
   ]
  },
  {
   "cell_type": "code",
   "execution_count": 4,
   "metadata": {},
   "outputs": [
    {
     "data": {
      "application/vnd.jupyter.widget-view+json": {
       "model_id": "1acb6dabb03f4f06b45dfc13b26953da",
       "version_major": 2,
       "version_minor": 0
      },
      "text/plain": [
       "HBox(children=(IntProgress(value=1, bar_style='info', max=1), HTML(value='')))"
      ]
     },
     "metadata": {},
     "output_type": "display_data"
    },
    {
     "name": "stdout",
     "output_type": "stream",
     "text": [
      "\n"
     ]
    }
   ],
   "source": [
    "file = open('/home/glznv/pos_short_commits2.txt', 'w')\n",
    "file2 = open('/home/glznv/rel_short_commits2.txt', 'w')\n",
    "for text in tqdm(yield_pos_short()):\n",
    "    print(text[0], file=file)\n",
    "    print(text[1], file=file2)"
   ]
  },
  {
   "cell_type": "code",
   "execution_count": 5,
   "metadata": {},
   "outputs": [],
   "source": [
    "def yield_2plus_short(first, latter):\n",
    "    #mycursor.execute('SELECT conllu, language FROM C LEFT JOIN R ON C.repo_id=R.gh_id LIMIT 1000;')\n",
    "    cur.execute('SELECT conllu FROM C')\n",
    "    text = cur.fetchone()\n",
    "    while text:\n",
    "        #doc = conllu.parse(text[0])\n",
    "        doc = re.findall('sent_id', text[0])\n",
    "        if len(doc) > 1:\n",
    "            doc = conllu.parse(text[0])\n",
    "            if len(doc[0]) > 1:\n",
    "                f = ' '.join([i['deprel'] for i in doc[0].tokens])\n",
    "                s = '\\n'.join([' '.join([i['deprel'] for i in d.tokens]) for d in doc[1:]])\n",
    "                print(f, file=first)\n",
    "                print(s, file=latter)\n",
    "                yield 1\n",
    "        text = cur.fetchone()"
   ]
  },
  {
   "cell_type": "code",
   "execution_count": 6,
   "metadata": {},
   "outputs": [
    {
     "data": {
      "application/vnd.jupyter.widget-view+json": {
       "model_id": "fe4c4094a35e475abbf270530add86ee",
       "version_major": 2,
       "version_minor": 0
      },
      "text/plain": [
       "HBox(children=(IntProgress(value=1, bar_style='info', max=1), HTML(value='')))"
      ]
     },
     "metadata": {},
     "output_type": "display_data"
    },
    {
     "name": "stdout",
     "output_type": "stream",
     "text": [
      "\n"
     ]
    }
   ],
   "source": [
    "first = open('/home/glznv/2plus_0.txt', 'w')\n",
    "latter = open('/home/glznv/2plus_next.txt', 'w')\n",
    "for text in tqdm(yield_2plus_short(first, latter)):\n",
    "    pass"
   ]
  }
 ],
 "metadata": {
  "kernelspec": {
   "display_name": "Python 3",
   "language": "python",
   "name": "python3"
  },
  "language_info": {
   "codemirror_mode": {
    "name": "ipython",
    "version": 3
   },
   "file_extension": ".py",
   "mimetype": "text/x-python",
   "name": "python",
   "nbconvert_exporter": "python",
   "pygments_lexer": "ipython3",
   "version": "3.5.2"
  }
 },
 "nbformat": 4,
 "nbformat_minor": 2
}
